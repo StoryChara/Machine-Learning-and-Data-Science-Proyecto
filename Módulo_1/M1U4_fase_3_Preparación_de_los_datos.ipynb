{
  "nbformat": 4,
  "nbformat_minor": 0,
  "metadata": {
    "colab": {
      "provenance": [],
      "collapsed_sections": [
        "eKbLoRwzucRb",
        "370e4a5d",
        "fdb4c33d",
        "tyO_ZInyAafB",
        "7H1egAzkS0JU",
        "4939a447",
        "5BVAoJ51TAJC"
      ],
      "include_colab_link": true
    },
    "kernelspec": {
      "name": "python3",
      "display_name": "Python 3"
    },
    "language_info": {
      "name": "python"
    }
  },
  "cells": [
    {
      "cell_type": "markdown",
      "metadata": {
        "id": "view-in-github",
        "colab_type": "text"
      },
      "source": [
        "<a href=\"https://colab.research.google.com/github/StoryChara/Machine-Learning-and-Data-Science-Proyecto/blob/main/M%C3%B3dulo_1/M1U4_fase_3_Preparaci%C3%B3n_de_los_datos.ipynb\" target=\"_parent\"><img src=\"https://colab.research.google.com/assets/colab-badge.svg\" alt=\"Open In Colab\"/></a>"
      ]
    },
    {
      "cell_type": "markdown",
      "source": [
        "<img src = \"https://drive.google.com/uc?export=view&id=1ljiY7gV0TKs3nnTMPA5UBdED8KGzzZnX\" alt = \"Encabezado MLDS\" width = \"100%\">  </img>"
      ],
      "metadata": {
        "id": "2qrgS_sCJquS"
      }
    },
    {
      "cell_type": "code",
      "source": [
        "import numpy as np\n",
        "import pandas as pd\n",
        "from google.colab import files\n",
        "import scipy"
      ],
      "metadata": {
        "id": "N9gjwk6GSPYs"
      },
      "execution_count": null,
      "outputs": []
    },
    {
      "cell_type": "markdown",
      "metadata": {
        "id": "eKbLoRwzucRb"
      },
      "source": [
        "## **Integrantes del equipo de trabajo**\n",
        "---\n"
      ]
    },
    {
      "cell_type": "markdown",
      "metadata": {
        "id": "ky3M7hrYucRb"
      },
      "source": [
        "1. Maria Jose Jara Herrera       - mjarah@unal.edu.co     - C.C 1.030.522.845\n",
        "2. Gian Karlo Lanziano Baracaldo - glanziano@unal.edu.co  - C.C 1.001.316.483\n",
        "3. John Jairo Riaño Martinez     - jorianom@unal.edu.co   - C.C 1.118.576.135"
      ]
    },
    {
      "cell_type": "markdown",
      "source": [
        "# **Entendimiento del negocio**\n",
        "---"
      ],
      "metadata": {
        "id": "--22KSZzLR-o"
      }
    },
    {
      "cell_type": "markdown",
      "metadata": {
        "id": "w2fwJpnBUkMV"
      },
      "source": [
        "## **1. Marco de Proyecto**\n",
        "---\n",
        "\n",
        "Normalmente, se suele construir un marco de proyecto para mostrar los resultados del entendimiento del negocio, es decir, debemos dar respuesta a los siguientes elementos:"
      ]
    },
    {
      "cell_type": "markdown",
      "metadata": {
        "id": "7a974ec1"
      },
      "source": [
        "### **1.1. Trasfondo del Negocio**\n",
        "---\n",
        "- ¿Quienes son los beneficiarios del proyecto? ¿En qué dominio se encuentran (marketing, medicina, entre otros)?\n",
        "- ¿Cuáles son los principales desafíos o problemas de la situación que motivan la necesidad de realizar un proyecto de análisis de datos?"
      ]
    },
    {
      "cell_type": "markdown",
      "metadata": {
        "id": "18d9305a"
      },
      "source": [
        "\n",
        "**¿Quiénes son los beneficiarios del proyecto y en qué dominio se encuentran?**\n",
        "\n",
        "En el sector tecnológico, la salud mental de los colaboradores se ha convertido en un factor crítico para la productividad y sostenibilidad de las empresas. El rendimiento de una organización no depende únicamente de la capacidad técnica de su personal, sino también de su bienestar emocional y psicológico. Los problemas de salud mental —como el estrés, la ansiedad o el burnout— afectan la concentración, la motivación y la capacidad de trabajo en equipo, lo que repercute directamente en la eficiencia y los resultados del negocio.\n",
        "\n",
        "Para las empresas, esto se traduce en mayor rotación de personal, ausentismo, pérdida de productividad y costos adicionales asociados al reemplazo y capacitación de nuevos empleados. La evidencia demuestra que las organizaciones que no cuentan con políticas claras de apoyo en salud mental enfrentan una disminución en la competitividad y en la retención del talento, lo que es particularmente relevante en el sector tecnológico, donde la demanda de profesionales especializados es alta y la rotación representa un desafío constante.\n",
        "\n",
        "<br>\n",
        "\n",
        "**¿Cuáles son los principales desafíos o problemas que motivan esta iniciativa de análisis de datos?**\n",
        "\n",
        "* **Disminución de la productividad y competitividad** debido a problemas de salud mental no atendidos en los empleados.\n",
        "\n",
        "* **Altos niveles de burnout y estrés laboral** en profesionales tecnológicos, generados por la presión constante, los plazos ajustados y la carga cognitiva del sector.\n",
        "\n",
        "* **Estigmatización y falta de comunicación interna**, lo que limita que los empleados busquen ayuda o utilicen los recursos disponibles.\n",
        "\n",
        "* **Ausencia de políticas efectivas y de prevención**, que provoca brechas entre las necesidades reales de los colaboradores y las acciones de la empresa.\n",
        "\n",
        "* **Impacto económico directo**, reflejado en mayor rotación de talento, ausentismo y costos de reemplazo, que afectan los resultados financieros de la compañía."
      ]
    },
    {
      "cell_type": "markdown",
      "metadata": {
        "id": "d09c63e5"
      },
      "source": [
        "### **1.2. Alcance**\n",
        "---\n",
        "\n",
        "- ¿Qué  solución se desea implementar?\n",
        "- ¿Cuáles son los límites y fronteras del proyecto de análisis de datos? ¿Qué aspectos específicos del negocio se incluirán y cuáles se excluyen en el alcance del proyecto?\n",
        "- ¿De qué forma el cliente o beneficiario utilizará el producto del proyecto?"
      ]
    },
    {
      "cell_type": "markdown",
      "metadata": {
        "id": "12e3be6b"
      },
      "source": [
        "\n",
        "**¿Qué solución se desea implementar?**\n",
        "\n",
        "Se espera construir un informe analítico y visual que identifique factores de riesgo entre estos las barreras organizacionales en torno a la salud mental en el sector tecnológico, utilizando un enfoque basado en evidencia. Este informe incluirá insights claves y recomendaciones prácticas.\n",
        "\n",
        "<br>\n",
        "\n",
        "**¿Cuáles son los límites y fronteras del proyecto de análisis de datos?**\n",
        "\n",
        "- **Dependencia de la fuente de datos**\n",
        "  - El análisis se limita a la información proveniente de la encuesta disponible (Mental Health in Tech Survey).\n",
        "  - No se incorporan datos adicionales (ej. registros médicos, productividad individual, evaluaciones de desempeño).\n",
        "  - La calidad y profundidad de los resultados dependerán de la completitud y veracidad de las respuestas.\n",
        "\n",
        "- **Temporalidad**\n",
        "  - La encuesta es transversal (un solo momento en el tiempo).\n",
        "  - No se puede evaluar evolución ni cambios longitudinales en la salud mental.\n",
        "\n",
        "- **Representatividad**\n",
        "  - Resultados válidos para la muestra; riesgo de sesgo de autoselección.\n",
        "\n",
        "<br>\n",
        "\n",
        "**¿Qué aspectos específicos del negocio se incluirán y cuáles se excluyen en el alcance del proyecto?**\n",
        "\n",
        "**Incluidos:**\n",
        "- Percepciones individuales sobre salud mental en el trabajo.\n",
        "- Influencia del entorno (jefaturas, compañeros).\n",
        "- Datos demográficos y laborales básicos.\n",
        "\n",
        "**Fuera de alcance:**\n",
        "- Datos clínicos o diagnósticos formales.\n",
        "- Prácticas organizacionales y acceso a recursos (licencias, beneficios, soporte).\n",
        "- Evaluación financiera directa (costos asociados a problemas de salud mental).\n",
        "\n",
        "<br>\n",
        "\n",
        "**¿De qué forma el cliente o beneficiario utilizará el producto del proyecto?**\n",
        "\n",
        "Con el analisis planteado se pueden crearan varios insumos graficos que serán utilizados por los beneficiarios:\n",
        "- Para **diseñar** políticas internas de salud mental basadas en datos.\n",
        "- Para **capacitar** líderes y mandos medios en gestión de bienestar.\n",
        "- Para **ajustar beneficios** organizacionales alineados a necesidades reales.\n",
        "- Para **detectar** segmentos de alto riesgo que requieren intervención."
      ]
    },
    {
      "cell_type": "markdown",
      "metadata": {
        "id": "370e4a5d"
      },
      "source": [
        "### **1.3. Plan**\n",
        "---\n",
        "\n",
        "Puede agregar una lista de actividades con tiempos estimados, un diagrama de Gantt o integrar alguna herramienta de gestión de proyectos para mostrar la planeación del proyecto como [*Jira*](https://www.atlassian.com/software/jira?&aceid=&adposition=&adgroup=144583570757&campaign=19313283508&creative=641924587890&device=c&keyword=jira%20software%20online&matchtype=p&network=g&placement=&ds_kids=p74602877891&ds_e=GOOGLE&ds_eid=700000001558501&ds_e1=GOOGLE&gad_source=1&gclid=CjwKCAiAqNSsBhAvEiwAn_tmxStBdySS6RxbLNGXE0tWTeJc32ffjQD_1EXZvH6hmQkYZm5bTa3sgBoCX3oQAvD_BwE&gclsrc=aw.ds) o [*Trello*](https://trello.com/?&aceid=&adposition=&adgroup=144675712219&campaign=19250238609&creative=641300630637&device=c&keyword=trello&matchtype=e&network=g&placement=&ds_kids=p74526213668&ds_e=GOOGLE&ds_eid=700000001557344&ds_e1=GOOGLE&gad_source=1&gclid=CjwKCAiAqNSsBhAvEiwAn_tmxWW7Gdzf0Szf-mA-piM2GPM7tk8R0HsgpBALLGHNFq1-2xXMQbxB1RoCs-sQAvD_BwE&gclsrc=aw.ds)."
      ]
    },
    {
      "cell_type": "markdown",
      "metadata": {
        "id": "3b465355"
      },
      "source": [
        "![Planing Primera Entrega 1.png](data:image/png;base64,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)"
      ]
    },
    {
      "cell_type": "markdown",
      "source": [
        "El gráfico es un diagrama tipo Gantt que muestra epicas (niveles superiores) y sus subtareas asociadas. Cada fila representa una épica o una tarea y las barras moradas indican la ventana temporal en la que se planificó realizar cada actividad. A la derecha de cada subtarea aparecen etiquetas de estado (por ejemplo FINALIZADA, EN CURSO, TAREAS POR REALIZAR) que indican el progreso actual. El objetivo del diagrama es coordinar el trabajo del equipo y visualizar qué entregables deben completarse en cada fase entregable.\n",
        "\n",
        "**Fase 1 — MLDS-1: Entendimiento del negocio**\n",
        "**Descripción general**\n",
        "\n",
        " En la fase \"Entendimiento del negocio\" se agrupan las actividades iniciales destinadas a comprender el problema, los beneficiarios y el alcance del proyecto. Es la base para el resto de las fases: define el por qué, el para quién y el qué del proyecto antes de pasar al análisis de datos.\n",
        "\n",
        "**Subtareas**\n",
        "*   Trasfondo del proyecto (Beneficiarios y Motivos), con esta tarea se cubre la identificación de los beneficiarios, contexto del dominio y las razones que motivan nuestro proyecto. El asignado para esta tarea fue John Jairo Riano Martinez.\n",
        "*   Planteamiento del alcance, esta tarea incluye la definición del alcance del proyecto: qué se incluirá y qué quedará fuera, es donde se acuerdan límites y expectativas con el cliente o stakeholders. El asignado para esta tarea fue John Jairo Riano Martinez.\n",
        "*   Formalizar la planeación, la tarea comprende la traducción del alcance a un plan de trabajo (cronograma, fases, responsables), en esto se incluye actividades como calendarizar entregables y describir las tareas a asignar.El asignado para esta tarea fue Gian Karlo Lanziano Baracaldo.\n",
        "*   Definir el origen de los datos, con esta tarea se espera identificar y verificar las fuentes de datos, accesos, formato y consideraciones de privacidad/análisis preliminar. Es clave para diseñar la preparación y análisis posteriores. La asignada para esta tarea fue Maria Jose Jara Herrera.\n",
        "\n",
        "**Fase 2 — MLDS-2: Entendimiento de los datos**\n",
        "**Descripción general**\n",
        "\n",
        "En esta fase se realiza la exploración inicial del dataset para comprender su estructura, contenido y calidad. Se busca identificar las variables más relevantes y generar una primera descripción que apoye las fases posteriores de limpieza y análisis.\n",
        "\n",
        "**Subtareas**\n",
        "*   Exploración de los datos, en esta tarea se incluye la revisión de las primeras filas, formatos de variables, identificación de valores faltantes o inconsistencias.\n",
        "*   Descripción de los datos, con esta tarea se redacta la documentación de las variables, tipos y significados.\n",
        "*   Análisis estadístico descriptivo, para esta tarea se comprende los cálculos de medidas de tendencia central y dispersión, distribución de categorías y visualización preliminar.\n",
        "\n",
        "**Fase 3 — MLDS-3: Preparación de los datos**\n",
        "**Descripción general**\n",
        "\n",
        "La fase de preparación se enfoca en limpiar, transformar y estructurar los datos para que puedan ser utilizados en los análisis posteriores. Se gestionan valores nulos, estandarización de categorías y creación de nuevas variables si se considera necesario.\n",
        "\n",
        "**Subtareas**\n",
        "*   Limpieza y tratamiento de los datos, esta tarea comprende una parte crucial para el proyecto donde se realiza la imputación de valores faltantes, normalización de formatos y codificación de variables categóricas.\n",
        "\n",
        "**Fase 4— MLDS-4: Análisis de los datos**\n",
        "**Descripción general**\n",
        "\n",
        "En esta fase se desarrollan análisis estadísticos y gráficos más detallados para obtener hallazgos clave. El objetivo es extraer patrones y relaciones entre variables que permitan responder a las preguntas de negocio.\n",
        "\n",
        "**Subtareas**\n",
        "*   Análisis estadístico, esta tarea se orienta a la aplicación de pruebas y modelos básicos (regresiones, correlaciones, segmentaciones) sobre los datos.\n",
        "*   Desarrollo de gráficas descriptivas, en esta tarea se incluye la  visualización clara de los hallazgos mediante gráficos de barras, dispersión, histogramas, y demas graficas se crean convenientes.\n",
        "\n",
        "**Fase 5 — MLDS-5: Evaluación**\n",
        "**Descripción general**\n",
        "\n",
        "La fase de evaluación sintetiza los resultados y formula conclusiones basadas en los análisis. Es el momento de validar si los objetivos planteados al inicio se cumplieron y qué recomendaciones pueden derivarse.\n",
        "\n",
        "**Subtareas**\n",
        "*   Resultados, esta tarea plantea la presentación de los principales hallazgos obtenidos del análisis de forma escrita y fácil de identificar.\n",
        "*   Conclusiones, con esta tarea se redacta los aprendizajes clave, limitaciones, resolucion de objetivos y propuestas para pasos futuros.\n"
      ],
      "metadata": {
        "id": "q_YEV5Pm9D1T"
      }
    },
    {
      "cell_type": "markdown",
      "metadata": {
        "id": "4a4e145b"
      },
      "source": [
        "## **2. Datos**\n",
        "---\n",
        "\n",
        "En esta sección debe adjuntar una descripción de los datos que planea trabajar. Por el momento no es obligatorio cargar los datos."
      ]
    },
    {
      "cell_type": "markdown",
      "metadata": {
        "id": "2c5f8274"
      },
      "source": [
        "### **2.1. Origen**\n",
        "---\n",
        "\n",
        "- ¿De dónde vienen los datos?\n",
        "- ¿Se usa alguna herramienta o proceso para la descarga de la información?\n",
        "- ¿Qué tipo de datos está manejando?"
      ]
    },
    {
      "cell_type": "markdown",
      "source": [
        "**Origen y Adquisición de Datos**\n",
        "\n",
        "\n",
        "### **Mental Health in Tech Survey**\n",
        "\n",
        "Este conjunto de datos proviene de la encuesta \"[Mental Health in Tech Survey](https://www.kaggle.com/datasets/osmi/mental-health-in-tech-survey)\", una iniciativa de *[Open Sourcing Mental Illness (OSMI)](https://osmihelp.org)*. El objetivo principal de la encuesta es medir las actitudes hacia la salud mental en el sector tecnológico y evaluar la frecuencia de los trastornos de salud mental entre los trabajadores de esta industria.\n",
        "\n",
        "Los datos están disponibles públicamente y se pueden obtener de dos fuentes principales:\n",
        "\n",
        "1.  **Kaggle:** El conjunto de datos está alojado en la plataforma Kaggle, lo que facilita su acceso y análisis por parte de la comunidad de ciencia de datos.\n",
        "2.  **GitHub:** También se puede acceder a una versión del conjunto de datos a través de un repositorio en GitHub.\n",
        "\n",
        "<br>\n",
        "\n",
        "**Contenido y Estructura**\n",
        "\n",
        "El conjunto de datos contiene una variedad de información que incluye datos demográficos, respuestas a preguntas sobre salud mental y física, actitudes en el entorno laboral y comentarios personales. Cada fila corresponde a la respuesta de un participante en la encuesta.\n",
        "\n",
        "A continuación, se presenta un diccionario de datos detallado que describe las columnas más importantes del conjunto de datos:\n",
        "\n",
        "| Columna | Descripción | Tipo de Dato |\n",
        "| :--- | :--- | :--- |\n",
        "| `Timestamp` | Fecha y hora en que se completó la encuesta. | Fecha |\n",
        "| `Age` | La edad del encuestado. | Entero |\n",
        "| `Gender` | El género con el que se identifica el encuestado. | Cadena de texto |\n",
        "| `Country` | País de residencia del encuestado. | Cadena de texto |\n",
        "| `state` | Si el encuestado reside en EE. UU., el estado de residencia. | Cadena de texto |\n",
        "| `self_employed` | Indica si el encuestado trabaja por cuenta propia. | Booleano |\n",
        "| `family_history` | Indica si el encuestado tiene antecedentes familiares de enfermedades mentales. | Booleano |\n",
        "| `treatment` | Indica si el encuestado ha buscado tratamiento para una condición de salud mental. | Booleano |\n",
        "| `work_interfere` | Si el encuestado tiene una condición de salud mental, ¿con qué frecuencia interfiere en su trabajo? | Cadena de texto |\n",
        "| `no_employees` | El número de empleados en la empresa del encuestado. | Cadena de texto |\n",
        "| `remote_work` | Indica si el encuestado trabaja de forma remota al menos el 50% del tiempo. | Booleano |\n",
        "| `tech_company` | Indica si la empresa del encuestado es principalmente una empresa de tecnología o producto tecnológico. | Booleano |\n",
        "| `benefits` | Indica si el empleador del encuestado proporciona beneficios de salud mental. | Booleano |\n",
        "| `care_options` | Indica si el encuestado conoce las opciones de atención de salud mental que ofrece su empleador. | Booleano |\n",
        "| `wellness_program` | Indica si el empleador ha discutido la salud mental como parte de un programa de bienestar para empleados. | Booleano |\n",
        "| `seek_help` | Indica si el empleador proporciona recursos para buscar ayuda con problemas de salud mental. | Booleano |\n",
        "| `anonymity` | Indica si el anonimato del encuestado está protegido si utiliza los recursos de tratamiento de salud mental. | Booleano |\n",
        "| `leave` | Describe la facilidad para tomar una licencia médica por una condición de salud mental. | Cadena de texto |\n",
        "| `mental_health_consequence` | ¿Cree que discutir un problema de salud mental con su empleador tendría consecuencias negativas? | Booleano |\n",
        "| `phys_health_consequence` | ¿Cree que discutir un problema de salud física con su empleador tendría consecuencias negativas? | Booleano |\n",
        "| `coworkers` | ¿Estaría dispuesto a discutir un problema de salud mental con sus compañeros de trabajo? | Booleano |\n",
        "| `supervisor` | ¿Estaría dispuesto a discutir un problema de salud mental con sus supervisores directos? | Booleano |\n",
        "| `mental_health_interview` | ¿Mencionaría un problema de salud mental con un empleador potencial en una entrevista? | Booleano |\n",
        "| `phys_health_interview` | ¿Mencionaría un problema de salud física con un empleador potencial en una entrevista? | Booleano |\n",
        "| `mental_vs_physical` | ¿Cree que su empleador toma la salud mental tan en serio como la salud física? | Booleano |\n",
        "| `obs_consequence` | ¿Ha observado consecuencias negativas para compañeros de trabajo con problemas de salud mental en su lugar de trabajo? | Booleano |\n",
        "| `comments` | Cualquier nota o comentario adicional proporcionado por el encuestado. | Cadena de texto |\n",
        "\n"
      ],
      "metadata": {
        "id": "JuTmTdmINmZv"
      }
    },
    {
      "cell_type": "markdown",
      "source": [
        "\n",
        "### **Employee Performance and Productivity Data**\n",
        "Este conjunto de datos proviene del recurso \"[Employee Performance and Productivity Data](https://www.kaggle.com/datasets/mexwell/employee-performance-and-productivity-data)\" publicado en Kaggle. El objetivo principal de este dataset es capturar aspectos clave del desempeño y la productividad laboral (métricas de rendimiento, horas trabajadas, formación, proyectos y satisfacción) junto con variables demográficas y laborales, para apoyar análisis de productividad, predicción de desempeño y estudios de retención.\n",
        "\n",
        "Los datos están disponibles públicamente y se pueden obtener de dos fuentes principales:\n",
        "\n",
        "1.  **Kaggle:** El conjunto de datos está alojado en la plataforma Kaggle, lo que facilita su acceso y análisis por parte de la comunidad de ciencia de datos.\n",
        "2.  **GitHub:** También se puede acceder a una versión del conjunto de datos a través de un repositorio en GitHub.\n",
        "<br>\n",
        "\n",
        "**Contenido y Estructura**\n",
        "\n",
        "Cada registro describe un empleado (o una observación por empleado) con métricas de rendimiento, variables demográficas, indicadores de carga laboral (horas, overtime), formación y satisfacción.\n",
        "\n",
        "| Columna | Descripción | Tipo de Dato |\n",
        "| :--- | :--- | :--- |\n",
        "| `Employee_ID`| Identificador único de cada empleado. | Entero |\n",
        "| `Department` | El departamento en el que trabaja el empleado (p. ej., Ventas, RR.HH., TI). | Cadena de texto |\n",
        "| `Gender` | Género del empleado (Masculino, Femenino, Otro). | Cadena de texto |\n",
        "| `Age` | Edad del empleado (rango típico entre 22 y 60). | Entero |\n",
        "| `Job_Title` | El cargo o puesto que ocupa el empleado (p. ej., Gerente, Analista, Desarrollador). | Cadena de texto |\n",
        "| `Hire_Date` | La fecha en que se contrató al empleado. | Fecha |\n",
        "| `Years_At_Company` | Número de años que el empleado lleva en la empresa. | Entero |\n",
        "| `Education_Level` | Máxima formación académica alcanzada (Secundaria, Pregrado, Posgrado, Doctorado). | Cadena de texto |\n",
        "| `Performance_Score` | Calificación de desempeño del empleado (escala 1 a 5). | Entero |\n",
        "| `Monthly_Salary` | Salario mensual del empleado en USD (o moneda reportada). | Decimal |\n",
        "| `Work_Hours_Per_Week` | Número de horas trabajadas por semana. | Entero |\n",
        "| `Projects_Handled` | Número total de proyectos gestionados por el empleado. | Entero |\n",
        "| `Overtime_Hours` | Horas extra trabajadas en el último año. | Entero |\n",
        "| `Sick_Days` | Número de días por enfermedad tomados por el empleado. | Entero |\n",
        "| `Remote_Work_Frequency` | Porcentaje de tiempo trabajado en remoto (0%, 25%, 50%, 75%, 100%). | Decimal |\n",
        "| `Team_Size` | Número de personas en el equipo del empleado. | Entero |\n",
        "| `Training_Hours`| Número de horas dedicadas a formación/entrenamiento. | Entero |\n",
        "| `Promotions` | Número de promociones recibidas durante su permanencia en la empresa. | Entero |\n",
        "| `Employee_Satisfaction_Score` | Puntuación de satisfacción del empleado (escala 1.0 a 5.0). | Decimal |\n",
        "| `Resigned` | Valor booleano que indica si el empleado ha renunciado. | Booleano |"
      ],
      "metadata": {
        "id": "nImaLQHImKOf"
      }
    },
    {
      "cell_type": "markdown",
      "source": [
        "<img src = \"https://drive.google.com/uc?export=view&id=1vU_Lg5LD6Dn521znF_9E6OsJgwptOT9E\" alt = \"Encabezado MLDS\" width = \"100%\">  </img>"
      ],
      "metadata": {
        "id": "Y7Dzk79jdmIG"
      }
    },
    {
      "cell_type": "markdown",
      "metadata": {
        "id": "a9669dfd"
      },
      "source": [
        "# **Entendimiento de los Datos**\n",
        "---\n"
      ]
    },
    {
      "cell_type": "markdown",
      "source": [
        "## **1. Carga de datos**\n",
        "---\n",
        "Proporcione únicamente el código de Python necesario para descargar el conjunto de datos que será utilizado en el proyecto. Si es necesario, realice operaciones de adquisición e integración del conjunto de datos."
      ],
      "metadata": {
        "id": "qG-gA0MvzMTA"
      }
    },
    {
      "cell_type": "code",
      "source": [
        "# =================================================================================\n",
        "# IMPORTAR DATASET DESDE REPOSITORIO DE GITHUB\n",
        "# =================================================================================\n",
        "!wget -N mental-health-in-tech-survey.csv https://raw.githubusercontent.com/StoryChara/Machine-Learning-and-Data-Science-Proyecto/refs/heads/main/Módulo_1/datasets/mental-health-in-tech-survey.csv\n",
        "!wget -N extended_employee_performance_and_productivity_data.csv https://raw.githubusercontent.com/StoryChara/Machine-Learning-and-Data-Science-Proyecto/refs/heads/main/Módulo_1/datasets/extended_employee_performance_and_productivity_data.csv"
      ],
      "metadata": {
        "id": "FxykiJtCzQl2",
        "colab": {
          "base_uri": "https://localhost:8080/"
        },
        "outputId": "3fc93a67-ef06-4e38-e7ac-81669a417717",
        "collapsed": true
      },
      "execution_count": null,
      "outputs": [
        {
          "output_type": "stream",
          "name": "stdout",
          "text": [
            "--2025-09-11 02:22:49--  http://mental-health-in-tech-survey.csv/\n",
            "Resolving mental-health-in-tech-survey.csv (mental-health-in-tech-survey.csv)... failed: Name or service not known.\n",
            "wget: unable to resolve host address ‘mental-health-in-tech-survey.csv’\n",
            "--2025-09-11 02:22:49--  https://raw.githubusercontent.com/StoryChara/Machine-Learning-and-Data-Science-Proyecto/refs/heads/main/M%C3%B3dulo_1/datasets/mental-health-in-tech-survey.csv\n",
            "Resolving raw.githubusercontent.com (raw.githubusercontent.com)... 185.199.110.133, 185.199.109.133, 185.199.111.133, ...\n",
            "Connecting to raw.githubusercontent.com (raw.githubusercontent.com)|185.199.110.133|:443... connected.\n",
            "HTTP request sent, awaiting response... 200 OK\n",
            "Length: 303684 (297K) [text/plain]\n",
            "Saving to: ‘mental-health-in-tech-survey.csv’\n",
            "\n",
            "mental-health-in-te 100%[===================>] 296.57K  1.61MB/s    in 0.2s    \n",
            "\n",
            "Last-modified header missing -- time-stamps turned off.\n",
            "2025-09-11 02:22:49 (1.61 MB/s) - ‘mental-health-in-tech-survey.csv’ saved [303684/303684]\n",
            "\n",
            "FINISHED --2025-09-11 02:22:49--\n",
            "Total wall clock time: 0.8s\n",
            "Downloaded: 1 files, 297K in 0.2s (1.61 MB/s)\n",
            "--2025-09-11 02:22:49--  http://extended_employee_performance_and_productivity_data.csv/\n",
            "Resolving extended_employee_performance_and_productivity_data.csv (extended_employee_performance_and_productivity_data.csv)... failed: Name or service not known.\n",
            "wget: unable to resolve host address ‘extended_employee_performance_and_productivity_data.csv’\n",
            "--2025-09-11 02:22:49--  https://raw.githubusercontent.com/StoryChara/Machine-Learning-and-Data-Science-Proyecto/refs/heads/main/M%C3%B3dulo_1/datasets/extended_employee_performance_and_productivity_data.csv\n",
            "Resolving raw.githubusercontent.com (raw.githubusercontent.com)... 185.199.108.133, 185.199.109.133, 185.199.110.133, ...\n",
            "Connecting to raw.githubusercontent.com (raw.githubusercontent.com)|185.199.108.133|:443... connected.\n",
            "HTTP request sent, awaiting response... 200 OK\n",
            "Length: 11243502 (11M) [text/plain]\n",
            "Saving to: ‘extended_employee_performance_and_productivity_data.csv’\n",
            "\n",
            "extended_employee_p 100%[===================>]  10.72M  22.2MB/s    in 0.5s    \n",
            "\n",
            "Last-modified header missing -- time-stamps turned off.\n",
            "2025-09-11 02:22:51 (22.2 MB/s) - ‘extended_employee_performance_and_productivity_data.csv’ saved [11243502/11243502]\n",
            "\n",
            "FINISHED --2025-09-11 02:22:51--\n",
            "Total wall clock time: 2.0s\n",
            "Downloaded: 1 files, 11M in 0.5s (22.2 MB/s)\n"
          ]
        }
      ]
    },
    {
      "cell_type": "markdown",
      "metadata": {
        "id": "f6de2158"
      },
      "source": [
        "## **2. Análisis Exploratorio de los Datos**\n",
        "---\n",
        "\n",
        "Normalmente en el análisis exploratorio, se trata de dar respuesta a los siguientes elementos:"
      ]
    },
    {
      "cell_type": "markdown",
      "metadata": {
        "id": "20031c7b"
      },
      "source": [
        "### **2.1. Resumen General**\n",
        "---\n",
        "\n",
        "- ¿Cuántos registros contiene el *dataset*?\n",
        "- ¿En qué formato están guardados los datos?\n",
        "- ¿Qué tamaño en MB tiene el conjunto de datos?"
      ]
    },
    {
      "cell_type": "markdown",
      "source": [
        "#### Características del conjunto de Datos: Mental Health in Tech Survey\n",
        "\n",
        "| Característica | Detalle |\n",
        "| :--- | :--- |\n",
        "| **Nombre del Dataset** | Mental Health in Tech Survey |\n",
        "| **Número de Registros** | 1,259 |\n",
        "| **Número de Columnas** | 27 |\n",
        "| **Formato de Datos** | Tabular (`DataFrame` de pandas) |\n",
        "| **Tipos de Datos** | 21 `object`, 5 `bool`, 1 `int64` |\n",
        "| **Tamaño en Memoria** | (1.7 MB) |\n",
        "\n",
        "---\n",
        "\n",
        "### Descripción de la Estructura y Contenido\n",
        "\n",
        "El conjunto de datos, con el nombre de **\"Mental Health in Tech Survey\"**, contiene un total de **1,259 registros** u observaciones. Estos datos están organizados en una estructura **tabular** (`DataFrame`), ideal para el análisis y la manipulación.\n",
        "\n",
        "El *dataset* está compuesto por **27 columnas**, las cuales almacenan información de diferentes tipos:\n",
        "\n",
        "* **21** columnas son de tipo `object`, que generalmente representan datos de texto.\n",
        "* **5** columnas son de tipo `bool`, que almacenan valores booleanos (`True`/`False`).\n",
        "* **1** columna es de tipo `int64`, que contiene números enteros.\n",
        "\n",
        "El tamaño total en memoria del conjunto de datos es de **222.7 KB**, lo que equivale a aproximadamente **0.22 MB**. Este tamaño relativamente pequeño facilita su procesamiento y análisis."
      ],
      "metadata": {
        "id": "40zYpK9aUkQZ"
      }
    },
    {
      "cell_type": "code",
      "source": [
        "data_mental_health = pd.read_csv(\"mental-health-in-tech-survey.csv\")\n",
        "\n",
        "print(f\"Number of records: {data_mental_health.shape[0]}\")\n",
        "print(f\"Data format: {type(data_mental_health)}\")\n",
        "print(f\"Dataset size in MB: {round(data_mental_health.memory_usage(deep=True).sum() / (1024*1024), 2)}\")"
      ],
      "metadata": {
        "colab": {
          "base_uri": "https://localhost:8080/"
        },
        "id": "ZOn9e5r5HWip",
        "outputId": "1d2384a5-81a5-4180-ff93-0be97b85628c"
      },
      "execution_count": null,
      "outputs": [
        {
          "output_type": "stream",
          "name": "stdout",
          "text": [
            "Number of records: 1259\n",
            "Data format: <class 'pandas.core.frame.DataFrame'>\n",
            "Dataset size in MB: 1.7\n"
          ]
        }
      ]
    },
    {
      "cell_type": "code",
      "source": [
        "data_mental_health.info()"
      ],
      "metadata": {
        "colab": {
          "base_uri": "https://localhost:8080/"
        },
        "id": "0y1syGLdTCot",
        "outputId": "742f438e-7675-46f9-c22e-38773b57d2c5"
      },
      "execution_count": null,
      "outputs": [
        {
          "output_type": "stream",
          "name": "stdout",
          "text": [
            "<class 'pandas.core.frame.DataFrame'>\n",
            "RangeIndex: 1259 entries, 0 to 1258\n",
            "Data columns (total 27 columns):\n",
            " #   Column                     Non-Null Count  Dtype \n",
            "---  ------                     --------------  ----- \n",
            " 0   Timestamp                  1259 non-null   object\n",
            " 1   Age                        1259 non-null   int64 \n",
            " 2   Gender                     1259 non-null   object\n",
            " 3   Country                    1259 non-null   object\n",
            " 4   state                      744 non-null    object\n",
            " 5   self_employed              1241 non-null   object\n",
            " 6   family_history             1259 non-null   object\n",
            " 7   treatment                  1259 non-null   object\n",
            " 8   work_interfere             995 non-null    object\n",
            " 9   no_employees               1259 non-null   object\n",
            " 10  remote_work                1259 non-null   object\n",
            " 11  tech_company               1259 non-null   object\n",
            " 12  benefits                   1259 non-null   object\n",
            " 13  care_options               1259 non-null   object\n",
            " 14  wellness_program           1259 non-null   object\n",
            " 15  seek_help                  1259 non-null   object\n",
            " 16  anonymity                  1259 non-null   object\n",
            " 17  leave                      1259 non-null   object\n",
            " 18  mental_health_consequence  1259 non-null   object\n",
            " 19  phys_health_consequence    1259 non-null   object\n",
            " 20  coworkers                  1259 non-null   object\n",
            " 21  supervisor                 1259 non-null   object\n",
            " 22  mental_health_interview    1259 non-null   object\n",
            " 23  phys_health_interview      1259 non-null   object\n",
            " 24  mental_vs_physical         1259 non-null   object\n",
            " 25  obs_consequence            1259 non-null   object\n",
            " 26  comments                   164 non-null    object\n",
            "dtypes: int64(1), object(26)\n",
            "memory usage: 265.7+ KB\n"
          ]
        }
      ]
    },
    {
      "cell_type": "markdown",
      "source": [
        "**Proceso de Normalización**\n",
        "\n",
        "Se realizó un proceso de normalización en las variables booleanas del *dataset* para garantizar su correcta interpretación. Las columnas `family_history`, `treatment`, `remote_work`, `tech_company` y `obs_consequence`, que originalmente contenían los valores `'Yes'` y `'No'`, fueron convertidas a un formato estandarizado de **`True`** y **`False`**. Nos permite que estas variables sean manejadas como **valores binarios** lógicos y sean compatibles con los algoritmos de modelado predictivo, evitando así posibles errores o interpretaciones erróneas."
      ],
      "metadata": {
        "id": "5ijfSxHMFOoP"
      }
    },
    {
      "cell_type": "code",
      "source": [
        "# Normalizacion\n",
        "data_mental_health['family_history'] = data_mental_health['family_history'].apply(lambda x: True if x == 'Yes' else False)\n",
        "data_mental_health['treatment'] = data_mental_health['treatment'].apply(lambda x: True if x == 'Yes' else False)\n",
        "data_mental_health['remote_work'] = data_mental_health['remote_work'].apply(lambda x: True if x == 'Yes' else False)\n",
        "data_mental_health['tech_company'] = data_mental_health['tech_company'].apply(lambda x: True if x == 'Yes' else False)\n",
        "data_mental_health['obs_consequence'] = data_mental_health['obs_consequence'].apply(lambda x: True if x == 'Yes' else False)\n",
        "\n",
        "# data_mental_health.head()"
      ],
      "metadata": {
        "id": "jAYwfGX5XMRk"
      },
      "execution_count": null,
      "outputs": []
    },
    {
      "cell_type": "markdown",
      "source": [
        "#### Características del conjunto de Datos: Extended Employee Performance and Productivity Data\n",
        "\n",
        "| Característica | Detalle |\n",
        "| :--- | :--- |\n",
        "| **Número de registros** | 100,000  |\n",
        "| **Formato de datos** | Tabular (`DataFrame` de pandas) |\n",
        "| **Tamaño del dataset** | 39.44 MB |\n",
        "\n",
        "### Descripción de la estructura\n",
        "\n",
        "El conjunto de datos contiene **100,000 registros** u observaciones, organizados en un formato tabular conocido como **DataFrame de pandas**.\n",
        "\n",
        "Las **20** columnas del *dataset* incluyen:\n",
        "\n",
        "- **12** columnas con datos de tipo `int64` (números enteros).\n",
        "- **5** columnas con datos de tipo `object` (principalmente texto).\n",
        "- **2** columnas con datos de tipo `float64` (números decimales).\n",
        "- **1** columna con datos de tipo `bool` (valores `True`/`False`).\n",
        "\n",
        "\n",
        "El tamaño total del conjunto de datos en memoria es de **39.44 MB**, un tamaño considerable que trae una cantidad importante de información y variabilidad sobre las 20 variables del conjunto de datos."
      ],
      "metadata": {
        "id": "D89Yk_93M92-"
      }
    },
    {
      "cell_type": "code",
      "source": [
        "data_extended_employee = pd.read_csv('extended_employee_performance_and_productivity_data.csv')\n",
        "data_extended_employee.head()"
      ],
      "metadata": {
        "colab": {
          "base_uri": "https://localhost:8080/",
          "height": 313
        },
        "id": "SG26ATdyBxiU",
        "outputId": "d5b394a5-55e2-4953-df67-9cc2ffd28335"
      },
      "execution_count": null,
      "outputs": [
        {
          "output_type": "execute_result",
          "data": {
            "text/plain": [
              "   Employee_ID        Department  Gender  Age   Job_Title  \\\n",
              "0            1                IT    Male   55  Specialist   \n",
              "1            2           Finance    Male   29   Developer   \n",
              "2            3           Finance    Male   55  Specialist   \n",
              "3            4  Customer Support  Female   48     Analyst   \n",
              "4            5       Engineering  Female   36     Analyst   \n",
              "\n",
              "                    Hire_Date  Years_At_Company Education_Level  \\\n",
              "0  2022-01-19 08:03:05.556036                 2     High School   \n",
              "1  2024-04-18 08:03:05.556036                 0     High School   \n",
              "2  2015-10-26 08:03:05.556036                 8     High School   \n",
              "3  2016-10-22 08:03:05.556036                 7        Bachelor   \n",
              "4  2021-07-23 08:03:05.556036                 3        Bachelor   \n",
              "\n",
              "   Performance_Score  Monthly_Salary  Work_Hours_Per_Week  Projects_Handled  \\\n",
              "0                  5          6750.0                   33                32   \n",
              "1                  5          7500.0                   34                34   \n",
              "2                  3          5850.0                   37                27   \n",
              "3                  2          4800.0                   52                10   \n",
              "4                  2          4800.0                   38                11   \n",
              "\n",
              "   Overtime_Hours  Sick_Days  Remote_Work_Frequency  Team_Size  \\\n",
              "0              22          2                      0         14   \n",
              "1              13         14                    100         12   \n",
              "2               6          3                     50         10   \n",
              "3              28         12                    100         10   \n",
              "4              29         13                    100         15   \n",
              "\n",
              "   Training_Hours  Promotions  Employee_Satisfaction_Score  Resigned  \n",
              "0              66           0                         2.63     False  \n",
              "1              61           2                         1.72     False  \n",
              "2               1           0                         3.17     False  \n",
              "3               0           1                         1.86     False  \n",
              "4               9           1                         1.25     False  "
            ],
            "text/html": [
              "\n",
              "  <div id=\"df-179d160d-3912-4849-8d43-a7ca72197c59\" class=\"colab-df-container\">\n",
              "    <div>\n",
              "<style scoped>\n",
              "    .dataframe tbody tr th:only-of-type {\n",
              "        vertical-align: middle;\n",
              "    }\n",
              "\n",
              "    .dataframe tbody tr th {\n",
              "        vertical-align: top;\n",
              "    }\n",
              "\n",
              "    .dataframe thead th {\n",
              "        text-align: right;\n",
              "    }\n",
              "</style>\n",
              "<table border=\"1\" class=\"dataframe\">\n",
              "  <thead>\n",
              "    <tr style=\"text-align: right;\">\n",
              "      <th></th>\n",
              "      <th>Employee_ID</th>\n",
              "      <th>Department</th>\n",
              "      <th>Gender</th>\n",
              "      <th>Age</th>\n",
              "      <th>Job_Title</th>\n",
              "      <th>Hire_Date</th>\n",
              "      <th>Years_At_Company</th>\n",
              "      <th>Education_Level</th>\n",
              "      <th>Performance_Score</th>\n",
              "      <th>Monthly_Salary</th>\n",
              "      <th>Work_Hours_Per_Week</th>\n",
              "      <th>Projects_Handled</th>\n",
              "      <th>Overtime_Hours</th>\n",
              "      <th>Sick_Days</th>\n",
              "      <th>Remote_Work_Frequency</th>\n",
              "      <th>Team_Size</th>\n",
              "      <th>Training_Hours</th>\n",
              "      <th>Promotions</th>\n",
              "      <th>Employee_Satisfaction_Score</th>\n",
              "      <th>Resigned</th>\n",
              "    </tr>\n",
              "  </thead>\n",
              "  <tbody>\n",
              "    <tr>\n",
              "      <th>0</th>\n",
              "      <td>1</td>\n",
              "      <td>IT</td>\n",
              "      <td>Male</td>\n",
              "      <td>55</td>\n",
              "      <td>Specialist</td>\n",
              "      <td>2022-01-19 08:03:05.556036</td>\n",
              "      <td>2</td>\n",
              "      <td>High School</td>\n",
              "      <td>5</td>\n",
              "      <td>6750.0</td>\n",
              "      <td>33</td>\n",
              "      <td>32</td>\n",
              "      <td>22</td>\n",
              "      <td>2</td>\n",
              "      <td>0</td>\n",
              "      <td>14</td>\n",
              "      <td>66</td>\n",
              "      <td>0</td>\n",
              "      <td>2.63</td>\n",
              "      <td>False</td>\n",
              "    </tr>\n",
              "    <tr>\n",
              "      <th>1</th>\n",
              "      <td>2</td>\n",
              "      <td>Finance</td>\n",
              "      <td>Male</td>\n",
              "      <td>29</td>\n",
              "      <td>Developer</td>\n",
              "      <td>2024-04-18 08:03:05.556036</td>\n",
              "      <td>0</td>\n",
              "      <td>High School</td>\n",
              "      <td>5</td>\n",
              "      <td>7500.0</td>\n",
              "      <td>34</td>\n",
              "      <td>34</td>\n",
              "      <td>13</td>\n",
              "      <td>14</td>\n",
              "      <td>100</td>\n",
              "      <td>12</td>\n",
              "      <td>61</td>\n",
              "      <td>2</td>\n",
              "      <td>1.72</td>\n",
              "      <td>False</td>\n",
              "    </tr>\n",
              "    <tr>\n",
              "      <th>2</th>\n",
              "      <td>3</td>\n",
              "      <td>Finance</td>\n",
              "      <td>Male</td>\n",
              "      <td>55</td>\n",
              "      <td>Specialist</td>\n",
              "      <td>2015-10-26 08:03:05.556036</td>\n",
              "      <td>8</td>\n",
              "      <td>High School</td>\n",
              "      <td>3</td>\n",
              "      <td>5850.0</td>\n",
              "      <td>37</td>\n",
              "      <td>27</td>\n",
              "      <td>6</td>\n",
              "      <td>3</td>\n",
              "      <td>50</td>\n",
              "      <td>10</td>\n",
              "      <td>1</td>\n",
              "      <td>0</td>\n",
              "      <td>3.17</td>\n",
              "      <td>False</td>\n",
              "    </tr>\n",
              "    <tr>\n",
              "      <th>3</th>\n",
              "      <td>4</td>\n",
              "      <td>Customer Support</td>\n",
              "      <td>Female</td>\n",
              "      <td>48</td>\n",
              "      <td>Analyst</td>\n",
              "      <td>2016-10-22 08:03:05.556036</td>\n",
              "      <td>7</td>\n",
              "      <td>Bachelor</td>\n",
              "      <td>2</td>\n",
              "      <td>4800.0</td>\n",
              "      <td>52</td>\n",
              "      <td>10</td>\n",
              "      <td>28</td>\n",
              "      <td>12</td>\n",
              "      <td>100</td>\n",
              "      <td>10</td>\n",
              "      <td>0</td>\n",
              "      <td>1</td>\n",
              "      <td>1.86</td>\n",
              "      <td>False</td>\n",
              "    </tr>\n",
              "    <tr>\n",
              "      <th>4</th>\n",
              "      <td>5</td>\n",
              "      <td>Engineering</td>\n",
              "      <td>Female</td>\n",
              "      <td>36</td>\n",
              "      <td>Analyst</td>\n",
              "      <td>2021-07-23 08:03:05.556036</td>\n",
              "      <td>3</td>\n",
              "      <td>Bachelor</td>\n",
              "      <td>2</td>\n",
              "      <td>4800.0</td>\n",
              "      <td>38</td>\n",
              "      <td>11</td>\n",
              "      <td>29</td>\n",
              "      <td>13</td>\n",
              "      <td>100</td>\n",
              "      <td>15</td>\n",
              "      <td>9</td>\n",
              "      <td>1</td>\n",
              "      <td>1.25</td>\n",
              "      <td>False</td>\n",
              "    </tr>\n",
              "  </tbody>\n",
              "</table>\n",
              "</div>\n",
              "    <div class=\"colab-df-buttons\">\n",
              "\n",
              "  <div class=\"colab-df-container\">\n",
              "    <button class=\"colab-df-convert\" onclick=\"convertToInteractive('df-179d160d-3912-4849-8d43-a7ca72197c59')\"\n",
              "            title=\"Convert this dataframe to an interactive table.\"\n",
              "            style=\"display:none;\">\n",
              "\n",
              "  <svg xmlns=\"http://www.w3.org/2000/svg\" height=\"24px\" viewBox=\"0 -960 960 960\">\n",
              "    <path d=\"M120-120v-720h720v720H120Zm60-500h600v-160H180v160Zm220 220h160v-160H400v160Zm0 220h160v-160H400v160ZM180-400h160v-160H180v160Zm440 0h160v-160H620v160ZM180-180h160v-160H180v160Zm440 0h160v-160H620v160Z\"/>\n",
              "  </svg>\n",
              "    </button>\n",
              "\n",
              "  <style>\n",
              "    .colab-df-container {\n",
              "      display:flex;\n",
              "      gap: 12px;\n",
              "    }\n",
              "\n",
              "    .colab-df-convert {\n",
              "      background-color: #E8F0FE;\n",
              "      border: none;\n",
              "      border-radius: 50%;\n",
              "      cursor: pointer;\n",
              "      display: none;\n",
              "      fill: #1967D2;\n",
              "      height: 32px;\n",
              "      padding: 0 0 0 0;\n",
              "      width: 32px;\n",
              "    }\n",
              "\n",
              "    .colab-df-convert:hover {\n",
              "      background-color: #E2EBFA;\n",
              "      box-shadow: 0px 1px 2px rgba(60, 64, 67, 0.3), 0px 1px 3px 1px rgba(60, 64, 67, 0.15);\n",
              "      fill: #174EA6;\n",
              "    }\n",
              "\n",
              "    .colab-df-buttons div {\n",
              "      margin-bottom: 4px;\n",
              "    }\n",
              "\n",
              "    [theme=dark] .colab-df-convert {\n",
              "      background-color: #3B4455;\n",
              "      fill: #D2E3FC;\n",
              "    }\n",
              "\n",
              "    [theme=dark] .colab-df-convert:hover {\n",
              "      background-color: #434B5C;\n",
              "      box-shadow: 0px 1px 3px 1px rgba(0, 0, 0, 0.15);\n",
              "      filter: drop-shadow(0px 1px 2px rgba(0, 0, 0, 0.3));\n",
              "      fill: #FFFFFF;\n",
              "    }\n",
              "  </style>\n",
              "\n",
              "    <script>\n",
              "      const buttonEl =\n",
              "        document.querySelector('#df-179d160d-3912-4849-8d43-a7ca72197c59 button.colab-df-convert');\n",
              "      buttonEl.style.display =\n",
              "        google.colab.kernel.accessAllowed ? 'block' : 'none';\n",
              "\n",
              "      async function convertToInteractive(key) {\n",
              "        const element = document.querySelector('#df-179d160d-3912-4849-8d43-a7ca72197c59');\n",
              "        const dataTable =\n",
              "          await google.colab.kernel.invokeFunction('convertToInteractive',\n",
              "                                                    [key], {});\n",
              "        if (!dataTable) return;\n",
              "\n",
              "        const docLinkHtml = 'Like what you see? Visit the ' +\n",
              "          '<a target=\"_blank\" href=https://colab.research.google.com/notebooks/data_table.ipynb>data table notebook</a>'\n",
              "          + ' to learn more about interactive tables.';\n",
              "        element.innerHTML = '';\n",
              "        dataTable['output_type'] = 'display_data';\n",
              "        await google.colab.output.renderOutput(dataTable, element);\n",
              "        const docLink = document.createElement('div');\n",
              "        docLink.innerHTML = docLinkHtml;\n",
              "        element.appendChild(docLink);\n",
              "      }\n",
              "    </script>\n",
              "  </div>\n",
              "\n",
              "\n",
              "    <div id=\"df-a1ddcbf2-42fa-416f-856f-867d48c31393\">\n",
              "      <button class=\"colab-df-quickchart\" onclick=\"quickchart('df-a1ddcbf2-42fa-416f-856f-867d48c31393')\"\n",
              "                title=\"Suggest charts\"\n",
              "                style=\"display:none;\">\n",
              "\n",
              "<svg xmlns=\"http://www.w3.org/2000/svg\" height=\"24px\"viewBox=\"0 0 24 24\"\n",
              "     width=\"24px\">\n",
              "    <g>\n",
              "        <path d=\"M19 3H5c-1.1 0-2 .9-2 2v14c0 1.1.9 2 2 2h14c1.1 0 2-.9 2-2V5c0-1.1-.9-2-2-2zM9 17H7v-7h2v7zm4 0h-2V7h2v10zm4 0h-2v-4h2v4z\"/>\n",
              "    </g>\n",
              "</svg>\n",
              "      </button>\n",
              "\n",
              "<style>\n",
              "  .colab-df-quickchart {\n",
              "      --bg-color: #E8F0FE;\n",
              "      --fill-color: #1967D2;\n",
              "      --hover-bg-color: #E2EBFA;\n",
              "      --hover-fill-color: #174EA6;\n",
              "      --disabled-fill-color: #AAA;\n",
              "      --disabled-bg-color: #DDD;\n",
              "  }\n",
              "\n",
              "  [theme=dark] .colab-df-quickchart {\n",
              "      --bg-color: #3B4455;\n",
              "      --fill-color: #D2E3FC;\n",
              "      --hover-bg-color: #434B5C;\n",
              "      --hover-fill-color: #FFFFFF;\n",
              "      --disabled-bg-color: #3B4455;\n",
              "      --disabled-fill-color: #666;\n",
              "  }\n",
              "\n",
              "  .colab-df-quickchart {\n",
              "    background-color: var(--bg-color);\n",
              "    border: none;\n",
              "    border-radius: 50%;\n",
              "    cursor: pointer;\n",
              "    display: none;\n",
              "    fill: var(--fill-color);\n",
              "    height: 32px;\n",
              "    padding: 0;\n",
              "    width: 32px;\n",
              "  }\n",
              "\n",
              "  .colab-df-quickchart:hover {\n",
              "    background-color: var(--hover-bg-color);\n",
              "    box-shadow: 0 1px 2px rgba(60, 64, 67, 0.3), 0 1px 3px 1px rgba(60, 64, 67, 0.15);\n",
              "    fill: var(--button-hover-fill-color);\n",
              "  }\n",
              "\n",
              "  .colab-df-quickchart-complete:disabled,\n",
              "  .colab-df-quickchart-complete:disabled:hover {\n",
              "    background-color: var(--disabled-bg-color);\n",
              "    fill: var(--disabled-fill-color);\n",
              "    box-shadow: none;\n",
              "  }\n",
              "\n",
              "  .colab-df-spinner {\n",
              "    border: 2px solid var(--fill-color);\n",
              "    border-color: transparent;\n",
              "    border-bottom-color: var(--fill-color);\n",
              "    animation:\n",
              "      spin 1s steps(1) infinite;\n",
              "  }\n",
              "\n",
              "  @keyframes spin {\n",
              "    0% {\n",
              "      border-color: transparent;\n",
              "      border-bottom-color: var(--fill-color);\n",
              "      border-left-color: var(--fill-color);\n",
              "    }\n",
              "    20% {\n",
              "      border-color: transparent;\n",
              "      border-left-color: var(--fill-color);\n",
              "      border-top-color: var(--fill-color);\n",
              "    }\n",
              "    30% {\n",
              "      border-color: transparent;\n",
              "      border-left-color: var(--fill-color);\n",
              "      border-top-color: var(--fill-color);\n",
              "      border-right-color: var(--fill-color);\n",
              "    }\n",
              "    40% {\n",
              "      border-color: transparent;\n",
              "      border-right-color: var(--fill-color);\n",
              "      border-top-color: var(--fill-color);\n",
              "    }\n",
              "    60% {\n",
              "      border-color: transparent;\n",
              "      border-right-color: var(--fill-color);\n",
              "    }\n",
              "    80% {\n",
              "      border-color: transparent;\n",
              "      border-right-color: var(--fill-color);\n",
              "      border-bottom-color: var(--fill-color);\n",
              "    }\n",
              "    90% {\n",
              "      border-color: transparent;\n",
              "      border-bottom-color: var(--fill-color);\n",
              "    }\n",
              "  }\n",
              "</style>\n",
              "\n",
              "      <script>\n",
              "        async function quickchart(key) {\n",
              "          const quickchartButtonEl =\n",
              "            document.querySelector('#' + key + ' button');\n",
              "          quickchartButtonEl.disabled = true;  // To prevent multiple clicks.\n",
              "          quickchartButtonEl.classList.add('colab-df-spinner');\n",
              "          try {\n",
              "            const charts = await google.colab.kernel.invokeFunction(\n",
              "                'suggestCharts', [key], {});\n",
              "          } catch (error) {\n",
              "            console.error('Error during call to suggestCharts:', error);\n",
              "          }\n",
              "          quickchartButtonEl.classList.remove('colab-df-spinner');\n",
              "          quickchartButtonEl.classList.add('colab-df-quickchart-complete');\n",
              "        }\n",
              "        (() => {\n",
              "          let quickchartButtonEl =\n",
              "            document.querySelector('#df-a1ddcbf2-42fa-416f-856f-867d48c31393 button');\n",
              "          quickchartButtonEl.style.display =\n",
              "            google.colab.kernel.accessAllowed ? 'block' : 'none';\n",
              "        })();\n",
              "      </script>\n",
              "    </div>\n",
              "\n",
              "    </div>\n",
              "  </div>\n"
            ],
            "application/vnd.google.colaboratory.intrinsic+json": {
              "type": "dataframe",
              "variable_name": "data_extended_employee",
              "summary": "{\n  \"name\": \"data_extended_employee\",\n  \"rows\": 100000,\n  \"fields\": [\n    {\n      \"column\": \"Employee_ID\",\n      \"properties\": {\n        \"dtype\": \"number\",\n        \"std\": 28867,\n        \"min\": 1,\n        \"max\": 100000,\n        \"num_unique_values\": 100000,\n        \"samples\": [\n          75722,\n          80185,\n          19865\n        ],\n        \"semantic_type\": \"\",\n        \"description\": \"\"\n      }\n    },\n    {\n      \"column\": \"Department\",\n      \"properties\": {\n        \"dtype\": \"category\",\n        \"num_unique_values\": 9,\n        \"samples\": [\n          \"Sales\",\n          \"Finance\",\n          \"HR\"\n        ],\n        \"semantic_type\": \"\",\n        \"description\": \"\"\n      }\n    },\n    {\n      \"column\": \"Gender\",\n      \"properties\": {\n        \"dtype\": \"category\",\n        \"num_unique_values\": 3,\n        \"samples\": [\n          \"Male\",\n          \"Female\",\n          \"Other\"\n        ],\n        \"semantic_type\": \"\",\n        \"description\": \"\"\n      }\n    },\n    {\n      \"column\": \"Age\",\n      \"properties\": {\n        \"dtype\": \"number\",\n        \"std\": 11,\n        \"min\": 22,\n        \"max\": 60,\n        \"num_unique_values\": 39,\n        \"samples\": [\n          49,\n          50,\n          43\n        ],\n        \"semantic_type\": \"\",\n        \"description\": \"\"\n      }\n    },\n    {\n      \"column\": \"Job_Title\",\n      \"properties\": {\n        \"dtype\": \"category\",\n        \"num_unique_values\": 7,\n        \"samples\": [\n          \"Specialist\",\n          \"Developer\",\n          \"Engineer\"\n        ],\n        \"semantic_type\": \"\",\n        \"description\": \"\"\n      }\n    },\n    {\n      \"column\": \"Hire_Date\",\n      \"properties\": {\n        \"dtype\": \"object\",\n        \"num_unique_values\": 3650,\n        \"samples\": [\n          \"2016-05-07 08:03:05.556036\",\n          \"2019-12-31 08:03:05.556036\",\n          \"2022-05-19 08:03:05.556036\"\n        ],\n        \"semantic_type\": \"\",\n        \"description\": \"\"\n      }\n    },\n    {\n      \"column\": \"Years_At_Company\",\n      \"properties\": {\n        \"dtype\": \"number\",\n        \"std\": 2,\n        \"min\": 0,\n        \"max\": 10,\n        \"num_unique_values\": 11,\n        \"samples\": [\n          1,\n          2,\n          6\n        ],\n        \"semantic_type\": \"\",\n        \"description\": \"\"\n      }\n    },\n    {\n      \"column\": \"Education_Level\",\n      \"properties\": {\n        \"dtype\": \"category\",\n        \"num_unique_values\": 4,\n        \"samples\": [\n          \"Bachelor\",\n          \"PhD\",\n          \"High School\"\n        ],\n        \"semantic_type\": \"\",\n        \"description\": \"\"\n      }\n    },\n    {\n      \"column\": \"Performance_Score\",\n      \"properties\": {\n        \"dtype\": \"number\",\n        \"std\": 1,\n        \"min\": 1,\n        \"max\": 5,\n        \"num_unique_values\": 5,\n        \"samples\": [\n          3,\n          4,\n          2\n        ],\n        \"semantic_type\": \"\",\n        \"description\": \"\"\n      }\n    },\n    {\n      \"column\": \"Monthly_Salary\",\n      \"properties\": {\n        \"dtype\": \"number\",\n        \"std\": 1372.5087166506169,\n        \"min\": 3850.0,\n        \"max\": 9000.0,\n        \"num_unique_values\": 28,\n        \"samples\": [\n          4900.0,\n          7700.0,\n          6050.0\n        ],\n        \"semantic_type\": \"\",\n        \"description\": \"\"\n      }\n    },\n    {\n      \"column\": \"Work_Hours_Per_Week\",\n      \"properties\": {\n        \"dtype\": \"number\",\n        \"std\": 8,\n        \"min\": 30,\n        \"max\": 60,\n        \"num_unique_values\": 31,\n        \"samples\": [\n          60,\n          30,\n          32\n        ],\n        \"semantic_type\": \"\",\n        \"description\": \"\"\n      }\n    },\n    {\n      \"column\": \"Projects_Handled\",\n      \"properties\": {\n        \"dtype\": \"number\",\n        \"std\": 14,\n        \"min\": 0,\n        \"max\": 49,\n        \"num_unique_values\": 50,\n        \"samples\": [\n          49,\n          38,\n          45\n        ],\n        \"semantic_type\": \"\",\n        \"description\": \"\"\n      }\n    },\n    {\n      \"column\": \"Overtime_Hours\",\n      \"properties\": {\n        \"dtype\": \"number\",\n        \"std\": 8,\n        \"min\": 0,\n        \"max\": 29,\n        \"num_unique_values\": 30,\n        \"samples\": [\n          12,\n          3,\n          11\n        ],\n        \"semantic_type\": \"\",\n        \"description\": \"\"\n      }\n    },\n    {\n      \"column\": \"Sick_Days\",\n      \"properties\": {\n        \"dtype\": \"number\",\n        \"std\": 4,\n        \"min\": 0,\n        \"max\": 14,\n        \"num_unique_values\": 15,\n        \"samples\": [\n          11,\n          9,\n          2\n        ],\n        \"semantic_type\": \"\",\n        \"description\": \"\"\n      }\n    },\n    {\n      \"column\": \"Remote_Work_Frequency\",\n      \"properties\": {\n        \"dtype\": \"number\",\n        \"std\": 35,\n        \"min\": 0,\n        \"max\": 100,\n        \"num_unique_values\": 5,\n        \"samples\": [\n          100,\n          25,\n          50\n        ],\n        \"semantic_type\": \"\",\n        \"description\": \"\"\n      }\n    },\n    {\n      \"column\": \"Team_Size\",\n      \"properties\": {\n        \"dtype\": \"number\",\n        \"std\": 5,\n        \"min\": 1,\n        \"max\": 19,\n        \"num_unique_values\": 19,\n        \"samples\": [\n          14,\n          7,\n          6\n        ],\n        \"semantic_type\": \"\",\n        \"description\": \"\"\n      }\n    },\n    {\n      \"column\": \"Training_Hours\",\n      \"properties\": {\n        \"dtype\": \"number\",\n        \"std\": 28,\n        \"min\": 0,\n        \"max\": 99,\n        \"num_unique_values\": 100,\n        \"samples\": [\n          14,\n          59,\n          35\n        ],\n        \"semantic_type\": \"\",\n        \"description\": \"\"\n      }\n    },\n    {\n      \"column\": \"Promotions\",\n      \"properties\": {\n        \"dtype\": \"number\",\n        \"std\": 0,\n        \"min\": 0,\n        \"max\": 2,\n        \"num_unique_values\": 3,\n        \"samples\": [\n          0,\n          2,\n          1\n        ],\n        \"semantic_type\": \"\",\n        \"description\": \"\"\n      }\n    },\n    {\n      \"column\": \"Employee_Satisfaction_Score\",\n      \"properties\": {\n        \"dtype\": \"number\",\n        \"std\": 1.150719412601181,\n        \"min\": 1.0,\n        \"max\": 5.0,\n        \"num_unique_values\": 401,\n        \"samples\": [\n          1.23,\n          1.2,\n          1.94\n        ],\n        \"semantic_type\": \"\",\n        \"description\": \"\"\n      }\n    },\n    {\n      \"column\": \"Resigned\",\n      \"properties\": {\n        \"dtype\": \"boolean\",\n        \"num_unique_values\": 2,\n        \"samples\": [\n          true,\n          false\n        ],\n        \"semantic_type\": \"\",\n        \"description\": \"\"\n      }\n    }\n  ]\n}"
            }
          },
          "metadata": {},
          "execution_count": 7
        }
      ]
    },
    {
      "cell_type": "code",
      "source": [
        "print(f\"Number of records: {data_extended_employee.shape[0]}\")\n",
        "print(f\"Data format: {type(data_extended_employee)}\")\n",
        "print(f\"Dataset size in MB: {round(data_extended_employee.memory_usage(deep=True).sum() / (1024*1024), 2)}\")"
      ],
      "metadata": {
        "colab": {
          "base_uri": "https://localhost:8080/"
        },
        "id": "Tz_VU1XwNTXB",
        "outputId": "93e39ca9-2ad7-4e85-e1ad-45b9ace0aa7e"
      },
      "execution_count": null,
      "outputs": [
        {
          "output_type": "stream",
          "name": "stdout",
          "text": [
            "Number of records: 100000\n",
            "Data format: <class 'pandas.core.frame.DataFrame'>\n",
            "Dataset size in MB: 39.44\n"
          ]
        }
      ]
    },
    {
      "cell_type": "code",
      "source": [
        "data_extended_employee.info()"
      ],
      "metadata": {
        "colab": {
          "base_uri": "https://localhost:8080/"
        },
        "id": "yew77GBwCO2K",
        "outputId": "18bef377-ed4f-4fde-c0d3-a56d0aa5db6e"
      },
      "execution_count": null,
      "outputs": [
        {
          "output_type": "stream",
          "name": "stdout",
          "text": [
            "<class 'pandas.core.frame.DataFrame'>\n",
            "RangeIndex: 100000 entries, 0 to 99999\n",
            "Data columns (total 20 columns):\n",
            " #   Column                       Non-Null Count   Dtype  \n",
            "---  ------                       --------------   -----  \n",
            " 0   Employee_ID                  100000 non-null  int64  \n",
            " 1   Department                   100000 non-null  object \n",
            " 2   Gender                       100000 non-null  object \n",
            " 3   Age                          100000 non-null  int64  \n",
            " 4   Job_Title                    100000 non-null  object \n",
            " 5   Hire_Date                    100000 non-null  object \n",
            " 6   Years_At_Company             100000 non-null  int64  \n",
            " 7   Education_Level              100000 non-null  object \n",
            " 8   Performance_Score            100000 non-null  int64  \n",
            " 9   Monthly_Salary               100000 non-null  float64\n",
            " 10  Work_Hours_Per_Week          100000 non-null  int64  \n",
            " 11  Projects_Handled             100000 non-null  int64  \n",
            " 12  Overtime_Hours               100000 non-null  int64  \n",
            " 13  Sick_Days                    100000 non-null  int64  \n",
            " 14  Remote_Work_Frequency        100000 non-null  int64  \n",
            " 15  Team_Size                    100000 non-null  int64  \n",
            " 16  Training_Hours               100000 non-null  int64  \n",
            " 17  Promotions                   100000 non-null  int64  \n",
            " 18  Employee_Satisfaction_Score  100000 non-null  float64\n",
            " 19  Resigned                     100000 non-null  bool   \n",
            "dtypes: bool(1), float64(2), int64(12), object(5)\n",
            "memory usage: 14.6+ MB\n"
          ]
        }
      ]
    },
    {
      "cell_type": "markdown",
      "metadata": {
        "id": "vz2WlImOY7wl"
      },
      "source": [
        "### **2.2. Análisis estadístico descriptivo**\n",
        "---\n",
        "\n",
        "Describa el conjunto de datos por medio de estadística descriptiva, aportando interpretaciones precisas que ayuden a entender los datos."
      ]
    },
    {
      "cell_type": "markdown",
      "source": [
        "#### Dataset Mental Health in Tech Survey\n"
      ],
      "metadata": {
        "id": "aSmpcAyd8cxJ"
      }
    },
    {
      "cell_type": "markdown",
      "source": [
        "**Proceso de Limpieza y Preprocesamiento de Datos**\n",
        "\n",
        "El análisis se inició con una fase de **limpieza y preprocesamiento de datos**, un paso fundamental para garantizar que las interpretaciones sean precisas y confiables. El objetivo principal fue abordar dos problemas críticos: la presencia de **valores nulos** y los **datos atípicos** fuera de rangos lógicos.\n",
        "\n",
        "Se trató cada columna de manera específica para evitar sesgos, utilizando diferentes estrategias.\n",
        "\n",
        "Este proceso de limpieza garantiza que los datos estén en un formato óptimo para el modelado y la interpretación, permitiendo que las conclusiones extraídas sean robustas y representativas de la muestra."
      ],
      "metadata": {
        "id": "SGZyMttE_B2o"
      }
    },
    {
      "cell_type": "code",
      "source": [
        "# Calcular la cantidad de valores nulos por columna\n",
        "valores_nulos = data_mental_health.isnull().sum()\n",
        "\n",
        "porcentaje_nulos = (valores_nulos / len(data_mental_health)) * 100\n",
        "\n",
        "resumen_nulos = pd.DataFrame({\n",
        "    'Cantidad de Nulos': valores_nulos,\n",
        "    'Porcentaje de Nulos': porcentaje_nulos\n",
        "})\n",
        "\n",
        "resumen_nulos = resumen_nulos[resumen_nulos['Cantidad de Nulos'] > 0]\n",
        "resumen_nulos"
      ],
      "metadata": {
        "colab": {
          "base_uri": "https://localhost:8080/",
          "height": 175
        },
        "id": "WlnhtSBUWWxO",
        "outputId": "9c7d382c-8828-4997-99a8-3c9d108a478a"
      },
      "execution_count": null,
      "outputs": [
        {
          "output_type": "execute_result",
          "data": {
            "text/plain": [
              "                Cantidad de Nulos  Porcentaje de Nulos\n",
              "state                         515            40.905481\n",
              "self_employed                  18             1.429706\n",
              "work_interfere                264            20.969023\n",
              "comments                     1095            86.973789"
            ],
            "text/html": [
              "\n",
              "  <div id=\"df-c24937ab-dbe6-4850-87a8-90f91994ba7f\" class=\"colab-df-container\">\n",
              "    <div>\n",
              "<style scoped>\n",
              "    .dataframe tbody tr th:only-of-type {\n",
              "        vertical-align: middle;\n",
              "    }\n",
              "\n",
              "    .dataframe tbody tr th {\n",
              "        vertical-align: top;\n",
              "    }\n",
              "\n",
              "    .dataframe thead th {\n",
              "        text-align: right;\n",
              "    }\n",
              "</style>\n",
              "<table border=\"1\" class=\"dataframe\">\n",
              "  <thead>\n",
              "    <tr style=\"text-align: right;\">\n",
              "      <th></th>\n",
              "      <th>Cantidad de Nulos</th>\n",
              "      <th>Porcentaje de Nulos</th>\n",
              "    </tr>\n",
              "  </thead>\n",
              "  <tbody>\n",
              "    <tr>\n",
              "      <th>state</th>\n",
              "      <td>515</td>\n",
              "      <td>40.905481</td>\n",
              "    </tr>\n",
              "    <tr>\n",
              "      <th>self_employed</th>\n",
              "      <td>18</td>\n",
              "      <td>1.429706</td>\n",
              "    </tr>\n",
              "    <tr>\n",
              "      <th>work_interfere</th>\n",
              "      <td>264</td>\n",
              "      <td>20.969023</td>\n",
              "    </tr>\n",
              "    <tr>\n",
              "      <th>comments</th>\n",
              "      <td>1095</td>\n",
              "      <td>86.973789</td>\n",
              "    </tr>\n",
              "  </tbody>\n",
              "</table>\n",
              "</div>\n",
              "    <div class=\"colab-df-buttons\">\n",
              "\n",
              "  <div class=\"colab-df-container\">\n",
              "    <button class=\"colab-df-convert\" onclick=\"convertToInteractive('df-c24937ab-dbe6-4850-87a8-90f91994ba7f')\"\n",
              "            title=\"Convert this dataframe to an interactive table.\"\n",
              "            style=\"display:none;\">\n",
              "\n",
              "  <svg xmlns=\"http://www.w3.org/2000/svg\" height=\"24px\" viewBox=\"0 -960 960 960\">\n",
              "    <path d=\"M120-120v-720h720v720H120Zm60-500h600v-160H180v160Zm220 220h160v-160H400v160Zm0 220h160v-160H400v160ZM180-400h160v-160H180v160Zm440 0h160v-160H620v160ZM180-180h160v-160H180v160Zm440 0h160v-160H620v160Z\"/>\n",
              "  </svg>\n",
              "    </button>\n",
              "\n",
              "  <style>\n",
              "    .colab-df-container {\n",
              "      display:flex;\n",
              "      gap: 12px;\n",
              "    }\n",
              "\n",
              "    .colab-df-convert {\n",
              "      background-color: #E8F0FE;\n",
              "      border: none;\n",
              "      border-radius: 50%;\n",
              "      cursor: pointer;\n",
              "      display: none;\n",
              "      fill: #1967D2;\n",
              "      height: 32px;\n",
              "      padding: 0 0 0 0;\n",
              "      width: 32px;\n",
              "    }\n",
              "\n",
              "    .colab-df-convert:hover {\n",
              "      background-color: #E2EBFA;\n",
              "      box-shadow: 0px 1px 2px rgba(60, 64, 67, 0.3), 0px 1px 3px 1px rgba(60, 64, 67, 0.15);\n",
              "      fill: #174EA6;\n",
              "    }\n",
              "\n",
              "    .colab-df-buttons div {\n",
              "      margin-bottom: 4px;\n",
              "    }\n",
              "\n",
              "    [theme=dark] .colab-df-convert {\n",
              "      background-color: #3B4455;\n",
              "      fill: #D2E3FC;\n",
              "    }\n",
              "\n",
              "    [theme=dark] .colab-df-convert:hover {\n",
              "      background-color: #434B5C;\n",
              "      box-shadow: 0px 1px 3px 1px rgba(0, 0, 0, 0.15);\n",
              "      filter: drop-shadow(0px 1px 2px rgba(0, 0, 0, 0.3));\n",
              "      fill: #FFFFFF;\n",
              "    }\n",
              "  </style>\n",
              "\n",
              "    <script>\n",
              "      const buttonEl =\n",
              "        document.querySelector('#df-c24937ab-dbe6-4850-87a8-90f91994ba7f button.colab-df-convert');\n",
              "      buttonEl.style.display =\n",
              "        google.colab.kernel.accessAllowed ? 'block' : 'none';\n",
              "\n",
              "      async function convertToInteractive(key) {\n",
              "        const element = document.querySelector('#df-c24937ab-dbe6-4850-87a8-90f91994ba7f');\n",
              "        const dataTable =\n",
              "          await google.colab.kernel.invokeFunction('convertToInteractive',\n",
              "                                                    [key], {});\n",
              "        if (!dataTable) return;\n",
              "\n",
              "        const docLinkHtml = 'Like what you see? Visit the ' +\n",
              "          '<a target=\"_blank\" href=https://colab.research.google.com/notebooks/data_table.ipynb>data table notebook</a>'\n",
              "          + ' to learn more about interactive tables.';\n",
              "        element.innerHTML = '';\n",
              "        dataTable['output_type'] = 'display_data';\n",
              "        await google.colab.output.renderOutput(dataTable, element);\n",
              "        const docLink = document.createElement('div');\n",
              "        docLink.innerHTML = docLinkHtml;\n",
              "        element.appendChild(docLink);\n",
              "      }\n",
              "    </script>\n",
              "  </div>\n",
              "\n",
              "\n",
              "    <div id=\"df-38c9a2cf-b222-4462-a2c7-f957c10d7133\">\n",
              "      <button class=\"colab-df-quickchart\" onclick=\"quickchart('df-38c9a2cf-b222-4462-a2c7-f957c10d7133')\"\n",
              "                title=\"Suggest charts\"\n",
              "                style=\"display:none;\">\n",
              "\n",
              "<svg xmlns=\"http://www.w3.org/2000/svg\" height=\"24px\"viewBox=\"0 0 24 24\"\n",
              "     width=\"24px\">\n",
              "    <g>\n",
              "        <path d=\"M19 3H5c-1.1 0-2 .9-2 2v14c0 1.1.9 2 2 2h14c1.1 0 2-.9 2-2V5c0-1.1-.9-2-2-2zM9 17H7v-7h2v7zm4 0h-2V7h2v10zm4 0h-2v-4h2v4z\"/>\n",
              "    </g>\n",
              "</svg>\n",
              "      </button>\n",
              "\n",
              "<style>\n",
              "  .colab-df-quickchart {\n",
              "      --bg-color: #E8F0FE;\n",
              "      --fill-color: #1967D2;\n",
              "      --hover-bg-color: #E2EBFA;\n",
              "      --hover-fill-color: #174EA6;\n",
              "      --disabled-fill-color: #AAA;\n",
              "      --disabled-bg-color: #DDD;\n",
              "  }\n",
              "\n",
              "  [theme=dark] .colab-df-quickchart {\n",
              "      --bg-color: #3B4455;\n",
              "      --fill-color: #D2E3FC;\n",
              "      --hover-bg-color: #434B5C;\n",
              "      --hover-fill-color: #FFFFFF;\n",
              "      --disabled-bg-color: #3B4455;\n",
              "      --disabled-fill-color: #666;\n",
              "  }\n",
              "\n",
              "  .colab-df-quickchart {\n",
              "    background-color: var(--bg-color);\n",
              "    border: none;\n",
              "    border-radius: 50%;\n",
              "    cursor: pointer;\n",
              "    display: none;\n",
              "    fill: var(--fill-color);\n",
              "    height: 32px;\n",
              "    padding: 0;\n",
              "    width: 32px;\n",
              "  }\n",
              "\n",
              "  .colab-df-quickchart:hover {\n",
              "    background-color: var(--hover-bg-color);\n",
              "    box-shadow: 0 1px 2px rgba(60, 64, 67, 0.3), 0 1px 3px 1px rgba(60, 64, 67, 0.15);\n",
              "    fill: var(--button-hover-fill-color);\n",
              "  }\n",
              "\n",
              "  .colab-df-quickchart-complete:disabled,\n",
              "  .colab-df-quickchart-complete:disabled:hover {\n",
              "    background-color: var(--disabled-bg-color);\n",
              "    fill: var(--disabled-fill-color);\n",
              "    box-shadow: none;\n",
              "  }\n",
              "\n",
              "  .colab-df-spinner {\n",
              "    border: 2px solid var(--fill-color);\n",
              "    border-color: transparent;\n",
              "    border-bottom-color: var(--fill-color);\n",
              "    animation:\n",
              "      spin 1s steps(1) infinite;\n",
              "  }\n",
              "\n",
              "  @keyframes spin {\n",
              "    0% {\n",
              "      border-color: transparent;\n",
              "      border-bottom-color: var(--fill-color);\n",
              "      border-left-color: var(--fill-color);\n",
              "    }\n",
              "    20% {\n",
              "      border-color: transparent;\n",
              "      border-left-color: var(--fill-color);\n",
              "      border-top-color: var(--fill-color);\n",
              "    }\n",
              "    30% {\n",
              "      border-color: transparent;\n",
              "      border-left-color: var(--fill-color);\n",
              "      border-top-color: var(--fill-color);\n",
              "      border-right-color: var(--fill-color);\n",
              "    }\n",
              "    40% {\n",
              "      border-color: transparent;\n",
              "      border-right-color: var(--fill-color);\n",
              "      border-top-color: var(--fill-color);\n",
              "    }\n",
              "    60% {\n",
              "      border-color: transparent;\n",
              "      border-right-color: var(--fill-color);\n",
              "    }\n",
              "    80% {\n",
              "      border-color: transparent;\n",
              "      border-right-color: var(--fill-color);\n",
              "      border-bottom-color: var(--fill-color);\n",
              "    }\n",
              "    90% {\n",
              "      border-color: transparent;\n",
              "      border-bottom-color: var(--fill-color);\n",
              "    }\n",
              "  }\n",
              "</style>\n",
              "\n",
              "      <script>\n",
              "        async function quickchart(key) {\n",
              "          const quickchartButtonEl =\n",
              "            document.querySelector('#' + key + ' button');\n",
              "          quickchartButtonEl.disabled = true;  // To prevent multiple clicks.\n",
              "          quickchartButtonEl.classList.add('colab-df-spinner');\n",
              "          try {\n",
              "            const charts = await google.colab.kernel.invokeFunction(\n",
              "                'suggestCharts', [key], {});\n",
              "          } catch (error) {\n",
              "            console.error('Error during call to suggestCharts:', error);\n",
              "          }\n",
              "          quickchartButtonEl.classList.remove('colab-df-spinner');\n",
              "          quickchartButtonEl.classList.add('colab-df-quickchart-complete');\n",
              "        }\n",
              "        (() => {\n",
              "          let quickchartButtonEl =\n",
              "            document.querySelector('#df-38c9a2cf-b222-4462-a2c7-f957c10d7133 button');\n",
              "          quickchartButtonEl.style.display =\n",
              "            google.colab.kernel.accessAllowed ? 'block' : 'none';\n",
              "        })();\n",
              "      </script>\n",
              "    </div>\n",
              "\n",
              "  <div id=\"id_c821e8e1-441f-4829-8b4f-d662df51e28e\">\n",
              "    <style>\n",
              "      .colab-df-generate {\n",
              "        background-color: #E8F0FE;\n",
              "        border: none;\n",
              "        border-radius: 50%;\n",
              "        cursor: pointer;\n",
              "        display: none;\n",
              "        fill: #1967D2;\n",
              "        height: 32px;\n",
              "        padding: 0 0 0 0;\n",
              "        width: 32px;\n",
              "      }\n",
              "\n",
              "      .colab-df-generate:hover {\n",
              "        background-color: #E2EBFA;\n",
              "        box-shadow: 0px 1px 2px rgba(60, 64, 67, 0.3), 0px 1px 3px 1px rgba(60, 64, 67, 0.15);\n",
              "        fill: #174EA6;\n",
              "      }\n",
              "\n",
              "      [theme=dark] .colab-df-generate {\n",
              "        background-color: #3B4455;\n",
              "        fill: #D2E3FC;\n",
              "      }\n",
              "\n",
              "      [theme=dark] .colab-df-generate:hover {\n",
              "        background-color: #434B5C;\n",
              "        box-shadow: 0px 1px 3px 1px rgba(0, 0, 0, 0.15);\n",
              "        filter: drop-shadow(0px 1px 2px rgba(0, 0, 0, 0.3));\n",
              "        fill: #FFFFFF;\n",
              "      }\n",
              "    </style>\n",
              "    <button class=\"colab-df-generate\" onclick=\"generateWithVariable('resumen_nulos')\"\n",
              "            title=\"Generate code using this dataframe.\"\n",
              "            style=\"display:none;\">\n",
              "\n",
              "  <svg xmlns=\"http://www.w3.org/2000/svg\" height=\"24px\"viewBox=\"0 0 24 24\"\n",
              "       width=\"24px\">\n",
              "    <path d=\"M7,19H8.4L18.45,9,17,7.55,7,17.6ZM5,21V16.75L18.45,3.32a2,2,0,0,1,2.83,0l1.4,1.43a1.91,1.91,0,0,1,.58,1.4,1.91,1.91,0,0,1-.58,1.4L9.25,21ZM18.45,9,17,7.55Zm-12,3A5.31,5.31,0,0,0,4.9,8.1,5.31,5.31,0,0,0,1,6.5,5.31,5.31,0,0,0,4.9,4.9,5.31,5.31,0,0,0,6.5,1,5.31,5.31,0,0,0,8.1,4.9,5.31,5.31,0,0,0,12,6.5,5.46,5.46,0,0,0,6.5,12Z\"/>\n",
              "  </svg>\n",
              "    </button>\n",
              "    <script>\n",
              "      (() => {\n",
              "      const buttonEl =\n",
              "        document.querySelector('#id_c821e8e1-441f-4829-8b4f-d662df51e28e button.colab-df-generate');\n",
              "      buttonEl.style.display =\n",
              "        google.colab.kernel.accessAllowed ? 'block' : 'none';\n",
              "\n",
              "      buttonEl.onclick = () => {\n",
              "        google.colab.notebook.generateWithVariable('resumen_nulos');\n",
              "      }\n",
              "      })();\n",
              "    </script>\n",
              "  </div>\n",
              "\n",
              "    </div>\n",
              "  </div>\n"
            ],
            "application/vnd.google.colaboratory.intrinsic+json": {
              "type": "dataframe",
              "variable_name": "resumen_nulos",
              "summary": "{\n  \"name\": \"resumen_nulos\",\n  \"rows\": 4,\n  \"fields\": [\n    {\n      \"column\": \"Cantidad de Nulos\",\n      \"properties\": {\n        \"dtype\": \"number\",\n        \"std\": 461,\n        \"min\": 18,\n        \"max\": 1095,\n        \"num_unique_values\": 4,\n        \"samples\": [\n          18,\n          1095,\n          515\n        ],\n        \"semantic_type\": \"\",\n        \"description\": \"\"\n      }\n    },\n    {\n      \"column\": \"Porcentaje de Nulos\",\n      \"properties\": {\n        \"dtype\": \"number\",\n        \"std\": 36.667756261173665,\n        \"min\": 1.4297061159650517,\n        \"max\": 86.97378872120731,\n        \"num_unique_values\": 4,\n        \"samples\": [\n          1.4297061159650517,\n          86.97378872120731,\n          40.9054805401112\n        ],\n        \"semantic_type\": \"\",\n        \"description\": \"\"\n      }\n    }\n  ]\n}"
            }
          },
          "metadata": {},
          "execution_count": 10
        }
      ]
    },
    {
      "cell_type": "markdown",
      "source": [
        "Para el tratamiento de valores nulos, se han definido dos estrategias. En la columna `state`, la alta cantidad de datos faltantes (casi la mitad) y su naturaleza **categórica nominal** hacen que la eliminación de registros y la imputación tradicional sean inadecuadas. La solución más efectiva es reemplazar los valores nulos con la categoría `\"desconocido\"`, preservando así toda la información. Por otro lado, la columna `comments` tiene un porcentaje de datos nulos extremadamente alto (casi el 87%). Debido a su escasa información útil, no es viable para un análisis estadístico y, por lo tanto, la mejor decisión es **eliminarla por completo** del alcance del proyecto."
      ],
      "metadata": {
        "id": "pJKuymBuYNeZ"
      }
    },
    {
      "cell_type": "code",
      "source": [
        "# Eliminar la columna 'comments' del DataFrame\n",
        "data_mental_health.drop(columns=['comments'], inplace=True)\n",
        "# Reemplazar los valores nulos en la columna 'state' con 'Desconocido'\n",
        "data_mental_health['state'].fillna('Desconocido', inplace=True)"
      ],
      "metadata": {
        "colab": {
          "base_uri": "https://localhost:8080/"
        },
        "id": "c2DbCo2lZFWl",
        "outputId": "19f2bb39-7334-4e8c-9ceb-adce643a2996"
      },
      "execution_count": null,
      "outputs": [
        {
          "output_type": "stream",
          "name": "stderr",
          "text": [
            "/tmp/ipython-input-2784908877.py:4: FutureWarning: A value is trying to be set on a copy of a DataFrame or Series through chained assignment using an inplace method.\n",
            "The behavior will change in pandas 3.0. This inplace method will never work because the intermediate object on which we are setting values always behaves as a copy.\n",
            "\n",
            "For example, when doing 'df[col].method(value, inplace=True)', try using 'df.method({col: value}, inplace=True)' or df[col] = df[col].method(value) instead, to perform the operation inplace on the original object.\n",
            "\n",
            "\n",
            "  data_mental_health['state'].fillna('Desconocido', inplace=True)\n"
          ]
        }
      ]
    },
    {
      "cell_type": "markdown",
      "source": [
        "Para la gestión de los valores nulos en la columna `self_employed`, se ha seleccionado la imputación por moda. Esta técnica resulta apropiada y de mínimo impacto dado que la variable es **categórica y binaria** (Sí/No), y el número de datos faltantes es insignificante. Rellenar estas pocas ausencias con el valor más frecuente no alterará la distribución de la variable ni comprometerá las conclusiones del análisis. El procedimiento a seguir será identificar la moda de la columna y aplicarla para rellenar los valores nulos con la función `fillna()`."
      ],
      "metadata": {
        "id": "GjrgVNO6bq1A"
      }
    },
    {
      "cell_type": "code",
      "source": [
        "moda_self_employed = data_mental_health['self_employed'].mode()[0]\n",
        "print(f\"La moda de 'self_employed' es: {moda_self_employed}\")\n",
        "\n",
        "data_mental_health['self_employed'].fillna(moda_self_employed, inplace=True)\n",
        "print(f\"Valores nulos en 'self_employed' después de la imputación: {data_mental_health['self_employed'].isnull().sum()}\")"
      ],
      "metadata": {
        "colab": {
          "base_uri": "https://localhost:8080/"
        },
        "id": "FgGp3d-2dNME",
        "outputId": "ecf18006-c144-484f-f650-9ff1aeb97d78"
      },
      "execution_count": null,
      "outputs": [
        {
          "output_type": "stream",
          "name": "stdout",
          "text": [
            "La moda de 'self_employed' es: No\n",
            "Valores nulos en 'self_employed' después de la imputación: 0\n"
          ]
        },
        {
          "output_type": "stream",
          "name": "stderr",
          "text": [
            "/tmp/ipython-input-2613729501.py:4: FutureWarning: A value is trying to be set on a copy of a DataFrame or Series through chained assignment using an inplace method.\n",
            "The behavior will change in pandas 3.0. This inplace method will never work because the intermediate object on which we are setting values always behaves as a copy.\n",
            "\n",
            "For example, when doing 'df[col].method(value, inplace=True)', try using 'df.method({col: value}, inplace=True)' or df[col] = df[col].method(value) instead, to perform the operation inplace on the original object.\n",
            "\n",
            "\n",
            "  data_mental_health['self_employed'].fillna(moda_self_employed, inplace=True)\n"
          ]
        }
      ]
    },
    {
      "cell_type": "markdown",
      "source": [
        "La mejor estrategia para manejar los valores nulos en la columna `work_interfere` es la **creación de una nueva categoría** No Aplica llamada `\"N/A\"`. Esta solución es la más lógica, ya que los valores faltantes probablemente corresponden a encuestados que no tienen una condición de salud mental y, por lo tanto, la pregunta sobre la interferencia del trabajo en su condición no es relevante. Esta aproximación no solo evita la pérdida de datos, sino que también preserva la integridad de la información al reflejar el contexto real de las respuestas, lo que garantiza un análisis más preciso."
      ],
      "metadata": {
        "id": "idWuaYtmbqyY"
      }
    },
    {
      "cell_type": "code",
      "source": [
        "data_mental_health['work_interfere'].fillna('N/A', inplace=True)\n",
        "\n",
        "# Contar los valores de la columna para ver la nueva distribución\n",
        "print(data_mental_health['work_interfere'].value_counts())"
      ],
      "metadata": {
        "colab": {
          "base_uri": "https://localhost:8080/"
        },
        "id": "FhwqmoMyeuRx",
        "outputId": "06749ae6-05e9-4ad8-bb6d-d205c5b7a1a1"
      },
      "execution_count": null,
      "outputs": [
        {
          "output_type": "stream",
          "name": "stdout",
          "text": [
            "work_interfere\n",
            "Sometimes    465\n",
            "N/A          264\n",
            "Never        213\n",
            "Rarely       173\n",
            "Often        144\n",
            "Name: count, dtype: int64\n"
          ]
        },
        {
          "output_type": "stream",
          "name": "stderr",
          "text": [
            "/tmp/ipython-input-3988867988.py:1: FutureWarning: A value is trying to be set on a copy of a DataFrame or Series through chained assignment using an inplace method.\n",
            "The behavior will change in pandas 3.0. This inplace method will never work because the intermediate object on which we are setting values always behaves as a copy.\n",
            "\n",
            "For example, when doing 'df[col].method(value, inplace=True)', try using 'df.method({col: value}, inplace=True)' or df[col] = df[col].method(value) instead, to perform the operation inplace on the original object.\n",
            "\n",
            "\n",
            "  data_mental_health['work_interfere'].fillna('N/A', inplace=True)\n"
          ]
        }
      ]
    },
    {
      "cell_type": "code",
      "source": [
        "\n",
        "edad_minima = data_mental_health['Age'].min()\n",
        "edad_maxima = data_mental_health['Age'].max()\n",
        "\n",
        "print(f\"La edad mínima en el conjunto de datos es: {edad_minima} años\")\n",
        "print(f\"La edad máxima en el conjunto de datos es: {edad_maxima} años\")"
      ],
      "metadata": {
        "colab": {
          "base_uri": "https://localhost:8080/"
        },
        "id": "1MjQHG1hghB2",
        "outputId": "9d725932-b7eb-4721-c03e-66bb21a3ba1f"
      },
      "execution_count": null,
      "outputs": [
        {
          "output_type": "stream",
          "name": "stdout",
          "text": [
            "La edad mínima en el conjunto de datos es: -1726 años\n",
            "La edad máxima en el conjunto de datos es: 99999999999 años\n"
          ]
        }
      ]
    },
    {
      "cell_type": "markdown",
      "source": [
        "Estos valores son imposibles de acuerdo con la realidad de la variable **Age**. La presencia de estos datos extremos distorsiona cualquier análisis estadístico que se realice, como la media o la desviación estándar, ya que esos valores inflarían o reducirían significativamente los resultados. Por lo tanto, es esencial limpiar el dataset eliminando estos registros para asegurar que cualquier conclusión extraída sea precisa y representativa de la población encuestada."
      ],
      "metadata": {
        "id": "zpAc9lIPlptA"
      }
    },
    {
      "cell_type": "code",
      "source": [
        "# Rango de edad aceptable\n",
        "edad_min = 18\n",
        "edad_max = 65\n",
        "\n",
        "df_fil_data_mental_health = data_mental_health[(data_mental_health['Age'] >= edad_min) & (data_mental_health['Age'] <= edad_max)]\n",
        "\n",
        "print(f\"Nueva edad mínima en el conjunto de datos: {df_fil_data_mental_health['Age'].min()} años\")\n",
        "print(f\"Nueva edad máxima en el conjunto de datos: {df_fil_data_mental_health['Age'].max()} años\")"
      ],
      "metadata": {
        "colab": {
          "base_uri": "https://localhost:8080/"
        },
        "id": "5eqPNwffjRdt",
        "outputId": "45d01ba1-56bd-4266-ad84-c4f78743c389"
      },
      "execution_count": null,
      "outputs": [
        {
          "output_type": "stream",
          "name": "stdout",
          "text": [
            "Nueva edad mínima en el conjunto de datos: 18 años\n",
            "Nueva edad máxima en el conjunto de datos: 65 años\n"
          ]
        }
      ]
    },
    {
      "cell_type": "markdown",
      "source": [
        "Para obtener una visión real de la distribución de la edad, es crucial limpiar el dataset eliminando estos datos erróneos, lo que nos permite recalcular el boxplot y revelar la verdadera distribución, la cual nos muestra la concentración de las edades de los encuestados en el rango intercuartílico y nos ayuda a tomar decisiones informadas sobre qué datos son realmente representativos de nuestra muestra. Al filtrar la columna Age para incluir solo valores lógicos, como el rango de 18 a 65 años, no solo mejoramos la visualización, sino que garantizamos que las futuras métricas de estadística no se vean distorsionadas por datos que no son representativos de la realidad."
      ],
      "metadata": {
        "id": "GW7rkrczl0aH"
      }
    },
    {
      "cell_type": "code",
      "source": [
        "import seaborn as sns\n",
        "import matplotlib.pyplot as plt\n",
        "\n",
        "# Crear un boxplot de la columna 'Age'\n",
        "sns.boxplot(x=df_fil_data_mental_health['Age'])\n",
        "plt.title('Boxplot de la Edad')\n",
        "plt.show()"
      ],
      "metadata": {
        "colab": {
          "base_uri": "https://localhost:8080/",
          "height": 472
        },
        "id": "gmeupIvZh0mC",
        "outputId": "cd840274-f1a5-4e63-cde9-a854f92f5525"
      },
      "execution_count": null,
      "outputs": [
        {
          "output_type": "display_data",
          "data": {
            "text/plain": [
              "<Figure size 640x480 with 1 Axes>"
            ],
            "image/png": "[encoded data removed]"
          },
          "metadata": {}
        }
      ]
    },
    {
      "cell_type": "markdown",
      "source": [
        "El análisis estadístico de la variable edad en el conjunto de datos revela información clave sobre la muestra. Con un total de **1,250 registros válidos**, se establece una base sólida para el estudio. La **edad promedio** de los encuestados es de aproximadamente **32 años**, lo que indica que la muestra está compuesta, en su mayoría, por un grupo demográfico relativamente joven.\n",
        "\n",
        "La **desviación estándar** de **7.2 años** señala que las edades individuales de los encuestados no se alejan significativamente de la media, lo que sugiere una distribución de datos bastante homogénea. Además, la proximidad entre la **media (32 años)** y la **mediana (31 años)** indica que la distribución de la edad es notablemente simétrica y no presenta un sesgo considerable. Los valores **mínimo (18 años)** y **máximo (65 años)** confirman el éxito del proceso de filtrado de datos, asegurando que el análisis se realiza sobre un rango de edad coherente y representativo para la encuesta."
      ],
      "metadata": {
        "id": "n_1xsh1qoxsx"
      }
    },
    {
      "cell_type": "code",
      "source": [
        "df_fil_data_mental_health['Age'].describe()"
      ],
      "metadata": {
        "colab": {
          "base_uri": "https://localhost:8080/",
          "height": 335
        },
        "id": "uLD5ZDounEdg",
        "outputId": "47419a8f-6245-4be3-dc6d-ab75cd316645"
      },
      "execution_count": null,
      "outputs": [
        {
          "output_type": "execute_result",
          "data": {
            "text/plain": [
              "count    1250.000000\n",
              "mean       32.044800\n",
              "std         7.203076\n",
              "min        18.000000\n",
              "25%        27.000000\n",
              "50%        31.000000\n",
              "75%        36.000000\n",
              "max        65.000000\n",
              "Name: Age, dtype: float64"
            ],
            "text/html": [
              "<div>\n",
              "<style scoped>\n",
              "    .dataframe tbody tr th:only-of-type {\n",
              "        vertical-align: middle;\n",
              "    }\n",
              "\n",
              "    .dataframe tbody tr th {\n",
              "        vertical-align: top;\n",
              "    }\n",
              "\n",
              "    .dataframe thead th {\n",
              "        text-align: right;\n",
              "    }\n",
              "</style>\n",
              "<table border=\"1\" class=\"dataframe\">\n",
              "  <thead>\n",
              "    <tr style=\"text-align: right;\">\n",
              "      <th></th>\n",
              "      <th>Age</th>\n",
              "    </tr>\n",
              "  </thead>\n",
              "  <tbody>\n",
              "    <tr>\n",
              "      <th>count</th>\n",
              "      <td>1250.000000</td>\n",
              "    </tr>\n",
              "    <tr>\n",
              "      <th>mean</th>\n",
              "      <td>32.044800</td>\n",
              "    </tr>\n",
              "    <tr>\n",
              "      <th>std</th>\n",
              "      <td>7.203076</td>\n",
              "    </tr>\n",
              "    <tr>\n",
              "      <th>min</th>\n",
              "      <td>18.000000</td>\n",
              "    </tr>\n",
              "    <tr>\n",
              "      <th>25%</th>\n",
              "      <td>27.000000</td>\n",
              "    </tr>\n",
              "    <tr>\n",
              "      <th>50%</th>\n",
              "      <td>31.000000</td>\n",
              "    </tr>\n",
              "    <tr>\n",
              "      <th>75%</th>\n",
              "      <td>36.000000</td>\n",
              "    </tr>\n",
              "    <tr>\n",
              "      <th>max</th>\n",
              "      <td>65.000000</td>\n",
              "    </tr>\n",
              "  </tbody>\n",
              "</table>\n",
              "</div><br><label><b>dtype:</b> float64</label>"
            ]
          },
          "metadata": {},
          "execution_count": 17
        }
      ]
    },
    {
      "cell_type": "markdown",
      "source": [
        "Realizamos una estandarización de la columna `Gender` ya que enocntramos la necesidad de corregir las **inconsistencias** y variantes tipográficas halladas durante la fase inicial del análisis. Al encontrarse más de 20 valores distintos (como 'm', 'F', 'Malr', 'Woman', etc.), se hizo imposible realizar un análisis preciso de la distribución demográfica. Para solucionar este problema, se implementó una estrategia de **limpieza y normalización de datos** que consistió en agrupar todos los términos relacionados en solo tres categorías principales: **'Male'**, **'Female'** y **'Other'**."
      ],
      "metadata": {
        "id": "N9k2yq4F172u"
      }
    },
    {
      "cell_type": "code",
      "source": [
        "df_fil_data_mental_health['Gender'].value_counts()"
      ],
      "metadata": {
        "colab": {
          "base_uri": "https://localhost:8080/",
          "height": 1000
        },
        "id": "oBMdu71ZpUUo",
        "outputId": "087c9c26-cd92-49c0-b261-c46d58a0e84b"
      },
      "execution_count": null,
      "outputs": [
        {
          "output_type": "execute_result",
          "data": {
            "text/plain": [
              "Gender\n",
              "Male                                              612\n",
              "male                                              204\n",
              "Female                                            120\n",
              "M                                                 116\n",
              "female                                             62\n",
              "F                                                  38\n",
              "m                                                  34\n",
              "f                                                  15\n",
              "Make                                                4\n",
              "Woman                                               3\n",
              "Male                                                3\n",
              "Female                                              2\n",
              "Cis Male                                            2\n",
              "Man                                                 2\n",
              "Female (trans)                                      2\n",
              "something kinda male?                               1\n",
              "Trans-female                                        1\n",
              "Cis Female                                          1\n",
              "Male-ish                                            1\n",
              "maile                                               1\n",
              "queer/she/they                                      1\n",
              "Male (CIS)                                          1\n",
              "woman                                               1\n",
              "Nah                                                 1\n",
              "fluid                                               1\n",
              "Enby                                                1\n",
              "Genderqueer                                         1\n",
              "non-binary                                          1\n",
              "Femake                                              1\n",
              "Mal                                                 1\n",
              "cis-female/femme                                    1\n",
              "Agender                                             1\n",
              "Androgyne                                           1\n",
              "male leaning androgynous                            1\n",
              "Guy (-ish) ^_^                                      1\n",
              "Trans woman                                         1\n",
              "msle                                                1\n",
              "Neuter                                              1\n",
              "queer                                               1\n",
              "Female (cis)                                        1\n",
              "Mail                                                1\n",
              "cis male                                            1\n",
              "Malr                                                1\n",
              "femail                                              1\n",
              "Cis Man                                             1\n",
              "ostensibly male, unsure what that really means      1\n",
              "Name: count, dtype: int64"
            ],
            "text/html": [
              "<div>\n",
              "<style scoped>\n",
              "    .dataframe tbody tr th:only-of-type {\n",
              "        vertical-align: middle;\n",
              "    }\n",
              "\n",
              "    .dataframe tbody tr th {\n",
              "        vertical-align: top;\n",
              "    }\n",
              "\n",
              "    .dataframe thead th {\n",
              "        text-align: right;\n",
              "    }\n",
              "</style>\n",
              "<table border=\"1\" class=\"dataframe\">\n",
              "  <thead>\n",
              "    <tr style=\"text-align: right;\">\n",
              "      <th></th>\n",
              "      <th>count</th>\n",
              "    </tr>\n",
              "    <tr>\n",
              "      <th>Gender</th>\n",
              "      <th></th>\n",
              "    </tr>\n",
              "  </thead>\n",
              "  <tbody>\n",
              "    <tr>\n",
              "      <th>Male</th>\n",
              "      <td>612</td>\n",
              "    </tr>\n",
              "    <tr>\n",
              "      <th>male</th>\n",
              "      <td>204</td>\n",
              "    </tr>\n",
              "    <tr>\n",
              "      <th>Female</th>\n",
              "      <td>120</td>\n",
              "    </tr>\n",
              "    <tr>\n",
              "      <th>M</th>\n",
              "      <td>116</td>\n",
              "    </tr>\n",
              "    <tr>\n",
              "      <th>female</th>\n",
              "      <td>62</td>\n",
              "    </tr>\n",
              "    <tr>\n",
              "      <th>F</th>\n",
              "      <td>38</td>\n",
              "    </tr>\n",
              "    <tr>\n",
              "      <th>m</th>\n",
              "      <td>34</td>\n",
              "    </tr>\n",
              "    <tr>\n",
              "      <th>f</th>\n",
              "      <td>15</td>\n",
              "    </tr>\n",
              "    <tr>\n",
              "      <th>Make</th>\n",
              "      <td>4</td>\n",
              "    </tr>\n",
              "    <tr>\n",
              "      <th>Woman</th>\n",
              "      <td>3</td>\n",
              "    </tr>\n",
              "    <tr>\n",
              "      <th>Male</th>\n",
              "      <td>3</td>\n",
              "    </tr>\n",
              "    <tr>\n",
              "      <th>Female</th>\n",
              "      <td>2</td>\n",
              "    </tr>\n",
              "    <tr>\n",
              "      <th>Cis Male</th>\n",
              "      <td>2</td>\n",
              "    </tr>\n",
              "    <tr>\n",
              "      <th>Man</th>\n",
              "      <td>2</td>\n",
              "    </tr>\n",
              "    <tr>\n",
              "      <th>Female (trans)</th>\n",
              "      <td>2</td>\n",
              "    </tr>\n",
              "    <tr>\n",
              "      <th>something kinda male?</th>\n",
              "      <td>1</td>\n",
              "    </tr>\n",
              "    <tr>\n",
              "      <th>Trans-female</th>\n",
              "      <td>1</td>\n",
              "    </tr>\n",
              "    <tr>\n",
              "      <th>Cis Female</th>\n",
              "      <td>1</td>\n",
              "    </tr>\n",
              "    <tr>\n",
              "      <th>Male-ish</th>\n",
              "      <td>1</td>\n",
              "    </tr>\n",
              "    <tr>\n",
              "      <th>maile</th>\n",
              "      <td>1</td>\n",
              "    </tr>\n",
              "    <tr>\n",
              "      <th>queer/she/they</th>\n",
              "      <td>1</td>\n",
              "    </tr>\n",
              "    <tr>\n",
              "      <th>Male (CIS)</th>\n",
              "      <td>1</td>\n",
              "    </tr>\n",
              "    <tr>\n",
              "      <th>woman</th>\n",
              "      <td>1</td>\n",
              "    </tr>\n",
              "    <tr>\n",
              "      <th>Nah</th>\n",
              "      <td>1</td>\n",
              "    </tr>\n",
              "    <tr>\n",
              "      <th>fluid</th>\n",
              "      <td>1</td>\n",
              "    </tr>\n",
              "    <tr>\n",
              "      <th>Enby</th>\n",
              "      <td>1</td>\n",
              "    </tr>\n",
              "    <tr>\n",
              "      <th>Genderqueer</th>\n",
              "      <td>1</td>\n",
              "    </tr>\n",
              "    <tr>\n",
              "      <th>non-binary</th>\n",
              "      <td>1</td>\n",
              "    </tr>\n",
              "    <tr>\n",
              "      <th>Femake</th>\n",
              "      <td>1</td>\n",
              "    </tr>\n",
              "    <tr>\n",
              "      <th>Mal</th>\n",
              "      <td>1</td>\n",
              "    </tr>\n",
              "    <tr>\n",
              "      <th>cis-female/femme</th>\n",
              "      <td>1</td>\n",
              "    </tr>\n",
              "    <tr>\n",
              "      <th>Agender</th>\n",
              "      <td>1</td>\n",
              "    </tr>\n",
              "    <tr>\n",
              "      <th>Androgyne</th>\n",
              "      <td>1</td>\n",
              "    </tr>\n",
              "    <tr>\n",
              "      <th>male leaning androgynous</th>\n",
              "      <td>1</td>\n",
              "    </tr>\n",
              "    <tr>\n",
              "      <th>Guy (-ish) ^_^</th>\n",
              "      <td>1</td>\n",
              "    </tr>\n",
              "    <tr>\n",
              "      <th>Trans woman</th>\n",
              "      <td>1</td>\n",
              "    </tr>\n",
              "    <tr>\n",
              "      <th>msle</th>\n",
              "      <td>1</td>\n",
              "    </tr>\n",
              "    <tr>\n",
              "      <th>Neuter</th>\n",
              "      <td>1</td>\n",
              "    </tr>\n",
              "    <tr>\n",
              "      <th>queer</th>\n",
              "      <td>1</td>\n",
              "    </tr>\n",
              "    <tr>\n",
              "      <th>Female (cis)</th>\n",
              "      <td>1</td>\n",
              "    </tr>\n",
              "    <tr>\n",
              "      <th>Mail</th>\n",
              "      <td>1</td>\n",
              "    </tr>\n",
              "    <tr>\n",
              "      <th>cis male</th>\n",
              "      <td>1</td>\n",
              "    </tr>\n",
              "    <tr>\n",
              "      <th>Malr</th>\n",
              "      <td>1</td>\n",
              "    </tr>\n",
              "    <tr>\n",
              "      <th>femail</th>\n",
              "      <td>1</td>\n",
              "    </tr>\n",
              "    <tr>\n",
              "      <th>Cis Man</th>\n",
              "      <td>1</td>\n",
              "    </tr>\n",
              "    <tr>\n",
              "      <th>ostensibly male, unsure what that really means</th>\n",
              "      <td>1</td>\n",
              "    </tr>\n",
              "  </tbody>\n",
              "</table>\n",
              "</div><br><label><b>dtype:</b> int64</label>"
            ]
          },
          "metadata": {},
          "execution_count": 18
        }
      ]
    },
    {
      "cell_type": "code",
      "source": [
        "# Definir las listas de términos a estandarizar\n",
        "terms_male = ['m','Male','Man','Male (CIS)','Mal','Cis Man','cis male','maile','msle','Mail','Mair','Make']\n",
        "terms_female = ['Female', 'F', 'Woman', 'Female', 'Cis Female', 'woman', 'cis-female/femme', 'Female (cis)', 'femail']\n",
        "\n",
        "def classify_gender(gender):\n",
        "    gender = str(gender).strip().capitalize()\n",
        "    if gender in terms_male:\n",
        "        return 'Male'\n",
        "    elif gender in terms_female:\n",
        "        return 'Female'\n",
        "    else:\n",
        "        return 'Other'\n",
        "\n",
        "df_fil_data_mental_health['Gender'] = df_fil_data_mental_health['Gender'].apply(classify_gender)\n",
        "df_fil_data_mental_health['Gender'].value_counts()"
      ],
      "metadata": {
        "colab": {
          "base_uri": "https://localhost:8080/",
          "height": 314
        },
        "id": "Mn220F3EqIfn",
        "outputId": "8f9f6b70-15cc-4870-a0c7-fe57acb3520a"
      },
      "execution_count": null,
      "outputs": [
        {
          "output_type": "stream",
          "name": "stderr",
          "text": [
            "/tmp/ipython-input-2849756925.py:14: SettingWithCopyWarning: \n",
            "A value is trying to be set on a copy of a slice from a DataFrame.\n",
            "Try using .loc[row_indexer,col_indexer] = value instead\n",
            "\n",
            "See the caveats in the documentation: https://pandas.pydata.org/pandas-docs/stable/user_guide/indexing.html#returning-a-view-versus-a-copy\n",
            "  df_fil_data_mental_health['Gender'] = df_fil_data_mental_health['Gender'].apply(classify_gender)\n"
          ]
        },
        {
          "output_type": "execute_result",
          "data": {
            "text/plain": [
              "Gender\n",
              "Male      827\n",
              "Female    242\n",
              "Other     181\n",
              "Name: count, dtype: int64"
            ],
            "text/html": [
              "<div>\n",
              "<style scoped>\n",
              "    .dataframe tbody tr th:only-of-type {\n",
              "        vertical-align: middle;\n",
              "    }\n",
              "\n",
              "    .dataframe tbody tr th {\n",
              "        vertical-align: top;\n",
              "    }\n",
              "\n",
              "    .dataframe thead th {\n",
              "        text-align: right;\n",
              "    }\n",
              "</style>\n",
              "<table border=\"1\" class=\"dataframe\">\n",
              "  <thead>\n",
              "    <tr style=\"text-align: right;\">\n",
              "      <th></th>\n",
              "      <th>count</th>\n",
              "    </tr>\n",
              "    <tr>\n",
              "      <th>Gender</th>\n",
              "      <th></th>\n",
              "    </tr>\n",
              "  </thead>\n",
              "  <tbody>\n",
              "    <tr>\n",
              "      <th>Male</th>\n",
              "      <td>827</td>\n",
              "    </tr>\n",
              "    <tr>\n",
              "      <th>Female</th>\n",
              "      <td>242</td>\n",
              "    </tr>\n",
              "    <tr>\n",
              "      <th>Other</th>\n",
              "      <td>181</td>\n",
              "    </tr>\n",
              "  </tbody>\n",
              "</table>\n",
              "</div><br><label><b>dtype:</b> int64</label>"
            ]
          },
          "metadata": {},
          "execution_count": 19
        }
      ]
    },
    {
      "cell_type": "code",
      "source": [
        "df_fil_data_mental_health['no_employees'].value_counts()\n",
        "\n",
        "df_fil_data_mental_health['work_interfere'].value_counts()"
      ],
      "metadata": {
        "colab": {
          "base_uri": "https://localhost:8080/",
          "height": 272
        },
        "id": "uDIfnTRXIEKC",
        "outputId": "8b12e364-836f-4155-f18a-45fc68a55aa2"
      },
      "execution_count": null,
      "outputs": [
        {
          "output_type": "execute_result",
          "data": {
            "text/plain": [
              "work_interfere\n",
              "Sometimes    464\n",
              "N/A          262\n",
              "Never        211\n",
              "Rarely       173\n",
              "Often        140\n",
              "Name: count, dtype: int64"
            ],
            "text/html": [
              "<div>\n",
              "<style scoped>\n",
              "    .dataframe tbody tr th:only-of-type {\n",
              "        vertical-align: middle;\n",
              "    }\n",
              "\n",
              "    .dataframe tbody tr th {\n",
              "        vertical-align: top;\n",
              "    }\n",
              "\n",
              "    .dataframe thead th {\n",
              "        text-align: right;\n",
              "    }\n",
              "</style>\n",
              "<table border=\"1\" class=\"dataframe\">\n",
              "  <thead>\n",
              "    <tr style=\"text-align: right;\">\n",
              "      <th></th>\n",
              "      <th>count</th>\n",
              "    </tr>\n",
              "    <tr>\n",
              "      <th>work_interfere</th>\n",
              "      <th></th>\n",
              "    </tr>\n",
              "  </thead>\n",
              "  <tbody>\n",
              "    <tr>\n",
              "      <th>Sometimes</th>\n",
              "      <td>464</td>\n",
              "    </tr>\n",
              "    <tr>\n",
              "      <th>N/A</th>\n",
              "      <td>262</td>\n",
              "    </tr>\n",
              "    <tr>\n",
              "      <th>Never</th>\n",
              "      <td>211</td>\n",
              "    </tr>\n",
              "    <tr>\n",
              "      <th>Rarely</th>\n",
              "      <td>173</td>\n",
              "    </tr>\n",
              "    <tr>\n",
              "      <th>Often</th>\n",
              "      <td>140</td>\n",
              "    </tr>\n",
              "  </tbody>\n",
              "</table>\n",
              "</div><br><label><b>dtype:</b> int64</label>"
            ]
          },
          "metadata": {},
          "execution_count": 20
        }
      ]
    },
    {
      "cell_type": "markdown",
      "source": [
        "**Análisis de Asociación entre `family_history` y `treatment`**\n",
        "\n",
        "La exploración inicial del conjunto de datos reveló la variable `family_history` como un factor potencialmente influyente en la decisión de buscar tratamiento para la salud mental. Para determinar si existe una relación estadísticamente significativa entre ambas variables, se plantea la siguiente pregunta de investigación:\n",
        "\n",
        "**¿Existe una relación entre tener antecedentes familiares de enfermedades mentales (`family_history`) y la búsqueda de tratamiento (`treatment`)?**\n",
        "\n",
        "\n",
        "* **Sin historial familiar:** Un total de 492 personas no tienen antecedentes y no han buscado tratamiento. Esto tiene sentido, ya que si no hay un historial, es menos probable que el tema sea relevante.\n",
        "\n",
        "* **Con historial familiar y buscando tratamiento:** Hay 361 personas con antecedentes familiares que sí han buscado tratamiento. Este es un número bastante alto, y sugiere una correlación fuerte.\n",
        "\n",
        "* **Sin historial familiar y buscando tratamiento:** Unas 270 personas sin antecedentes familiares han buscado tratamiento. Esto nos dice que, aunque no haya un factor hereditario claro, muchos encuestados reconocen la importancia de su salud mental."
      ],
      "metadata": {
        "id": "0_1FTOqSw5ij"
      }
    },
    {
      "cell_type": "code",
      "source": [
        "print(df_fil_data_mental_health['family_history'].value_counts())\n",
        "print()\n",
        "print(df_fil_data_mental_health['treatment'].value_counts())\n",
        "\n",
        "tabla_cruzada = pd.crosstab(df_fil_data_mental_health['family_history'], df_fil_data_mental_health['treatment'])\n",
        "\n",
        "print()\n",
        "tabla_cruzada"
      ],
      "metadata": {
        "colab": {
          "base_uri": "https://localhost:8080/",
          "height": 317
        },
        "id": "tEhKDA37w2t9",
        "outputId": "2165296e-9736-4ca9-e4df-99ec4b3b57f8"
      },
      "execution_count": null,
      "outputs": [
        {
          "output_type": "stream",
          "name": "stdout",
          "text": [
            "family_history\n",
            "False    762\n",
            "True     488\n",
            "Name: count, dtype: int64\n",
            "\n",
            "treatment\n",
            "True     631\n",
            "False    619\n",
            "Name: count, dtype: int64\n",
            "\n"
          ]
        },
        {
          "output_type": "execute_result",
          "data": {
            "text/plain": [
              "treatment       False  True \n",
              "family_history              \n",
              "False             492    270\n",
              "True              127    361"
            ],
            "text/html": [
              "\n",
              "  <div id=\"df-9357c0aa-08d2-48e2-9f6f-4adcee5ec2c1\" class=\"colab-df-container\">\n",
              "    <div>\n",
              "<style scoped>\n",
              "    .dataframe tbody tr th:only-of-type {\n",
              "        vertical-align: middle;\n",
              "    }\n",
              "\n",
              "    .dataframe tbody tr th {\n",
              "        vertical-align: top;\n",
              "    }\n",
              "\n",
              "    .dataframe thead th {\n",
              "        text-align: right;\n",
              "    }\n",
              "</style>\n",
              "<table border=\"1\" class=\"dataframe\">\n",
              "  <thead>\n",
              "    <tr style=\"text-align: right;\">\n",
              "      <th>treatment</th>\n",
              "      <th>False</th>\n",
              "      <th>True</th>\n",
              "    </tr>\n",
              "    <tr>\n",
              "      <th>family_history</th>\n",
              "      <th></th>\n",
              "      <th></th>\n",
              "    </tr>\n",
              "  </thead>\n",
              "  <tbody>\n",
              "    <tr>\n",
              "      <th>False</th>\n",
              "      <td>492</td>\n",
              "      <td>270</td>\n",
              "    </tr>\n",
              "    <tr>\n",
              "      <th>True</th>\n",
              "      <td>127</td>\n",
              "      <td>361</td>\n",
              "    </tr>\n",
              "  </tbody>\n",
              "</table>\n",
              "</div>\n",
              "    <div class=\"colab-df-buttons\">\n",
              "\n",
              "  <div class=\"colab-df-container\">\n",
              "    <button class=\"colab-df-convert\" onclick=\"convertToInteractive('df-9357c0aa-08d2-48e2-9f6f-4adcee5ec2c1')\"\n",
              "            title=\"Convert this dataframe to an interactive table.\"\n",
              "            style=\"display:none;\">\n",
              "\n",
              "  <svg xmlns=\"http://www.w3.org/2000/svg\" height=\"24px\" viewBox=\"0 -960 960 960\">\n",
              "    <path d=\"M120-120v-720h720v720H120Zm60-500h600v-160H180v160Zm220 220h160v-160H400v160Zm0 220h160v-160H400v160ZM180-400h160v-160H180v160Zm440 0h160v-160H620v160ZM180-180h160v-160H180v160Zm440 0h160v-160H620v160Z\"/>\n",
              "  </svg>\n",
              "    </button>\n",
              "\n",
              "  <style>\n",
              "    .colab-df-container {\n",
              "      display:flex;\n",
              "      gap: 12px;\n",
              "    }\n",
              "\n",
              "    .colab-df-convert {\n",
              "      background-color: #E8F0FE;\n",
              "      border: none;\n",
              "      border-radius: 50%;\n",
              "      cursor: pointer;\n",
              "      display: none;\n",
              "      fill: #1967D2;\n",
              "      height: 32px;\n",
              "      padding: 0 0 0 0;\n",
              "      width: 32px;\n",
              "    }\n",
              "\n",
              "    .colab-df-convert:hover {\n",
              "      background-color: #E2EBFA;\n",
              "      box-shadow: 0px 1px 2px rgba(60, 64, 67, 0.3), 0px 1px 3px 1px rgba(60, 64, 67, 0.15);\n",
              "      fill: #174EA6;\n",
              "    }\n",
              "\n",
              "    .colab-df-buttons div {\n",
              "      margin-bottom: 4px;\n",
              "    }\n",
              "\n",
              "    [theme=dark] .colab-df-convert {\n",
              "      background-color: #3B4455;\n",
              "      fill: #D2E3FC;\n",
              "    }\n",
              "\n",
              "    [theme=dark] .colab-df-convert:hover {\n",
              "      background-color: #434B5C;\n",
              "      box-shadow: 0px 1px 3px 1px rgba(0, 0, 0, 0.15);\n",
              "      filter: drop-shadow(0px 1px 2px rgba(0, 0, 0, 0.3));\n",
              "      fill: #FFFFFF;\n",
              "    }\n",
              "  </style>\n",
              "\n",
              "    <script>\n",
              "      const buttonEl =\n",
              "        document.querySelector('#df-9357c0aa-08d2-48e2-9f6f-4adcee5ec2c1 button.colab-df-convert');\n",
              "      buttonEl.style.display =\n",
              "        google.colab.kernel.accessAllowed ? 'block' : 'none';\n",
              "\n",
              "      async function convertToInteractive(key) {\n",
              "        const element = document.querySelector('#df-9357c0aa-08d2-48e2-9f6f-4adcee5ec2c1');\n",
              "        const dataTable =\n",
              "          await google.colab.kernel.invokeFunction('convertToInteractive',\n",
              "                                                    [key], {});\n",
              "        if (!dataTable) return;\n",
              "\n",
              "        const docLinkHtml = 'Like what you see? Visit the ' +\n",
              "          '<a target=\"_blank\" href=https://colab.research.google.com/notebooks/data_table.ipynb>data table notebook</a>'\n",
              "          + ' to learn more about interactive tables.';\n",
              "        element.innerHTML = '';\n",
              "        dataTable['output_type'] = 'display_data';\n",
              "        await google.colab.output.renderOutput(dataTable, element);\n",
              "        const docLink = document.createElement('div');\n",
              "        docLink.innerHTML = docLinkHtml;\n",
              "        element.appendChild(docLink);\n",
              "      }\n",
              "    </script>\n",
              "  </div>\n",
              "\n",
              "\n",
              "    <div id=\"df-0adbebbb-3ca1-450f-ace2-98a1a4810542\">\n",
              "      <button class=\"colab-df-quickchart\" onclick=\"quickchart('df-0adbebbb-3ca1-450f-ace2-98a1a4810542')\"\n",
              "                title=\"Suggest charts\"\n",
              "                style=\"display:none;\">\n",
              "\n",
              "<svg xmlns=\"http://www.w3.org/2000/svg\" height=\"24px\"viewBox=\"0 0 24 24\"\n",
              "     width=\"24px\">\n",
              "    <g>\n",
              "        <path d=\"M19 3H5c-1.1 0-2 .9-2 2v14c0 1.1.9 2 2 2h14c1.1 0 2-.9 2-2V5c0-1.1-.9-2-2-2zM9 17H7v-7h2v7zm4 0h-2V7h2v10zm4 0h-2v-4h2v4z\"/>\n",
              "    </g>\n",
              "</svg>\n",
              "      </button>\n",
              "\n",
              "<style>\n",
              "  .colab-df-quickchart {\n",
              "      --bg-color: #E8F0FE;\n",
              "      --fill-color: #1967D2;\n",
              "      --hover-bg-color: #E2EBFA;\n",
              "      --hover-fill-color: #174EA6;\n",
              "      --disabled-fill-color: #AAA;\n",
              "      --disabled-bg-color: #DDD;\n",
              "  }\n",
              "\n",
              "  [theme=dark] .colab-df-quickchart {\n",
              "      --bg-color: #3B4455;\n",
              "      --fill-color: #D2E3FC;\n",
              "      --hover-bg-color: #434B5C;\n",
              "      --hover-fill-color: #FFFFFF;\n",
              "      --disabled-bg-color: #3B4455;\n",
              "      --disabled-fill-color: #666;\n",
              "  }\n",
              "\n",
              "  .colab-df-quickchart {\n",
              "    background-color: var(--bg-color);\n",
              "    border: none;\n",
              "    border-radius: 50%;\n",
              "    cursor: pointer;\n",
              "    display: none;\n",
              "    fill: var(--fill-color);\n",
              "    height: 32px;\n",
              "    padding: 0;\n",
              "    width: 32px;\n",
              "  }\n",
              "\n",
              "  .colab-df-quickchart:hover {\n",
              "    background-color: var(--hover-bg-color);\n",
              "    box-shadow: 0 1px 2px rgba(60, 64, 67, 0.3), 0 1px 3px 1px rgba(60, 64, 67, 0.15);\n",
              "    fill: var(--button-hover-fill-color);\n",
              "  }\n",
              "\n",
              "  .colab-df-quickchart-complete:disabled,\n",
              "  .colab-df-quickchart-complete:disabled:hover {\n",
              "    background-color: var(--disabled-bg-color);\n",
              "    fill: var(--disabled-fill-color);\n",
              "    box-shadow: none;\n",
              "  }\n",
              "\n",
              "  .colab-df-spinner {\n",
              "    border: 2px solid var(--fill-color);\n",
              "    border-color: transparent;\n",
              "    border-bottom-color: var(--fill-color);\n",
              "    animation:\n",
              "      spin 1s steps(1) infinite;\n",
              "  }\n",
              "\n",
              "  @keyframes spin {\n",
              "    0% {\n",
              "      border-color: transparent;\n",
              "      border-bottom-color: var(--fill-color);\n",
              "      border-left-color: var(--fill-color);\n",
              "    }\n",
              "    20% {\n",
              "      border-color: transparent;\n",
              "      border-left-color: var(--fill-color);\n",
              "      border-top-color: var(--fill-color);\n",
              "    }\n",
              "    30% {\n",
              "      border-color: transparent;\n",
              "      border-left-color: var(--fill-color);\n",
              "      border-top-color: var(--fill-color);\n",
              "      border-right-color: var(--fill-color);\n",
              "    }\n",
              "    40% {\n",
              "      border-color: transparent;\n",
              "      border-right-color: var(--fill-color);\n",
              "      border-top-color: var(--fill-color);\n",
              "    }\n",
              "    60% {\n",
              "      border-color: transparent;\n",
              "      border-right-color: var(--fill-color);\n",
              "    }\n",
              "    80% {\n",
              "      border-color: transparent;\n",
              "      border-right-color: var(--fill-color);\n",
              "      border-bottom-color: var(--fill-color);\n",
              "    }\n",
              "    90% {\n",
              "      border-color: transparent;\n",
              "      border-bottom-color: var(--fill-color);\n",
              "    }\n",
              "  }\n",
              "</style>\n",
              "\n",
              "      <script>\n",
              "        async function quickchart(key) {\n",
              "          const quickchartButtonEl =\n",
              "            document.querySelector('#' + key + ' button');\n",
              "          quickchartButtonEl.disabled = true;  // To prevent multiple clicks.\n",
              "          quickchartButtonEl.classList.add('colab-df-spinner');\n",
              "          try {\n",
              "            const charts = await google.colab.kernel.invokeFunction(\n",
              "                'suggestCharts', [key], {});\n",
              "          } catch (error) {\n",
              "            console.error('Error during call to suggestCharts:', error);\n",
              "          }\n",
              "          quickchartButtonEl.classList.remove('colab-df-spinner');\n",
              "          quickchartButtonEl.classList.add('colab-df-quickchart-complete');\n",
              "        }\n",
              "        (() => {\n",
              "          let quickchartButtonEl =\n",
              "            document.querySelector('#df-0adbebbb-3ca1-450f-ace2-98a1a4810542 button');\n",
              "          quickchartButtonEl.style.display =\n",
              "            google.colab.kernel.accessAllowed ? 'block' : 'none';\n",
              "        })();\n",
              "      </script>\n",
              "    </div>\n",
              "\n",
              "  <div id=\"id_ab737d51-7f8f-4188-9b30-758a36444b9d\">\n",
              "    <style>\n",
              "      .colab-df-generate {\n",
              "        background-color: #E8F0FE;\n",
              "        border: none;\n",
              "        border-radius: 50%;\n",
              "        cursor: pointer;\n",
              "        display: none;\n",
              "        fill: #1967D2;\n",
              "        height: 32px;\n",
              "        padding: 0 0 0 0;\n",
              "        width: 32px;\n",
              "      }\n",
              "\n",
              "      .colab-df-generate:hover {\n",
              "        background-color: #E2EBFA;\n",
              "        box-shadow: 0px 1px 2px rgba(60, 64, 67, 0.3), 0px 1px 3px 1px rgba(60, 64, 67, 0.15);\n",
              "        fill: #174EA6;\n",
              "      }\n",
              "\n",
              "      [theme=dark] .colab-df-generate {\n",
              "        background-color: #3B4455;\n",
              "        fill: #D2E3FC;\n",
              "      }\n",
              "\n",
              "      [theme=dark] .colab-df-generate:hover {\n",
              "        background-color: #434B5C;\n",
              "        box-shadow: 0px 1px 3px 1px rgba(0, 0, 0, 0.15);\n",
              "        filter: drop-shadow(0px 1px 2px rgba(0, 0, 0, 0.3));\n",
              "        fill: #FFFFFF;\n",
              "      }\n",
              "    </style>\n",
              "    <button class=\"colab-df-generate\" onclick=\"generateWithVariable('tabla_cruzada')\"\n",
              "            title=\"Generate code using this dataframe.\"\n",
              "            style=\"display:none;\">\n",
              "\n",
              "  <svg xmlns=\"http://www.w3.org/2000/svg\" height=\"24px\"viewBox=\"0 0 24 24\"\n",
              "       width=\"24px\">\n",
              "    <path d=\"M7,19H8.4L18.45,9,17,7.55,7,17.6ZM5,21V16.75L18.45,3.32a2,2,0,0,1,2.83,0l1.4,1.43a1.91,1.91,0,0,1,.58,1.4,1.91,1.91,0,0,1-.58,1.4L9.25,21ZM18.45,9,17,7.55Zm-12,3A5.31,5.31,0,0,0,4.9,8.1,5.31,5.31,0,0,0,1,6.5,5.31,5.31,0,0,0,4.9,4.9,5.31,5.31,0,0,0,6.5,1,5.31,5.31,0,0,0,8.1,4.9,5.31,5.31,0,0,0,12,6.5,5.46,5.46,0,0,0,6.5,12Z\"/>\n",
              "  </svg>\n",
              "    </button>\n",
              "    <script>\n",
              "      (() => {\n",
              "      const buttonEl =\n",
              "        document.querySelector('#id_ab737d51-7f8f-4188-9b30-758a36444b9d button.colab-df-generate');\n",
              "      buttonEl.style.display =\n",
              "        google.colab.kernel.accessAllowed ? 'block' : 'none';\n",
              "\n",
              "      buttonEl.onclick = () => {\n",
              "        google.colab.notebook.generateWithVariable('tabla_cruzada');\n",
              "      }\n",
              "      })();\n",
              "    </script>\n",
              "  </div>\n",
              "\n",
              "    </div>\n",
              "  </div>\n"
            ],
            "application/vnd.google.colaboratory.intrinsic+json": {
              "type": "dataframe",
              "variable_name": "tabla_cruzada",
              "summary": "{\n  \"name\": \"tabla_cruzada\",\n  \"rows\": 2,\n  \"fields\": [\n    {\n      \"column\": \"family_history\",\n      \"properties\": {\n        \"dtype\": \"boolean\",\n        \"num_unique_values\": 2,\n        \"samples\": [\n          true,\n          false\n        ],\n        \"semantic_type\": \"\",\n        \"description\": \"\"\n      }\n    },\n    {\n      \"column\": false,\n      \"properties\": {\n        \"dtype\": \"number\",\n        \"std\": 258,\n        \"min\": 127,\n        \"max\": 492,\n        \"num_unique_values\": 2,\n        \"samples\": [\n          127,\n          492\n        ],\n        \"semantic_type\": \"\",\n        \"description\": \"\"\n      }\n    },\n    {\n      \"column\": true,\n      \"properties\": {\n        \"dtype\": \"number\",\n        \"std\": 64,\n        \"min\": 270,\n        \"max\": 361,\n        \"num_unique_values\": 2,\n        \"samples\": [\n          361,\n          270\n        ],\n        \"semantic_type\": \"\",\n        \"description\": \"\"\n      }\n    }\n  ]\n}"
            }
          },
          "metadata": {},
          "execution_count": 21
        }
      ]
    },
    {
      "cell_type": "markdown",
      "source": [
        "La **regresión logística** se ha seleccionado como el modelo predictivo ideal para este análisis debido a la naturaleza de la variable objetivo, `treatment`. A diferencia de otros modelos, la regresión logística está específicamente diseñada para predecir la probabilidad de un evento cuando la variable dependiente es **binaria**, es decir, tiene solo dos resultados posibles (en este caso, si el encuestado ha buscado o no tratamiento). El modelo nos permitirá explorar cómo variables como `family_history`, el género y la edad influyen en la probabilidad de que una persona busque ayuda profesional para su salud mental, proporcionando así una comprensión cuantitativa y clara de la relación entre estas variables.\n"
      ],
      "metadata": {
        "id": "zz2DaTW32eEQ"
      }
    },
    {
      "cell_type": "markdown",
      "source": [
        "Para la regresión logística, necesitamos que nuestras variables sean numéricas. Aunque family_history y treatment son True y False para pandas, el modelo las entenderá mejor si se convierte a 1 y 0.\n",
        "\n",
        "\n",
        "treatment será nuestra variable dependiente (la que queremos predecir). Le daremos un valor de 1 si es True (han buscado tratamiento) y 0 si es False (no han buscado tratamiento).\n",
        "\n",
        "family_history será nuestra variable independiente (la que usamos para predecir). Le daremos un valor de 1 si es True y 0 si es False."
      ],
      "metadata": {
        "id": "gqfcFize21jc"
      }
    },
    {
      "cell_type": "code",
      "source": [
        "# Convertir las variables a 0 y 1\n",
        "df_fil_data_mental_health['treatment_num'] = df_fil_data_mental_health['treatment'].astype(int)\n",
        "df_fil_data_mental_health['family_history_num'] = df_fil_data_mental_health['family_history'].astype(int)\n",
        "\n",
        "print(df_fil_data_mental_health[['treatment', 'treatment_num', 'family_history', 'family_history_num']].head())"
      ],
      "metadata": {
        "colab": {
          "base_uri": "https://localhost:8080/"
        },
        "id": "uSqKFD3d0uOR",
        "outputId": "552824f0-24af-44dc-f760-7aef26c099da"
      },
      "execution_count": null,
      "outputs": [
        {
          "output_type": "stream",
          "name": "stdout",
          "text": [
            "   treatment  treatment_num  family_history  family_history_num\n",
            "0       True              1           False                   0\n",
            "1      False              0           False                   0\n",
            "2      False              0           False                   0\n",
            "3       True              1            True                   1\n",
            "4      False              0           False                   0\n"
          ]
        },
        {
          "output_type": "stream",
          "name": "stderr",
          "text": [
            "/tmp/ipython-input-3955209477.py:2: SettingWithCopyWarning: \n",
            "A value is trying to be set on a copy of a slice from a DataFrame.\n",
            "Try using .loc[row_indexer,col_indexer] = value instead\n",
            "\n",
            "See the caveats in the documentation: https://pandas.pydata.org/pandas-docs/stable/user_guide/indexing.html#returning-a-view-versus-a-copy\n",
            "  df_fil_data_mental_health['treatment_num'] = df_fil_data_mental_health['treatment'].astype(int)\n",
            "/tmp/ipython-input-3955209477.py:3: SettingWithCopyWarning: \n",
            "A value is trying to be set on a copy of a slice from a DataFrame.\n",
            "Try using .loc[row_indexer,col_indexer] = value instead\n",
            "\n",
            "See the caveats in the documentation: https://pandas.pydata.org/pandas-docs/stable/user_guide/indexing.html#returning-a-view-versus-a-copy\n",
            "  df_fil_data_mental_health['family_history_num'] = df_fil_data_mental_health['family_history'].astype(int)\n"
          ]
        }
      ]
    },
    {
      "cell_type": "markdown",
      "source": [
        "**Regresión Logística**\n",
        "\n",
        "El análisis de la variable `family_history_num` en nuestro modelo de regresión logística ha proporcionado hallazgos significativos. El **valor *p (P>|z|)*** de 0.000 (esencialmente cero) confirma que la relación entre tener un historial familiar de salud mental y buscar tratamiento es **estadísticamente significativa** y no se debe al azar.\n",
        "\n",
        "El **coeficiente** de 1.6447, al ser positivo, indica que a medida que el valor de `family_history_num` aumenta (pasando de `0` a `1`), también lo hace la probabilidad de que una persona busque tratamiento. Al convertir este coeficiente en un **odds ratio** de aproximadamente 5.18, se revela que un individuo con historial familiar es **más de 5 veces más propenso** a haber buscado tratamiento en comparación con aquellos sin dicho historial. Este hallazgo subraya la poderosa influencia del historial familiar como un factor predictivo clave para la búsqueda de ayuda profesional."
      ],
      "metadata": {
        "id": "KDGYgFjI4v3F"
      }
    },
    {
      "cell_type": "code",
      "source": [
        "import statsmodels.api as sm\n",
        "\n",
        "# Definir la variable dependiente (Y) y la independiente (X)\n",
        "Y = df_fil_data_mental_health['treatment_num']\n",
        "X = df_fil_data_mental_health['family_history_num']\n",
        "\n",
        "X = sm.add_constant(X)\n",
        "\n",
        "modelo_logistico = sm.Logit(Y, X).fit()\n",
        "\n",
        "print(modelo_logistico.summary())"
      ],
      "metadata": {
        "colab": {
          "base_uri": "https://localhost:8080/"
        },
        "id": "I6liRMee3ut4",
        "outputId": "ee061132-842b-4295-def7-bab5fd464de1"
      },
      "execution_count": null,
      "outputs": [
        {
          "output_type": "stream",
          "name": "stdout",
          "text": [
            "Optimization terminated successfully.\n",
            "         Current function value: 0.620114\n",
            "         Iterations 5\n",
            "                           Logit Regression Results                           \n",
            "==============================================================================\n",
            "Dep. Variable:          treatment_num   No. Observations:                 1250\n",
            "Model:                          Logit   Df Residuals:                     1248\n",
            "Method:                           MLE   Df Model:                            1\n",
            "Date:                Thu, 11 Sep 2025   Pseudo R-squ.:                  0.1053\n",
            "Time:                        02:22:59   Log-Likelihood:                -775.14\n",
            "converged:                       True   LL-Null:                       -866.38\n",
            "Covariance Type:            nonrobust   LLR p-value:                 1.402e-41\n",
            "======================================================================================\n",
            "                         coef    std err          z      P>|z|      [0.025      0.975]\n",
            "--------------------------------------------------------------------------------------\n",
            "const                 -0.6001      0.076     -7.923      0.000      -0.749      -0.452\n",
            "family_history_num     1.6447      0.128     12.851      0.000       1.394       1.896\n",
            "======================================================================================\n"
          ]
        }
      ]
    },
    {
      "cell_type": "markdown",
      "source": [
        "#### Dataset Extended Employee Performance and Productivity Data"
      ],
      "metadata": {
        "id": "tyO_ZInyAafB"
      }
    },
    {
      "cell_type": "markdown",
      "source": [
        "Basado en la salida anterior de `data_extended_employee.info()`, se identifan las columnas con tipo de dato 'object'. Luego se considerará su relevancia para los objetivos del proyecto y así poder seleccionar las columnas categóricas más interesantes para un análisis de frecuencias adicional."
      ],
      "metadata": {
        "id": "Ft0Ka-Jm4wGy"
      }
    },
    {
      "cell_type": "code",
      "source": [
        "categorical_columns = data_extended_employee.select_dtypes(include='object').columns\n",
        "print(\"Columnas categóricas identificadas:\")\n",
        "print(categorical_columns)\n",
        "\n",
        "# Considerar la relevancia de cada columna categórica para los objetivos del proyecto\n",
        "# El proyecto busca comprender los factores relacionados con el rendimiento de los empleados y la salud mental en el sector tecnológico.\n",
        "# Las columnas relevantes probablemente incluirán aquellas que describen el puesto de trabajo, el departamento y el nivel educativo.\n",
        "\n",
        "interesting_categorical_columns = ['Department', 'Job_Title', 'Education_Level', 'Gender']\n",
        "\n",
        "print(\"\\nColumnas categóricas seleccionadas para análisis adicional:\")\n",
        "print(interesting_categorical_columns)"
      ],
      "metadata": {
        "colab": {
          "base_uri": "https://localhost:8080/"
        },
        "id": "GN3jYskO4vzk",
        "outputId": "72a29cc7-3cbc-42ba-8516-6347c2e678c3"
      },
      "execution_count": null,
      "outputs": [
        {
          "output_type": "stream",
          "name": "stdout",
          "text": [
            "Columnas categóricas identificadas:\n",
            "Index(['Department', 'Gender', 'Job_Title', 'Hire_Date', 'Education_Level'], dtype='object')\n",
            "\n",
            "Columnas categóricas seleccionadas para análisis adicional:\n",
            "['Department', 'Job_Title', 'Education_Level', 'Gender']\n"
          ]
        }
      ]
    },
    {
      "cell_type": "code",
      "metadata": {
        "colab": {
          "base_uri": "https://localhost:8080/"
        },
        "id": "b0c3cf54",
        "outputId": "239f652c-18fd-42a9-93da-fe9bb3422b00"
      },
      "source": [
        "for col in interesting_categorical_columns:\n",
        "    print(f\"\\nDistribución de frecuencia para '{col}':\")\n",
        "    display(data_extended_employee[col].value_counts())"
      ],
      "execution_count": null,
      "outputs": [
        {
          "output_type": "stream",
          "name": "stdout",
          "text": [
            "\n",
            "Distribución de frecuencia para 'Department':\n"
          ]
        },
        {
          "output_type": "display_data",
          "data": {
            "text/plain": [
              "Department\n",
              "Marketing           11216\n",
              "Finance             11200\n",
              "Operations          11181\n",
              "IT                  11131\n",
              "Sales               11122\n",
              "Legal               11118\n",
              "Customer Support    11116\n",
              "HR                  10960\n",
              "Engineering         10956\n",
              "Name: count, dtype: int64"
            ],
            "text/html": [
              "<div>\n",
              "<style scoped>\n",
              "    .dataframe tbody tr th:only-of-type {\n",
              "        vertical-align: middle;\n",
              "    }\n",
              "\n",
              "    .dataframe tbody tr th {\n",
              "        vertical-align: top;\n",
              "    }\n",
              "\n",
              "    .dataframe thead th {\n",
              "        text-align: right;\n",
              "    }\n",
              "</style>\n",
              "<table border=\"1\" class=\"dataframe\">\n",
              "  <thead>\n",
              "    <tr style=\"text-align: right;\">\n",
              "      <th></th>\n",
              "      <th>count</th>\n",
              "    </tr>\n",
              "    <tr>\n",
              "      <th>Department</th>\n",
              "      <th></th>\n",
              "    </tr>\n",
              "  </thead>\n",
              "  <tbody>\n",
              "    <tr>\n",
              "      <th>Marketing</th>\n",
              "      <td>11216</td>\n",
              "    </tr>\n",
              "    <tr>\n",
              "      <th>Finance</th>\n",
              "      <td>11200</td>\n",
              "    </tr>\n",
              "    <tr>\n",
              "      <th>Operations</th>\n",
              "      <td>11181</td>\n",
              "    </tr>\n",
              "    <tr>\n",
              "      <th>IT</th>\n",
              "      <td>11131</td>\n",
              "    </tr>\n",
              "    <tr>\n",
              "      <th>Sales</th>\n",
              "      <td>11122</td>\n",
              "    </tr>\n",
              "    <tr>\n",
              "      <th>Legal</th>\n",
              "      <td>11118</td>\n",
              "    </tr>\n",
              "    <tr>\n",
              "      <th>Customer Support</th>\n",
              "      <td>11116</td>\n",
              "    </tr>\n",
              "    <tr>\n",
              "      <th>HR</th>\n",
              "      <td>10960</td>\n",
              "    </tr>\n",
              "    <tr>\n",
              "      <th>Engineering</th>\n",
              "      <td>10956</td>\n",
              "    </tr>\n",
              "  </tbody>\n",
              "</table>\n",
              "</div><br><label><b>dtype:</b> int64</label>"
            ]
          },
          "metadata": {}
        },
        {
          "output_type": "stream",
          "name": "stdout",
          "text": [
            "\n",
            "Distribución de frecuencia para 'Job_Title':\n"
          ]
        },
        {
          "output_type": "display_data",
          "data": {
            "text/plain": [
              "Job_Title\n",
              "Specialist    14507\n",
              "Manager       14325\n",
              "Technician    14285\n",
              "Analyst       14261\n",
              "Engineer      14217\n",
              "Consultant    14210\n",
              "Developer     14195\n",
              "Name: count, dtype: int64"
            ],
            "text/html": [
              "<div>\n",
              "<style scoped>\n",
              "    .dataframe tbody tr th:only-of-type {\n",
              "        vertical-align: middle;\n",
              "    }\n",
              "\n",
              "    .dataframe tbody tr th {\n",
              "        vertical-align: top;\n",
              "    }\n",
              "\n",
              "    .dataframe thead th {\n",
              "        text-align: right;\n",
              "    }\n",
              "</style>\n",
              "<table border=\"1\" class=\"dataframe\">\n",
              "  <thead>\n",
              "    <tr style=\"text-align: right;\">\n",
              "      <th></th>\n",
              "      <th>count</th>\n",
              "    </tr>\n",
              "    <tr>\n",
              "      <th>Job_Title</th>\n",
              "      <th></th>\n",
              "    </tr>\n",
              "  </thead>\n",
              "  <tbody>\n",
              "    <tr>\n",
              "      <th>Specialist</th>\n",
              "      <td>14507</td>\n",
              "    </tr>\n",
              "    <tr>\n",
              "      <th>Manager</th>\n",
              "      <td>14325</td>\n",
              "    </tr>\n",
              "    <tr>\n",
              "      <th>Technician</th>\n",
              "      <td>14285</td>\n",
              "    </tr>\n",
              "    <tr>\n",
              "      <th>Analyst</th>\n",
              "      <td>14261</td>\n",
              "    </tr>\n",
              "    <tr>\n",
              "      <th>Engineer</th>\n",
              "      <td>14217</td>\n",
              "    </tr>\n",
              "    <tr>\n",
              "      <th>Consultant</th>\n",
              "      <td>14210</td>\n",
              "    </tr>\n",
              "    <tr>\n",
              "      <th>Developer</th>\n",
              "      <td>14195</td>\n",
              "    </tr>\n",
              "  </tbody>\n",
              "</table>\n",
              "</div><br><label><b>dtype:</b> int64</label>"
            ]
          },
          "metadata": {}
        },
        {
          "output_type": "stream",
          "name": "stdout",
          "text": [
            "\n",
            "Distribución de frecuencia para 'Education_Level':\n"
          ]
        },
        {
          "output_type": "display_data",
          "data": {
            "text/plain": [
              "Education_Level\n",
              "Bachelor       50041\n",
              "High School    30004\n",
              "Master         14904\n",
              "PhD             5051\n",
              "Name: count, dtype: int64"
            ],
            "text/html": [
              "<div>\n",
              "<style scoped>\n",
              "    .dataframe tbody tr th:only-of-type {\n",
              "        vertical-align: middle;\n",
              "    }\n",
              "\n",
              "    .dataframe tbody tr th {\n",
              "        vertical-align: top;\n",
              "    }\n",
              "\n",
              "    .dataframe thead th {\n",
              "        text-align: right;\n",
              "    }\n",
              "</style>\n",
              "<table border=\"1\" class=\"dataframe\">\n",
              "  <thead>\n",
              "    <tr style=\"text-align: right;\">\n",
              "      <th></th>\n",
              "      <th>count</th>\n",
              "    </tr>\n",
              "    <tr>\n",
              "      <th>Education_Level</th>\n",
              "      <th></th>\n",
              "    </tr>\n",
              "  </thead>\n",
              "  <tbody>\n",
              "    <tr>\n",
              "      <th>Bachelor</th>\n",
              "      <td>50041</td>\n",
              "    </tr>\n",
              "    <tr>\n",
              "      <th>High School</th>\n",
              "      <td>30004</td>\n",
              "    </tr>\n",
              "    <tr>\n",
              "      <th>Master</th>\n",
              "      <td>14904</td>\n",
              "    </tr>\n",
              "    <tr>\n",
              "      <th>PhD</th>\n",
              "      <td>5051</td>\n",
              "    </tr>\n",
              "  </tbody>\n",
              "</table>\n",
              "</div><br><label><b>dtype:</b> int64</label>"
            ]
          },
          "metadata": {}
        },
        {
          "output_type": "stream",
          "name": "stdout",
          "text": [
            "\n",
            "Distribución de frecuencia para 'Gender':\n"
          ]
        },
        {
          "output_type": "display_data",
          "data": {
            "text/plain": [
              "Gender\n",
              "Male      48031\n",
              "Female    48001\n",
              "Other      3968\n",
              "Name: count, dtype: int64"
            ],
            "text/html": [
              "<div>\n",
              "<style scoped>\n",
              "    .dataframe tbody tr th:only-of-type {\n",
              "        vertical-align: middle;\n",
              "    }\n",
              "\n",
              "    .dataframe tbody tr th {\n",
              "        vertical-align: top;\n",
              "    }\n",
              "\n",
              "    .dataframe thead th {\n",
              "        text-align: right;\n",
              "    }\n",
              "</style>\n",
              "<table border=\"1\" class=\"dataframe\">\n",
              "  <thead>\n",
              "    <tr style=\"text-align: right;\">\n",
              "      <th></th>\n",
              "      <th>count</th>\n",
              "    </tr>\n",
              "    <tr>\n",
              "      <th>Gender</th>\n",
              "      <th></th>\n",
              "    </tr>\n",
              "  </thead>\n",
              "  <tbody>\n",
              "    <tr>\n",
              "      <th>Male</th>\n",
              "      <td>48031</td>\n",
              "    </tr>\n",
              "    <tr>\n",
              "      <th>Female</th>\n",
              "      <td>48001</td>\n",
              "    </tr>\n",
              "    <tr>\n",
              "      <th>Other</th>\n",
              "      <td>3968</td>\n",
              "    </tr>\n",
              "  </tbody>\n",
              "</table>\n",
              "</div><br><label><b>dtype:</b> int64</label>"
            ]
          },
          "metadata": {}
        }
      ]
    },
    {
      "cell_type": "markdown",
      "metadata": {
        "id": "15185ab4"
      },
      "source": [
        "En la variable `Department` se muestra la distribución de empleados en los diferentes departamentos de la empresa, esto muestra una presencia relativamente equilibrada de empleados en la mayoría de los departamentos, aunque con ligeras variaciones. Notando las siguientes observaciones:\n",
        "\n",
        "- Los departamentos con mayor número de empleados son **Marketing** con **11216**, **Finance** con **11200**, **Operations** con **11181** y **IT** con **11131**.\n",
        "- Los departamentos **Sales** (**11122**) y **Legal** (**11118**) tienen una cantidad de empleados similar.\n",
        "- **Customer Support** con **11116** y **HR** con **10960** tienen una menor cantidad de empleados en comparación con los otros departamentos.\n",
        "- El departamento con menos empleados es **Engineering** con **10956**.\n",
        "\n",
        "<br>\n",
        "\n",
        "Por otro lado la variable `Job_Title` proporciona información sobre la distribución de los roles de trabajo entre los empleados. La distribución de los puestos de trabajo muestra una diversidad de roles con una distribución relativamente uniforme en la mayoría de las categorías, siendo 'Specialist' la más destacada.\n",
        "\n",
        "- El puesto de trabajo más frecuente es **Specialist** con **14507** empleados, siendo la categoría más grande.\n",
        "- Le siguen **Manager** con **14325** empleados y **Technician** con **14285**.\n",
        "- Los roles de **Analyst** (**14261**), **Engineer** (**14217**) y **Consultant** (**14210**) tienen frecuencias similares.\n",
        "- El puesto de trabajo menos frecuente es **Developer** con **14195** empleados.\n",
        "\n",
        "<br>\n",
        "\n",
        "Para contunuar con la variable `Education_Level` describe el nivel educativo de los empleados en el conjunto de datos, y en su  mayoría tienen un título de Bachelor o High School, indicando una fuerza laboral con una educación diversa, aunque con una menor representación de niveles de posgrado y doctorado.\n",
        "\n",
        "- El nivel educativo más frecuente es **Bachelor** con **50041** empleados.\n",
        "- Le sigue **High School** con **30004** empleados.\n",
        "- **Master** es el tercer nivel educativo más frecuente con **14904** empleados.\n",
        "- El nivel educativo menos frecuente es **PhD** con **5051** empleados.\n",
        "\n",
        "<br>\n",
        "\n",
        "Por último al analizar la distribución de la variable `Gender` en el conjunto de datos `data_extended_employee`, se observa una distribución relativamente equitativa entre los géneros **Masculino** (**48031 registros**) y **Femenino** (**48001 registros**), con una pequeña proporción de encuestados identificados como **Otro** (**3968 registros**). Esta distribución sugiere una muestra balanceada en términos de género, lo cual es favorable para evitar sesgos en análisis posteriores que dependan de esta variable.\n"
      ]
    },
    {
      "cell_type": "code",
      "metadata": {
        "colab": {
          "base_uri": "https://localhost:8080/"
        },
        "id": "8849d805",
        "outputId": "66c0482e-05af-4f51-8ed5-b57df9a151ca"
      },
      "source": [
        "numerical_columns = data_extended_employee.select_dtypes(include=np.number).columns\n",
        "print(\"Columnas numéricas identificadas:\")\n",
        "print(numerical_columns)\n",
        "\n",
        "# Seleccionar columnas numéricas relevantes para el rendimiento, la productividad o los factores de salud mental de los empleados.\n",
        "# Las columnas que representan horas de trabajo, proyectos, horas extras, días de enfermedad, puntuación de rendimiento, puntuación de satisfacción,\n",
        "# años en la empresa, horas de formación y ascensos son probablemente relevantes.\n",
        "\n",
        "interesting_numerical_columns = [\n",
        "    'Age',\n",
        "    'Years_At_Company',\n",
        "    'Performance_Score',\n",
        "    'Monthly_Salary',\n",
        "    'Work_Hours_Per_Week',\n",
        "    'Projects_Handled',\n",
        "    'Overtime_Hours',\n",
        "    'Sick_Days',\n",
        "    'Remote_Work_Frequency',\n",
        "    'Training_Hours',\n",
        "    'Promotions',\n",
        "    'Employee_Satisfaction_Score'\n",
        "]\n",
        "\n",
        "print(\"\\nColumnas numéricas seleccionadas para análisis adicional:\")\n",
        "print(interesting_numerical_columns)"
      ],
      "execution_count": null,
      "outputs": [
        {
          "output_type": "stream",
          "name": "stdout",
          "text": [
            "Columnas numéricas identificadas:\n",
            "Index(['Employee_ID', 'Age', 'Years_At_Company', 'Performance_Score',\n",
            "       'Monthly_Salary', 'Work_Hours_Per_Week', 'Projects_Handled',\n",
            "       'Overtime_Hours', 'Sick_Days', 'Remote_Work_Frequency', 'Team_Size',\n",
            "       'Training_Hours', 'Promotions', 'Employee_Satisfaction_Score'],\n",
            "      dtype='object')\n",
            "\n",
            "Columnas numéricas seleccionadas para análisis adicional:\n",
            "['Age', 'Years_At_Company', 'Performance_Score', 'Monthly_Salary', 'Work_Hours_Per_Week', 'Projects_Handled', 'Overtime_Hours', 'Sick_Days', 'Remote_Work_Frequency', 'Training_Hours', 'Promotions', 'Employee_Satisfaction_Score']\n"
          ]
        }
      ]
    },
    {
      "cell_type": "code",
      "metadata": {
        "colab": {
          "base_uri": "https://localhost:8080/"
        },
        "id": "5ac5f251",
        "outputId": "dbb75d6f-f0b3-4ea8-9dd9-869f3802778f"
      },
      "source": [
        "for col in interesting_numerical_columns:\n",
        "    print(f\"\\nEstadisitcas Descriptivas para '{col}':\")\n",
        "    display(data_extended_employee[col].describe())"
      ],
      "execution_count": null,
      "outputs": [
        {
          "output_type": "stream",
          "name": "stdout",
          "text": [
            "\n",
            "Estadisitcas Descriptivas para 'Age':\n"
          ]
        },
        {
          "output_type": "display_data",
          "data": {
            "text/plain": [
              "count    100000.000000\n",
              "mean         41.029410\n",
              "std          11.244121\n",
              "min          22.000000\n",
              "25%          31.000000\n",
              "50%          41.000000\n",
              "75%          51.000000\n",
              "max          60.000000\n",
              "Name: Age, dtype: float64"
            ],
            "text/html": [
              "<div>\n",
              "<style scoped>\n",
              "    .dataframe tbody tr th:only-of-type {\n",
              "        vertical-align: middle;\n",
              "    }\n",
              "\n",
              "    .dataframe tbody tr th {\n",
              "        vertical-align: top;\n",
              "    }\n",
              "\n",
              "    .dataframe thead th {\n",
              "        text-align: right;\n",
              "    }\n",
              "</style>\n",
              "<table border=\"1\" class=\"dataframe\">\n",
              "  <thead>\n",
              "    <tr style=\"text-align: right;\">\n",
              "      <th></th>\n",
              "      <th>Age</th>\n",
              "    </tr>\n",
              "  </thead>\n",
              "  <tbody>\n",
              "    <tr>\n",
              "      <th>count</th>\n",
              "      <td>100000.000000</td>\n",
              "    </tr>\n",
              "    <tr>\n",
              "      <th>mean</th>\n",
              "      <td>41.029410</td>\n",
              "    </tr>\n",
              "    <tr>\n",
              "      <th>std</th>\n",
              "      <td>11.244121</td>\n",
              "    </tr>\n",
              "    <tr>\n",
              "      <th>min</th>\n",
              "      <td>22.000000</td>\n",
              "    </tr>\n",
              "    <tr>\n",
              "      <th>25%</th>\n",
              "      <td>31.000000</td>\n",
              "    </tr>\n",
              "    <tr>\n",
              "      <th>50%</th>\n",
              "      <td>41.000000</td>\n",
              "    </tr>\n",
              "    <tr>\n",
              "      <th>75%</th>\n",
              "      <td>51.000000</td>\n",
              "    </tr>\n",
              "    <tr>\n",
              "      <th>max</th>\n",
              "      <td>60.000000</td>\n",
              "    </tr>\n",
              "  </tbody>\n",
              "</table>\n",
              "</div><br><label><b>dtype:</b> float64</label>"
            ]
          },
          "metadata": {}
        },
        {
          "output_type": "stream",
          "name": "stdout",
          "text": [
            "\n",
            "Estadisitcas Descriptivas para 'Years_At_Company':\n"
          ]
        },
        {
          "output_type": "display_data",
          "data": {
            "text/plain": [
              "count    100000.000000\n",
              "mean          4.476070\n",
              "std           2.869336\n",
              "min           0.000000\n",
              "25%           2.000000\n",
              "50%           4.000000\n",
              "75%           7.000000\n",
              "max          10.000000\n",
              "Name: Years_At_Company, dtype: float64"
            ],
            "text/html": [
              "<div>\n",
              "<style scoped>\n",
              "    .dataframe tbody tr th:only-of-type {\n",
              "        vertical-align: middle;\n",
              "    }\n",
              "\n",
              "    .dataframe tbody tr th {\n",
              "        vertical-align: top;\n",
              "    }\n",
              "\n",
              "    .dataframe thead th {\n",
              "        text-align: right;\n",
              "    }\n",
              "</style>\n",
              "<table border=\"1\" class=\"dataframe\">\n",
              "  <thead>\n",
              "    <tr style=\"text-align: right;\">\n",
              "      <th></th>\n",
              "      <th>Years_At_Company</th>\n",
              "    </tr>\n",
              "  </thead>\n",
              "  <tbody>\n",
              "    <tr>\n",
              "      <th>count</th>\n",
              "      <td>100000.000000</td>\n",
              "    </tr>\n",
              "    <tr>\n",
              "      <th>mean</th>\n",
              "      <td>4.476070</td>\n",
              "    </tr>\n",
              "    <tr>\n",
              "      <th>std</th>\n",
              "      <td>2.869336</td>\n",
              "    </tr>\n",
              "    <tr>\n",
              "      <th>min</th>\n",
              "      <td>0.000000</td>\n",
              "    </tr>\n",
              "    <tr>\n",
              "      <th>25%</th>\n",
              "      <td>2.000000</td>\n",
              "    </tr>\n",
              "    <tr>\n",
              "      <th>50%</th>\n",
              "      <td>4.000000</td>\n",
              "    </tr>\n",
              "    <tr>\n",
              "      <th>75%</th>\n",
              "      <td>7.000000</td>\n",
              "    </tr>\n",
              "    <tr>\n",
              "      <th>max</th>\n",
              "      <td>10.000000</td>\n",
              "    </tr>\n",
              "  </tbody>\n",
              "</table>\n",
              "</div><br><label><b>dtype:</b> float64</label>"
            ]
          },
          "metadata": {}
        },
        {
          "output_type": "stream",
          "name": "stdout",
          "text": [
            "\n",
            "Estadisitcas Descriptivas para 'Performance_Score':\n"
          ]
        },
        {
          "output_type": "display_data",
          "data": {
            "text/plain": [
              "count    100000.000000\n",
              "mean          2.995430\n",
              "std           1.414726\n",
              "min           1.000000\n",
              "25%           2.000000\n",
              "50%           3.000000\n",
              "75%           4.000000\n",
              "max           5.000000\n",
              "Name: Performance_Score, dtype: float64"
            ],
            "text/html": [
              "<div>\n",
              "<style scoped>\n",
              "    .dataframe tbody tr th:only-of-type {\n",
              "        vertical-align: middle;\n",
              "    }\n",
              "\n",
              "    .dataframe tbody tr th {\n",
              "        vertical-align: top;\n",
              "    }\n",
              "\n",
              "    .dataframe thead th {\n",
              "        text-align: right;\n",
              "    }\n",
              "</style>\n",
              "<table border=\"1\" class=\"dataframe\">\n",
              "  <thead>\n",
              "    <tr style=\"text-align: right;\">\n",
              "      <th></th>\n",
              "      <th>Performance_Score</th>\n",
              "    </tr>\n",
              "  </thead>\n",
              "  <tbody>\n",
              "    <tr>\n",
              "      <th>count</th>\n",
              "      <td>100000.000000</td>\n",
              "    </tr>\n",
              "    <tr>\n",
              "      <th>mean</th>\n",
              "      <td>2.995430</td>\n",
              "    </tr>\n",
              "    <tr>\n",
              "      <th>std</th>\n",
              "      <td>1.414726</td>\n",
              "    </tr>\n",
              "    <tr>\n",
              "      <th>min</th>\n",
              "      <td>1.000000</td>\n",
              "    </tr>\n",
              "    <tr>\n",
              "      <th>25%</th>\n",
              "      <td>2.000000</td>\n",
              "    </tr>\n",
              "    <tr>\n",
              "      <th>50%</th>\n",
              "      <td>3.000000</td>\n",
              "    </tr>\n",
              "    <tr>\n",
              "      <th>75%</th>\n",
              "      <td>4.000000</td>\n",
              "    </tr>\n",
              "    <tr>\n",
              "      <th>max</th>\n",
              "      <td>5.000000</td>\n",
              "    </tr>\n",
              "  </tbody>\n",
              "</table>\n",
              "</div><br><label><b>dtype:</b> float64</label>"
            ]
          },
          "metadata": {}
        },
        {
          "output_type": "stream",
          "name": "stdout",
          "text": [
            "\n",
            "Estadisitcas Descriptivas para 'Monthly_Salary':\n"
          ]
        },
        {
          "output_type": "display_data",
          "data": {
            "text/plain": [
              "count    100000.000000\n",
              "mean       6403.211000\n",
              "std        1372.508717\n",
              "min        3850.000000\n",
              "25%        5250.000000\n",
              "50%        6500.000000\n",
              "75%        7500.000000\n",
              "max        9000.000000\n",
              "Name: Monthly_Salary, dtype: float64"
            ],
            "text/html": [
              "<div>\n",
              "<style scoped>\n",
              "    .dataframe tbody tr th:only-of-type {\n",
              "        vertical-align: middle;\n",
              "    }\n",
              "\n",
              "    .dataframe tbody tr th {\n",
              "        vertical-align: top;\n",
              "    }\n",
              "\n",
              "    .dataframe thead th {\n",
              "        text-align: right;\n",
              "    }\n",
              "</style>\n",
              "<table border=\"1\" class=\"dataframe\">\n",
              "  <thead>\n",
              "    <tr style=\"text-align: right;\">\n",
              "      <th></th>\n",
              "      <th>Monthly_Salary</th>\n",
              "    </tr>\n",
              "  </thead>\n",
              "  <tbody>\n",
              "    <tr>\n",
              "      <th>count</th>\n",
              "      <td>100000.000000</td>\n",
              "    </tr>\n",
              "    <tr>\n",
              "      <th>mean</th>\n",
              "      <td>6403.211000</td>\n",
              "    </tr>\n",
              "    <tr>\n",
              "      <th>std</th>\n",
              "      <td>1372.508717</td>\n",
              "    </tr>\n",
              "    <tr>\n",
              "      <th>min</th>\n",
              "      <td>3850.000000</td>\n",
              "    </tr>\n",
              "    <tr>\n",
              "      <th>25%</th>\n",
              "      <td>5250.000000</td>\n",
              "    </tr>\n",
              "    <tr>\n",
              "      <th>50%</th>\n",
              "      <td>6500.000000</td>\n",
              "    </tr>\n",
              "    <tr>\n",
              "      <th>75%</th>\n",
              "      <td>7500.000000</td>\n",
              "    </tr>\n",
              "    <tr>\n",
              "      <th>max</th>\n",
              "      <td>9000.000000</td>\n",
              "    </tr>\n",
              "  </tbody>\n",
              "</table>\n",
              "</div><br><label><b>dtype:</b> float64</label>"
            ]
          },
          "metadata": {}
        },
        {
          "output_type": "stream",
          "name": "stdout",
          "text": [
            "\n",
            "Estadisitcas Descriptivas para 'Work_Hours_Per_Week':\n"
          ]
        },
        {
          "output_type": "display_data",
          "data": {
            "text/plain": [
              "count    100000.000000\n",
              "mean         44.956950\n",
              "std           8.942003\n",
              "min          30.000000\n",
              "25%          37.000000\n",
              "50%          45.000000\n",
              "75%          53.000000\n",
              "max          60.000000\n",
              "Name: Work_Hours_Per_Week, dtype: float64"
            ],
            "text/html": [
              "<div>\n",
              "<style scoped>\n",
              "    .dataframe tbody tr th:only-of-type {\n",
              "        vertical-align: middle;\n",
              "    }\n",
              "\n",
              "    .dataframe tbody tr th {\n",
              "        vertical-align: top;\n",
              "    }\n",
              "\n",
              "    .dataframe thead th {\n",
              "        text-align: right;\n",
              "    }\n",
              "</style>\n",
              "<table border=\"1\" class=\"dataframe\">\n",
              "  <thead>\n",
              "    <tr style=\"text-align: right;\">\n",
              "      <th></th>\n",
              "      <th>Work_Hours_Per_Week</th>\n",
              "    </tr>\n",
              "  </thead>\n",
              "  <tbody>\n",
              "    <tr>\n",
              "      <th>count</th>\n",
              "      <td>100000.000000</td>\n",
              "    </tr>\n",
              "    <tr>\n",
              "      <th>mean</th>\n",
              "      <td>44.956950</td>\n",
              "    </tr>\n",
              "    <tr>\n",
              "      <th>std</th>\n",
              "      <td>8.942003</td>\n",
              "    </tr>\n",
              "    <tr>\n",
              "      <th>min</th>\n",
              "      <td>30.000000</td>\n",
              "    </tr>\n",
              "    <tr>\n",
              "      <th>25%</th>\n",
              "      <td>37.000000</td>\n",
              "    </tr>\n",
              "    <tr>\n",
              "      <th>50%</th>\n",
              "      <td>45.000000</td>\n",
              "    </tr>\n",
              "    <tr>\n",
              "      <th>75%</th>\n",
              "      <td>53.000000</td>\n",
              "    </tr>\n",
              "    <tr>\n",
              "      <th>max</th>\n",
              "      <td>60.000000</td>\n",
              "    </tr>\n",
              "  </tbody>\n",
              "</table>\n",
              "</div><br><label><b>dtype:</b> float64</label>"
            ]
          },
          "metadata": {}
        },
        {
          "output_type": "stream",
          "name": "stdout",
          "text": [
            "\n",
            "Estadisitcas Descriptivas para 'Projects_Handled':\n"
          ]
        },
        {
          "output_type": "display_data",
          "data": {
            "text/plain": [
              "count    100000.000000\n",
              "mean         24.431170\n",
              "std          14.469584\n",
              "min           0.000000\n",
              "25%          12.000000\n",
              "50%          24.000000\n",
              "75%          37.000000\n",
              "max          49.000000\n",
              "Name: Projects_Handled, dtype: float64"
            ],
            "text/html": [
              "<div>\n",
              "<style scoped>\n",
              "    .dataframe tbody tr th:only-of-type {\n",
              "        vertical-align: middle;\n",
              "    }\n",
              "\n",
              "    .dataframe tbody tr th {\n",
              "        vertical-align: top;\n",
              "    }\n",
              "\n",
              "    .dataframe thead th {\n",
              "        text-align: right;\n",
              "    }\n",
              "</style>\n",
              "<table border=\"1\" class=\"dataframe\">\n",
              "  <thead>\n",
              "    <tr style=\"text-align: right;\">\n",
              "      <th></th>\n",
              "      <th>Projects_Handled</th>\n",
              "    </tr>\n",
              "  </thead>\n",
              "  <tbody>\n",
              "    <tr>\n",
              "      <th>count</th>\n",
              "      <td>100000.000000</td>\n",
              "    </tr>\n",
              "    <tr>\n",
              "      <th>mean</th>\n",
              "      <td>24.431170</td>\n",
              "    </tr>\n",
              "    <tr>\n",
              "      <th>std</th>\n",
              "      <td>14.469584</td>\n",
              "    </tr>\n",
              "    <tr>\n",
              "      <th>min</th>\n",
              "      <td>0.000000</td>\n",
              "    </tr>\n",
              "    <tr>\n",
              "      <th>25%</th>\n",
              "      <td>12.000000</td>\n",
              "    </tr>\n",
              "    <tr>\n",
              "      <th>50%</th>\n",
              "      <td>24.000000</td>\n",
              "    </tr>\n",
              "    <tr>\n",
              "      <th>75%</th>\n",
              "      <td>37.000000</td>\n",
              "    </tr>\n",
              "    <tr>\n",
              "      <th>max</th>\n",
              "      <td>49.000000</td>\n",
              "    </tr>\n",
              "  </tbody>\n",
              "</table>\n",
              "</div><br><label><b>dtype:</b> float64</label>"
            ]
          },
          "metadata": {}
        },
        {
          "output_type": "stream",
          "name": "stdout",
          "text": [
            "\n",
            "Estadisitcas Descriptivas para 'Overtime_Hours':\n"
          ]
        },
        {
          "output_type": "display_data",
          "data": {
            "text/plain": [
              "count    100000.000000\n",
              "mean         14.514930\n",
              "std           8.664026\n",
              "min           0.000000\n",
              "25%           7.000000\n",
              "50%          15.000000\n",
              "75%          22.000000\n",
              "max          29.000000\n",
              "Name: Overtime_Hours, dtype: float64"
            ],
            "text/html": [
              "<div>\n",
              "<style scoped>\n",
              "    .dataframe tbody tr th:only-of-type {\n",
              "        vertical-align: middle;\n",
              "    }\n",
              "\n",
              "    .dataframe tbody tr th {\n",
              "        vertical-align: top;\n",
              "    }\n",
              "\n",
              "    .dataframe thead th {\n",
              "        text-align: right;\n",
              "    }\n",
              "</style>\n",
              "<table border=\"1\" class=\"dataframe\">\n",
              "  <thead>\n",
              "    <tr style=\"text-align: right;\">\n",
              "      <th></th>\n",
              "      <th>Overtime_Hours</th>\n",
              "    </tr>\n",
              "  </thead>\n",
              "  <tbody>\n",
              "    <tr>\n",
              "      <th>count</th>\n",
              "      <td>100000.000000</td>\n",
              "    </tr>\n",
              "    <tr>\n",
              "      <th>mean</th>\n",
              "      <td>14.514930</td>\n",
              "    </tr>\n",
              "    <tr>\n",
              "      <th>std</th>\n",
              "      <td>8.664026</td>\n",
              "    </tr>\n",
              "    <tr>\n",
              "      <th>min</th>\n",
              "      <td>0.000000</td>\n",
              "    </tr>\n",
              "    <tr>\n",
              "      <th>25%</th>\n",
              "      <td>7.000000</td>\n",
              "    </tr>\n",
              "    <tr>\n",
              "      <th>50%</th>\n",
              "      <td>15.000000</td>\n",
              "    </tr>\n",
              "    <tr>\n",
              "      <th>75%</th>\n",
              "      <td>22.000000</td>\n",
              "    </tr>\n",
              "    <tr>\n",
              "      <th>max</th>\n",
              "      <td>29.000000</td>\n",
              "    </tr>\n",
              "  </tbody>\n",
              "</table>\n",
              "</div><br><label><b>dtype:</b> float64</label>"
            ]
          },
          "metadata": {}
        },
        {
          "output_type": "stream",
          "name": "stdout",
          "text": [
            "\n",
            "Estadisitcas Descriptivas para 'Sick_Days':\n"
          ]
        },
        {
          "output_type": "display_data",
          "data": {
            "text/plain": [
              "count    100000.000000\n",
              "mean          7.008550\n",
              "std           4.331591\n",
              "min           0.000000\n",
              "25%           3.000000\n",
              "50%           7.000000\n",
              "75%          11.000000\n",
              "max          14.000000\n",
              "Name: Sick_Days, dtype: float64"
            ],
            "text/html": [
              "<div>\n",
              "<style scoped>\n",
              "    .dataframe tbody tr th:only-of-type {\n",
              "        vertical-align: middle;\n",
              "    }\n",
              "\n",
              "    .dataframe tbody tr th {\n",
              "        vertical-align: top;\n",
              "    }\n",
              "\n",
              "    .dataframe thead th {\n",
              "        text-align: right;\n",
              "    }\n",
              "</style>\n",
              "<table border=\"1\" class=\"dataframe\">\n",
              "  <thead>\n",
              "    <tr style=\"text-align: right;\">\n",
              "      <th></th>\n",
              "      <th>Sick_Days</th>\n",
              "    </tr>\n",
              "  </thead>\n",
              "  <tbody>\n",
              "    <tr>\n",
              "      <th>count</th>\n",
              "      <td>100000.000000</td>\n",
              "    </tr>\n",
              "    <tr>\n",
              "      <th>mean</th>\n",
              "      <td>7.008550</td>\n",
              "    </tr>\n",
              "    <tr>\n",
              "      <th>std</th>\n",
              "      <td>4.331591</td>\n",
              "    </tr>\n",
              "    <tr>\n",
              "      <th>min</th>\n",
              "      <td>0.000000</td>\n",
              "    </tr>\n",
              "    <tr>\n",
              "      <th>25%</th>\n",
              "      <td>3.000000</td>\n",
              "    </tr>\n",
              "    <tr>\n",
              "      <th>50%</th>\n",
              "      <td>7.000000</td>\n",
              "    </tr>\n",
              "    <tr>\n",
              "      <th>75%</th>\n",
              "      <td>11.000000</td>\n",
              "    </tr>\n",
              "    <tr>\n",
              "      <th>max</th>\n",
              "      <td>14.000000</td>\n",
              "    </tr>\n",
              "  </tbody>\n",
              "</table>\n",
              "</div><br><label><b>dtype:</b> float64</label>"
            ]
          },
          "metadata": {}
        },
        {
          "output_type": "stream",
          "name": "stdout",
          "text": [
            "\n",
            "Estadisitcas Descriptivas para 'Remote_Work_Frequency':\n"
          ]
        },
        {
          "output_type": "display_data",
          "data": {
            "text/plain": [
              "count    100000.000000\n",
              "mean         50.090500\n",
              "std          35.351157\n",
              "min           0.000000\n",
              "25%          25.000000\n",
              "50%          50.000000\n",
              "75%          75.000000\n",
              "max         100.000000\n",
              "Name: Remote_Work_Frequency, dtype: float64"
            ],
            "text/html": [
              "<div>\n",
              "<style scoped>\n",
              "    .dataframe tbody tr th:only-of-type {\n",
              "        vertical-align: middle;\n",
              "    }\n",
              "\n",
              "    .dataframe tbody tr th {\n",
              "        vertical-align: top;\n",
              "    }\n",
              "\n",
              "    .dataframe thead th {\n",
              "        text-align: right;\n",
              "    }\n",
              "</style>\n",
              "<table border=\"1\" class=\"dataframe\">\n",
              "  <thead>\n",
              "    <tr style=\"text-align: right;\">\n",
              "      <th></th>\n",
              "      <th>Remote_Work_Frequency</th>\n",
              "    </tr>\n",
              "  </thead>\n",
              "  <tbody>\n",
              "    <tr>\n",
              "      <th>count</th>\n",
              "      <td>100000.000000</td>\n",
              "    </tr>\n",
              "    <tr>\n",
              "      <th>mean</th>\n",
              "      <td>50.090500</td>\n",
              "    </tr>\n",
              "    <tr>\n",
              "      <th>std</th>\n",
              "      <td>35.351157</td>\n",
              "    </tr>\n",
              "    <tr>\n",
              "      <th>min</th>\n",
              "      <td>0.000000</td>\n",
              "    </tr>\n",
              "    <tr>\n",
              "      <th>25%</th>\n",
              "      <td>25.000000</td>\n",
              "    </tr>\n",
              "    <tr>\n",
              "      <th>50%</th>\n",
              "      <td>50.000000</td>\n",
              "    </tr>\n",
              "    <tr>\n",
              "      <th>75%</th>\n",
              "      <td>75.000000</td>\n",
              "    </tr>\n",
              "    <tr>\n",
              "      <th>max</th>\n",
              "      <td>100.000000</td>\n",
              "    </tr>\n",
              "  </tbody>\n",
              "</table>\n",
              "</div><br><label><b>dtype:</b> float64</label>"
            ]
          },
          "metadata": {}
        },
        {
          "output_type": "stream",
          "name": "stdout",
          "text": [
            "\n",
            "Estadisitcas Descriptivas para 'Training_Hours':\n"
          ]
        },
        {
          "output_type": "display_data",
          "data": {
            "text/plain": [
              "count    100000.000000\n",
              "mean         49.506060\n",
              "std          28.890383\n",
              "min           0.000000\n",
              "25%          25.000000\n",
              "50%          49.000000\n",
              "75%          75.000000\n",
              "max          99.000000\n",
              "Name: Training_Hours, dtype: float64"
            ],
            "text/html": [
              "<div>\n",
              "<style scoped>\n",
              "    .dataframe tbody tr th:only-of-type {\n",
              "        vertical-align: middle;\n",
              "    }\n",
              "\n",
              "    .dataframe tbody tr th {\n",
              "        vertical-align: top;\n",
              "    }\n",
              "\n",
              "    .dataframe thead th {\n",
              "        text-align: right;\n",
              "    }\n",
              "</style>\n",
              "<table border=\"1\" class=\"dataframe\">\n",
              "  <thead>\n",
              "    <tr style=\"text-align: right;\">\n",
              "      <th></th>\n",
              "      <th>Training_Hours</th>\n",
              "    </tr>\n",
              "  </thead>\n",
              "  <tbody>\n",
              "    <tr>\n",
              "      <th>count</th>\n",
              "      <td>100000.000000</td>\n",
              "    </tr>\n",
              "    <tr>\n",
              "      <th>mean</th>\n",
              "      <td>49.506060</td>\n",
              "    </tr>\n",
              "    <tr>\n",
              "      <th>std</th>\n",
              "      <td>28.890383</td>\n",
              "    </tr>\n",
              "    <tr>\n",
              "      <th>min</th>\n",
              "      <td>0.000000</td>\n",
              "    </tr>\n",
              "    <tr>\n",
              "      <th>25%</th>\n",
              "      <td>25.000000</td>\n",
              "    </tr>\n",
              "    <tr>\n",
              "      <th>50%</th>\n",
              "      <td>49.000000</td>\n",
              "    </tr>\n",
              "    <tr>\n",
              "      <th>75%</th>\n",
              "      <td>75.000000</td>\n",
              "    </tr>\n",
              "    <tr>\n",
              "      <th>max</th>\n",
              "      <td>99.000000</td>\n",
              "    </tr>\n",
              "  </tbody>\n",
              "</table>\n",
              "</div><br><label><b>dtype:</b> float64</label>"
            ]
          },
          "metadata": {}
        },
        {
          "output_type": "stream",
          "name": "stdout",
          "text": [
            "\n",
            "Estadisitcas Descriptivas para 'Promotions':\n"
          ]
        },
        {
          "output_type": "display_data",
          "data": {
            "text/plain": [
              "count    100000.000000\n",
              "mean          0.999720\n",
              "std           0.815872\n",
              "min           0.000000\n",
              "25%           0.000000\n",
              "50%           1.000000\n",
              "75%           2.000000\n",
              "max           2.000000\n",
              "Name: Promotions, dtype: float64"
            ],
            "text/html": [
              "<div>\n",
              "<style scoped>\n",
              "    .dataframe tbody tr th:only-of-type {\n",
              "        vertical-align: middle;\n",
              "    }\n",
              "\n",
              "    .dataframe tbody tr th {\n",
              "        vertical-align: top;\n",
              "    }\n",
              "\n",
              "    .dataframe thead th {\n",
              "        text-align: right;\n",
              "    }\n",
              "</style>\n",
              "<table border=\"1\" class=\"dataframe\">\n",
              "  <thead>\n",
              "    <tr style=\"text-align: right;\">\n",
              "      <th></th>\n",
              "      <th>Promotions</th>\n",
              "    </tr>\n",
              "  </thead>\n",
              "  <tbody>\n",
              "    <tr>\n",
              "      <th>count</th>\n",
              "      <td>100000.000000</td>\n",
              "    </tr>\n",
              "    <tr>\n",
              "      <th>mean</th>\n",
              "      <td>0.999720</td>\n",
              "    </tr>\n",
              "    <tr>\n",
              "      <th>std</th>\n",
              "      <td>0.815872</td>\n",
              "    </tr>\n",
              "    <tr>\n",
              "      <th>min</th>\n",
              "      <td>0.000000</td>\n",
              "    </tr>\n",
              "    <tr>\n",
              "      <th>25%</th>\n",
              "      <td>0.000000</td>\n",
              "    </tr>\n",
              "    <tr>\n",
              "      <th>50%</th>\n",
              "      <td>1.000000</td>\n",
              "    </tr>\n",
              "    <tr>\n",
              "      <th>75%</th>\n",
              "      <td>2.000000</td>\n",
              "    </tr>\n",
              "    <tr>\n",
              "      <th>max</th>\n",
              "      <td>2.000000</td>\n",
              "    </tr>\n",
              "  </tbody>\n",
              "</table>\n",
              "</div><br><label><b>dtype:</b> float64</label>"
            ]
          },
          "metadata": {}
        },
        {
          "output_type": "stream",
          "name": "stdout",
          "text": [
            "\n",
            "Estadisitcas Descriptivas para 'Employee_Satisfaction_Score':\n"
          ]
        },
        {
          "output_type": "display_data",
          "data": {
            "text/plain": [
              "count    100000.000000\n",
              "mean          2.999088\n",
              "std           1.150719\n",
              "min           1.000000\n",
              "25%           2.010000\n",
              "50%           3.000000\n",
              "75%           3.990000\n",
              "max           5.000000\n",
              "Name: Employee_Satisfaction_Score, dtype: float64"
            ],
            "text/html": [
              "<div>\n",
              "<style scoped>\n",
              "    .dataframe tbody tr th:only-of-type {\n",
              "        vertical-align: middle;\n",
              "    }\n",
              "\n",
              "    .dataframe tbody tr th {\n",
              "        vertical-align: top;\n",
              "    }\n",
              "\n",
              "    .dataframe thead th {\n",
              "        text-align: right;\n",
              "    }\n",
              "</style>\n",
              "<table border=\"1\" class=\"dataframe\">\n",
              "  <thead>\n",
              "    <tr style=\"text-align: right;\">\n",
              "      <th></th>\n",
              "      <th>Employee_Satisfaction_Score</th>\n",
              "    </tr>\n",
              "  </thead>\n",
              "  <tbody>\n",
              "    <tr>\n",
              "      <th>count</th>\n",
              "      <td>100000.000000</td>\n",
              "    </tr>\n",
              "    <tr>\n",
              "      <th>mean</th>\n",
              "      <td>2.999088</td>\n",
              "    </tr>\n",
              "    <tr>\n",
              "      <th>std</th>\n",
              "      <td>1.150719</td>\n",
              "    </tr>\n",
              "    <tr>\n",
              "      <th>min</th>\n",
              "      <td>1.000000</td>\n",
              "    </tr>\n",
              "    <tr>\n",
              "      <th>25%</th>\n",
              "      <td>2.010000</td>\n",
              "    </tr>\n",
              "    <tr>\n",
              "      <th>50%</th>\n",
              "      <td>3.000000</td>\n",
              "    </tr>\n",
              "    <tr>\n",
              "      <th>75%</th>\n",
              "      <td>3.990000</td>\n",
              "    </tr>\n",
              "    <tr>\n",
              "      <th>max</th>\n",
              "      <td>5.000000</td>\n",
              "    </tr>\n",
              "  </tbody>\n",
              "</table>\n",
              "</div><br><label><b>dtype:</b> float64</label>"
            ]
          },
          "metadata": {}
        }
      ]
    },
    {
      "cell_type": "markdown",
      "metadata": {
        "id": "7f91622a"
      },
      "source": [
        "Presentando un análisis descriptivo de las variables numéricas seleccionadas del conjunto de datos `data_extended_employee`. Este análisis proporciona un resumen estadístico clave para comprender la distribución y características de estas variables.\n",
        "\n",
        "**Age:**\n",
        "La edad de los empleados varía entre **22 y 60 años**, con una **media** de aproximadamente **41 años** y una **desviación estándar** de **11.24 años**. La **mediana** es de **41 años**, lo que sugiere una distribución relativamente simétrica. La mayoría de los empleados (50%) se encuentran entre los **31 y 51 años**.\n",
        "\n",
        "**Years_At_Company:**\n",
        "La antigüedad de los empleados en la empresa oscila entre **0 y 10 años**. La **media** es de aproximadamente **4.48 años**, con una **desviación estándar** de **2.87 años**. La **mediana** es de **4 años**. El 50% central de los empleados tiene entre **2 y 7 años** de antigüedad.\n",
        "\n",
        "**Performance_Score:**\n",
        "La puntuación de rendimiento de los empleados va de **1 a 5**. La **media** es de aproximadamente **3.00**, con una **desviación estándar** de **1.41**. La **mediana** es de **3.00**. El 50% central de las puntuaciones se sitúa entre **2.00 y 4.00**.\n",
        "\n",
        "**Monthly_Salary:**\n",
        "El salario mensual de los empleados varía entre **3850 y 9000 USD**. El **salario promedio** es de aproximadamente **6403 USD**, con una **desviación estándar** de **1372.51 USD**. La **mediana** es de **6500 USD**. La mitad central de los salarios se encuentra entre **5250 y 7500 USD**.\n",
        "\n",
        "**Work_Hours_Per_Week:**\n",
        "Las horas de trabajo por semana varían entre **30 y 60 horas**. El **promedio de horas trabajadas** es de aproximadamente **44.96 horas**, con una **desviación estándar** de **8.94 horas**. La **mediana** es de **45 horas**. El 50% central de las horas trabajadas se encuentra entre **37 y 53 horas**.\n",
        "\n",
        "**Projects_Handled:**\n",
        "El número de proyectos manejados por los empleados varía entre **0 y 49**. El **promedio de proyectos** es de aproximadamente **24.43**, con una **desviación estándar** de **14.47**. La **mediana** es de **24**. La mitad central de los proyectos manejados se encuentra entre **12 y 37**.\n",
        "\n",
        "**Overtime_Hours:**\n",
        "Las horas extras trabajadas varían entre **0 y 29 horas**. El **promedio de horas extras** es de aproximadamente **14.51**, con una **desviación estándar** de **8.66**. La **mediana** es de **15**. El 50% central de las horas extras se encuentra entre **7 y 22**.\n",
        "\n",
        "**Sick_Days:**\n",
        "Los días de enfermedad tomados varían entre **0 y 14 días**. El **promedio de días de enfermedad** es de aproximadamente **7.01**, con una **desviación estándar** de **4.33**. La **mediana** es de **7**. La mitad central de los días de enfermedad se encuentra entre **3 y 11**.\n",
        "\n",
        "**Remote_Work_Frequency:**\n",
        "La frecuencia de trabajo remoto varía entre **0% y 100%**. La **frecuencia promedio** es de aproximadamente **50.09%**, con una **desviación estándar** de **35.35%**. La **mediana** es de **50%**. La mitad central de la frecuencia de trabajo remoto se encuentra entre **25% y 75%**.\n",
        "\n",
        "**Training_Hours:**\n",
        "Las horas de formación varían entre **0 y 99 horas**. El **promedio de horas de formación** es de aproximadamente **49.51**, con una **desviación estándar** de **28.89**. La **mediana** es de **49**. La mitad central de las horas de formación se encuentra entre **25 y 75**.\n",
        "\n",
        "**Promotions:**\n",
        "El número de promociones recibidas varía entre **0 y 2**. El **promedio de promociones** es de aproximadamente **1.00**, con una **desviación estándar** de **0.82**. La **mediana** es de **1**. El 50% central de las promociones se encuentra entre **0 y 2**.\n",
        "\n",
        "**Employee_Satisfaction_Score:**\n",
        "La puntuación de satisfacción del empleado varía entre **1.00 y 5.00**. La **puntuación promedio** es de aproximadamente **2.99**, con una **desviación estándar** de **1.15**. La **mediana** es de **3.00**. La mitad central de las puntuaciones de satisfacción se encuentra entre **2.01 y 3.99**."
      ]
    },
    {
      "cell_type": "code",
      "source": [
        "# Calcular la cantidad de valores nulos por columna\n",
        "valores_nulos = data_extended_employee.isnull().sum()\n",
        "\n",
        "porcentaje_nulos = (valores_nulos / len(data_extended_employee)) * 100\n",
        "\n",
        "resumen_nulos = pd.DataFrame({\n",
        "    'Cantidad de Nulos': valores_nulos,\n",
        "    'Porcentaje de Nulos': porcentaje_nulos\n",
        "})\n",
        "\n",
        "resumen_nulos = resumen_nulos[resumen_nulos['Cantidad de Nulos'] > 0]\n",
        "resumen_nulos"
      ],
      "metadata": {
        "colab": {
          "base_uri": "https://localhost:8080/"
        },
        "outputId": "b4b9b658-b863-47c0-89b7-5dac41943faa",
        "id": "9gZN_cA6wytV"
      },
      "execution_count": null,
      "outputs": [
        {
          "output_type": "execute_result",
          "data": {
            "text/plain": [
              "Empty DataFrame\n",
              "Columns: [Cantidad de Nulos, Porcentaje de Nulos]\n",
              "Index: []"
            ],
            "text/html": [
              "\n",
              "  <div id=\"df-988be384-a54c-4a96-b3d6-b27d1ecdeb2f\" class=\"colab-df-container\">\n",
              "    <div>\n",
              "<style scoped>\n",
              "    .dataframe tbody tr th:only-of-type {\n",
              "        vertical-align: middle;\n",
              "    }\n",
              "\n",
              "    .dataframe tbody tr th {\n",
              "        vertical-align: top;\n",
              "    }\n",
              "\n",
              "    .dataframe thead th {\n",
              "        text-align: right;\n",
              "    }\n",
              "</style>\n",
              "<table border=\"1\" class=\"dataframe\">\n",
              "  <thead>\n",
              "    <tr style=\"text-align: right;\">\n",
              "      <th></th>\n",
              "      <th>Cantidad de Nulos</th>\n",
              "      <th>Porcentaje de Nulos</th>\n",
              "    </tr>\n",
              "  </thead>\n",
              "  <tbody>\n",
              "  </tbody>\n",
              "</table>\n",
              "</div>\n",
              "    <div class=\"colab-df-buttons\">\n",
              "\n",
              "  <div class=\"colab-df-container\">\n",
              "    <button class=\"colab-df-convert\" onclick=\"convertToInteractive('df-988be384-a54c-4a96-b3d6-b27d1ecdeb2f')\"\n",
              "            title=\"Convert this dataframe to an interactive table.\"\n",
              "            style=\"display:none;\">\n",
              "\n",
              "  <svg xmlns=\"http://www.w3.org/2000/svg\" height=\"24px\" viewBox=\"0 -960 960 960\">\n",
              "    <path d=\"M120-120v-720h720v720H120Zm60-500h600v-160H180v160Zm220 220h160v-160H400v160Zm0 220h160v-160H400v160ZM180-400h160v-160H180v160Zm440 0h160v-160H620v160ZM180-180h160v-160H180v160Zm440 0h160v-160H620v160Z\"/>\n",
              "  </svg>\n",
              "    </button>\n",
              "\n",
              "  <style>\n",
              "    .colab-df-container {\n",
              "      display:flex;\n",
              "      gap: 12px;\n",
              "    }\n",
              "\n",
              "    .colab-df-convert {\n",
              "      background-color: #E8F0FE;\n",
              "      border: none;\n",
              "      border-radius: 50%;\n",
              "      cursor: pointer;\n",
              "      display: none;\n",
              "      fill: #1967D2;\n",
              "      height: 32px;\n",
              "      padding: 0 0 0 0;\n",
              "      width: 32px;\n",
              "    }\n",
              "\n",
              "    .colab-df-convert:hover {\n",
              "      background-color: #E2EBFA;\n",
              "      box-shadow: 0px 1px 2px rgba(60, 64, 67, 0.3), 0px 1px 3px 1px rgba(60, 64, 67, 0.15);\n",
              "      fill: #174EA6;\n",
              "    }\n",
              "\n",
              "    .colab-df-buttons div {\n",
              "      margin-bottom: 4px;\n",
              "    }\n",
              "\n",
              "    [theme=dark] .colab-df-convert {\n",
              "      background-color: #3B4455;\n",
              "      fill: #D2E3FC;\n",
              "    }\n",
              "\n",
              "    [theme=dark] .colab-df-convert:hover {\n",
              "      background-color: #434B5C;\n",
              "      box-shadow: 0px 1px 3px 1px rgba(0, 0, 0, 0.15);\n",
              "      filter: drop-shadow(0px 1px 2px rgba(0, 0, 0, 0.3));\n",
              "      fill: #FFFFFF;\n",
              "    }\n",
              "  </style>\n",
              "\n",
              "    <script>\n",
              "      const buttonEl =\n",
              "        document.querySelector('#df-988be384-a54c-4a96-b3d6-b27d1ecdeb2f button.colab-df-convert');\n",
              "      buttonEl.style.display =\n",
              "        google.colab.kernel.accessAllowed ? 'block' : 'none';\n",
              "\n",
              "      async function convertToInteractive(key) {\n",
              "        const element = document.querySelector('#df-988be384-a54c-4a96-b3d6-b27d1ecdeb2f');\n",
              "        const dataTable =\n",
              "          await google.colab.kernel.invokeFunction('convertToInteractive',\n",
              "                                                    [key], {});\n",
              "        if (!dataTable) return;\n",
              "\n",
              "        const docLinkHtml = 'Like what you see? Visit the ' +\n",
              "          '<a target=\"_blank\" href=https://colab.research.google.com/notebooks/data_table.ipynb>data table notebook</a>'\n",
              "          + ' to learn more about interactive tables.';\n",
              "        element.innerHTML = '';\n",
              "        dataTable['output_type'] = 'display_data';\n",
              "        await google.colab.output.renderOutput(dataTable, element);\n",
              "        const docLink = document.createElement('div');\n",
              "        docLink.innerHTML = docLinkHtml;\n",
              "        element.appendChild(docLink);\n",
              "      }\n",
              "    </script>\n",
              "  </div>\n",
              "\n",
              "\n",
              "  <div id=\"id_1292961f-8aca-4346-b6b8-b602fa2ba7b2\">\n",
              "    <style>\n",
              "      .colab-df-generate {\n",
              "        background-color: #E8F0FE;\n",
              "        border: none;\n",
              "        border-radius: 50%;\n",
              "        cursor: pointer;\n",
              "        display: none;\n",
              "        fill: #1967D2;\n",
              "        height: 32px;\n",
              "        padding: 0 0 0 0;\n",
              "        width: 32px;\n",
              "      }\n",
              "\n",
              "      .colab-df-generate:hover {\n",
              "        background-color: #E2EBFA;\n",
              "        box-shadow: 0px 1px 2px rgba(60, 64, 67, 0.3), 0px 1px 3px 1px rgba(60, 64, 67, 0.15);\n",
              "        fill: #174EA6;\n",
              "      }\n",
              "\n",
              "      [theme=dark] .colab-df-generate {\n",
              "        background-color: #3B4455;\n",
              "        fill: #D2E3FC;\n",
              "      }\n",
              "\n",
              "      [theme=dark] .colab-df-generate:hover {\n",
              "        background-color: #434B5C;\n",
              "        box-shadow: 0px 1px 3px 1px rgba(0, 0, 0, 0.15);\n",
              "        filter: drop-shadow(0px 1px 2px rgba(0, 0, 0, 0.3));\n",
              "        fill: #FFFFFF;\n",
              "      }\n",
              "    </style>\n",
              "    <button class=\"colab-df-generate\" onclick=\"generateWithVariable('resumen_nulos')\"\n",
              "            title=\"Generate code using this dataframe.\"\n",
              "            style=\"display:none;\">\n",
              "\n",
              "  <svg xmlns=\"http://www.w3.org/2000/svg\" height=\"24px\"viewBox=\"0 0 24 24\"\n",
              "       width=\"24px\">\n",
              "    <path d=\"M7,19H8.4L18.45,9,17,7.55,7,17.6ZM5,21V16.75L18.45,3.32a2,2,0,0,1,2.83,0l1.4,1.43a1.91,1.91,0,0,1,.58,1.4,1.91,1.91,0,0,1-.58,1.4L9.25,21ZM18.45,9,17,7.55Zm-12,3A5.31,5.31,0,0,0,4.9,8.1,5.31,5.31,0,0,0,1,6.5,5.31,5.31,0,0,0,4.9,4.9,5.31,5.31,0,0,0,6.5,1,5.31,5.31,0,0,0,8.1,4.9,5.31,5.31,0,0,0,12,6.5,5.46,5.46,0,0,0,6.5,12Z\"/>\n",
              "  </svg>\n",
              "    </button>\n",
              "    <script>\n",
              "      (() => {\n",
              "      const buttonEl =\n",
              "        document.querySelector('#id_1292961f-8aca-4346-b6b8-b602fa2ba7b2 button.colab-df-generate');\n",
              "      buttonEl.style.display =\n",
              "        google.colab.kernel.accessAllowed ? 'block' : 'none';\n",
              "\n",
              "      buttonEl.onclick = () => {\n",
              "        google.colab.notebook.generateWithVariable('resumen_nulos');\n",
              "      }\n",
              "      })();\n",
              "    </script>\n",
              "  </div>\n",
              "\n",
              "    </div>\n",
              "  </div>\n"
            ],
            "application/vnd.google.colaboratory.intrinsic+json": {
              "type": "dataframe",
              "variable_name": "resumen_nulos",
              "summary": "{\n  \"name\": \"resumen_nulos\",\n  \"rows\": 0,\n  \"fields\": [\n    {\n      \"column\": \"Cantidad de Nulos\",\n      \"properties\": {\n        \"dtype\": \"number\",\n        \"std\": null,\n        \"min\": null,\n        \"max\": null,\n        \"num_unique_values\": 0,\n        \"samples\": [],\n        \"semantic_type\": \"\",\n        \"description\": \"\"\n      }\n    },\n    {\n      \"column\": \"Porcentaje de Nulos\",\n      \"properties\": {\n        \"dtype\": \"number\",\n        \"std\": null,\n        \"min\": null,\n        \"max\": null,\n        \"num_unique_values\": 0,\n        \"samples\": [],\n        \"semantic_type\": \"\",\n        \"description\": \"\"\n      }\n    }\n  ]\n}"
            }
          },
          "metadata": {},
          "execution_count": 28
        }
      ]
    },
    {
      "cell_type": "markdown",
      "metadata": {
        "id": "e026d7f4"
      },
      "source": [
        "Con este avistamiento de lo valores del conjunto de datos, se puede evidenciar que no cuentan con valores nulos dentro de los registros por lo que no está la necesidad de implementar un tratamiento de datos faltantes. Este hallazgo simplifica la fase de preparación de datos, ya que se elimina la necesidad de realizar imputaciones o eliminaciones de filas debido a la ausencia de valores."
      ]
    },
    {
      "cell_type": "code",
      "source": [
        "edad_minima = data_extended_employee['Age'].min()\n",
        "edad_maxima = data_extended_employee['Age'].max()\n",
        "\n",
        "print(f\"La edad mínima en el conjunto de datos es: {edad_minima} años\")\n",
        "print(f\"La edad máxima en el conjunto de datos es: {edad_maxima} años\")"
      ],
      "metadata": {
        "colab": {
          "base_uri": "https://localhost:8080/"
        },
        "outputId": "ed96375e-5f98-47f4-e8dc-b929cba317e3",
        "id": "lkvftNuywytY"
      },
      "execution_count": null,
      "outputs": [
        {
          "output_type": "stream",
          "name": "stdout",
          "text": [
            "La edad mínima en el conjunto de datos es: 22 años\n",
            "La edad máxima en el conjunto de datos es: 60 años\n"
          ]
        }
      ]
    },
    {
      "cell_type": "markdown",
      "metadata": {
        "id": "3e87a296"
      },
      "source": [
        "Al verificar los rangos de edad en el conjunto de datos, se observa que se encuentran entre **22 y 60 años**. Estos valores son consistentes con un rango de edad razonable y realista para una población empleada. Por lo tanto, no es necesario realizar ningún tipo de tratamiento o limpieza en la columna 'Age' para este dataset, ya que los datos existentes son representativos y no distorsionarán los análisis estadísticos posteriores."
      ]
    },
    {
      "cell_type": "code",
      "source": [
        "import seaborn as sns\n",
        "import matplotlib.pyplot as plt\n",
        "\n",
        "# Crear un boxplot de la columna 'Age'\n",
        "sns.boxplot(x=data_extended_employee['Age'])\n",
        "plt.title('Boxplot de la Edad')\n",
        "plt.show()"
      ],
      "metadata": {
        "colab": {
          "base_uri": "https://localhost:8080/"
        },
        "outputId": "23a0cbfe-3bef-45e4-d3e9-028a3d506748",
        "id": "o5APB9fXwyta"
      },
      "execution_count": null,
      "outputs": [
        {
          "output_type": "display_data",
          "data": {
            "text/plain": [
              "<Figure size 640x480 with 1 Axes>"
            ],
            "image/png": "[encoded data removed]"
          },
          "metadata": {}
        }
      ]
    },
    {
      "cell_type": "code",
      "source": [
        "data_extended_employee['Age'].describe()"
      ],
      "metadata": {
        "colab": {
          "base_uri": "https://localhost:8080/"
        },
        "outputId": "d07e2b6e-4cfb-40ac-c59b-73c717808694",
        "id": "SI9yMRfjwytb"
      },
      "execution_count": null,
      "outputs": [
        {
          "output_type": "execute_result",
          "data": {
            "text/plain": [
              "count    100000.000000\n",
              "mean         41.029410\n",
              "std          11.244121\n",
              "min          22.000000\n",
              "25%          31.000000\n",
              "50%          41.000000\n",
              "75%          51.000000\n",
              "max          60.000000\n",
              "Name: Age, dtype: float64"
            ],
            "text/html": [
              "<div>\n",
              "<style scoped>\n",
              "    .dataframe tbody tr th:only-of-type {\n",
              "        vertical-align: middle;\n",
              "    }\n",
              "\n",
              "    .dataframe tbody tr th {\n",
              "        vertical-align: top;\n",
              "    }\n",
              "\n",
              "    .dataframe thead th {\n",
              "        text-align: right;\n",
              "    }\n",
              "</style>\n",
              "<table border=\"1\" class=\"dataframe\">\n",
              "  <thead>\n",
              "    <tr style=\"text-align: right;\">\n",
              "      <th></th>\n",
              "      <th>Age</th>\n",
              "    </tr>\n",
              "  </thead>\n",
              "  <tbody>\n",
              "    <tr>\n",
              "      <th>count</th>\n",
              "      <td>100000.000000</td>\n",
              "    </tr>\n",
              "    <tr>\n",
              "      <th>mean</th>\n",
              "      <td>41.029410</td>\n",
              "    </tr>\n",
              "    <tr>\n",
              "      <th>std</th>\n",
              "      <td>11.244121</td>\n",
              "    </tr>\n",
              "    <tr>\n",
              "      <th>min</th>\n",
              "      <td>22.000000</td>\n",
              "    </tr>\n",
              "    <tr>\n",
              "      <th>25%</th>\n",
              "      <td>31.000000</td>\n",
              "    </tr>\n",
              "    <tr>\n",
              "      <th>50%</th>\n",
              "      <td>41.000000</td>\n",
              "    </tr>\n",
              "    <tr>\n",
              "      <th>75%</th>\n",
              "      <td>51.000000</td>\n",
              "    </tr>\n",
              "    <tr>\n",
              "      <th>max</th>\n",
              "      <td>60.000000</td>\n",
              "    </tr>\n",
              "  </tbody>\n",
              "</table>\n",
              "</div><br><label><b>dtype:</b> float64</label>"
            ]
          },
          "metadata": {},
          "execution_count": 31
        }
      ]
    },
    {
      "cell_type": "markdown",
      "metadata": {
        "id": "93a7d010"
      },
      "source": [
        "El análisis estadístico de la variable edad en el conjunto de datos revela información clave sobre la muestra. Con un total de **100,000 registros**, se establece una base sólida para el estudio. La **edad promedio** de los empleados es de aproximadamente **41 años**, con una **desviación estándar** de aproximadamente **11.24 años**, lo que indica una dispersión moderada de las edades alrededor de la media.\n",
        "\n",
        "La **mediana** es de **41 años**, muy cercana a la media, lo que sugiere una distribución de edad relativamente simétrica. Los valores **mínimo (22 años)** y **máximo (60 años)** definen el rango de edad de los empleados en este dataset. El **rango intercuartílico** (entre el 25% y el 75%) se encuentra entre los **31 y 51 años**, indicando que la mitad central de los empleados tienen edades comprendidas en este intervalo."
      ]
    },
    {
      "cell_type": "markdown",
      "metadata": {
        "id": "447ad6f5"
      },
      "source": [
        "### **2.3. Resumen de la Calidad de los datos**\n",
        "---\n",
        "\n",
        "- ¿Se detecta la ausencia de datos, la presencia de datos erróneos o la existencia de datos de baja calidad en el conjunto?\n",
        "- ¿Se identifican registros con datos ilegibles o con dificultades de codificación durante la revisión del conjunto de datos?\n",
        "- ¿Se observa una diversidad de formatos en el conjunto de datos que pueda dificultar su consistencia o comprensión?\n",
        "- ¿Se identificaron y abordaron posibles problemas, como valores atípicos, duplicados o datos faltantes?"
      ]
    },
    {
      "cell_type": "markdown",
      "source": [
        "#### Dataset Mental Health in Tech Survey\n"
      ],
      "metadata": {
        "id": "7H1egAzkS0JU"
      }
    },
    {
      "cell_type": "markdown",
      "metadata": {
        "id": "16e86c35"
      },
      "source": [
        "##### **¿Se detecta la ausencia de datos, la presencia de datos erróneos o la existencia de datos de baja calidad en el conjunto?**\n",
        "Durante la exploración inicial del conjunto de datos \"Mental Health in Tech Survey\", se detectaron los siguientes problemas de calidad de datos:\n",
        "\n",
        "- **Ausencia de Datos:** Se encontraron valores nulos en varias columnas, siendo las más afectadas 'state' (40.9%), 'work_interfere' (21.0%) y 'comments' (87.0%).\n",
        "- **Datos Erróneos/Atípicos:** La columna 'Age' presentó valores atípicos extremos (edades mínimas negativas y máximas extremadamente altas) que no son coherentes con la realidad, indicando errores en la recolección o ingreso de datos.\n",
        "- **Inconsistencia de Formatos:** La columna 'Gender' mostró una gran diversidad de entradas para el mismo género (ej. 'Male', 'male', 'M', 'm'), lo que requirió estandarización para un análisis coherente.\n",
        "- **Datos de Baja Calidad/Irrelevantes:** La columna 'comments' tuvo un porcentaje muy alto de valores nulos, lo que la hace poco útil para análisis cuantitativos."
      ]
    },
    {
      "cell_type": "markdown",
      "metadata": {
        "id": "4939a447"
      },
      "source": [
        "##### **¿Se identifican registros con datos ilegibles o con dificultades de codificación durante la revisión del conjunto de datos?**\n",
        "\n",
        "Al revisar las columnas como `benefits`, `care_options`, `wellness_program`, `seek_help`, `anonymity`, `mental_health_consequence`, `phys_health_consequence`, `supervisor`, `mental_health_interview`, `phys_health_interview`, y `mental_vs_physical`, observamos que, aunque se esperaba que fueran booleanas (verdadero/falso), presentan respuestas con tres categorías: \"Sí\", \"No\" y \"No sé\" (o similar, como \"Don't know\", \"Not sure\", \"Maybe\", \"Some of them\").\n",
        "\n",
        "Esto significa que no podemos simplemente convertirlas a un tipo de dato booleano estándar (`True`/`False`), ya que un valor booleano solo puede representar dos estados. La presencia de una tercera categoría (\"No sé\") indica que estas columnas son de tipo **categórico nominal** con tres niveles.\n",
        "\n",
        "Para trabajar con ellas en análisis posteriores, especialmente en modelos que requieren datos numéricos, será necesario aplicar técnicas de codificación para variables categóricas, como One-Hot Encoding o Label Encoding, dependiendo del tipo de análisis que se vaya a realizar. Esto permitirá representar la información de estas tres categorías de manera adecuada para los algoritmos."
      ]
    },
    {
      "cell_type": "code",
      "source": [
        "display(df_fil_data_mental_health['benefits'].value_counts())\n",
        "display(df_fil_data_mental_health['care_options'].value_counts())\n",
        "display(df_fil_data_mental_health['wellness_program'].value_counts())\n",
        "display(df_fil_data_mental_health['seek_help'].value_counts())\n",
        "display(df_fil_data_mental_health['anonymity'].value_counts())\n",
        "display(df_fil_data_mental_health['mental_health_consequence'].value_counts())\n",
        "display(df_fil_data_mental_health['phys_health_consequence'].value_counts())\n",
        "display(df_fil_data_mental_health['supervisor'].value_counts())\n",
        "display(df_fil_data_mental_health['mental_health_interview'].value_counts())\n",
        "display(df_fil_data_mental_health['phys_health_interview'].value_counts())\n",
        "display(df_fil_data_mental_health['mental_vs_physical'].value_counts())"
      ],
      "metadata": {
        "colab": {
          "base_uri": "https://localhost:8080/"
        },
        "id": "6n_NsFh-QSNK",
        "outputId": "cfbfbe6e-60b5-4f2e-9cda-4cb0f57a01f9"
      },
      "execution_count": null,
      "outputs": [
        {
          "output_type": "display_data",
          "data": {
            "text/plain": [
              "benefits\n",
              "Yes           472\n",
              "Don't know    407\n",
              "No            371\n",
              "Name: count, dtype: int64"
            ],
            "text/html": [
              "<div>\n",
              "<style scoped>\n",
              "    .dataframe tbody tr th:only-of-type {\n",
              "        vertical-align: middle;\n",
              "    }\n",
              "\n",
              "    .dataframe tbody tr th {\n",
              "        vertical-align: top;\n",
              "    }\n",
              "\n",
              "    .dataframe thead th {\n",
              "        text-align: right;\n",
              "    }\n",
              "</style>\n",
              "<table border=\"1\" class=\"dataframe\">\n",
              "  <thead>\n",
              "    <tr style=\"text-align: right;\">\n",
              "      <th></th>\n",
              "      <th>count</th>\n",
              "    </tr>\n",
              "    <tr>\n",
              "      <th>benefits</th>\n",
              "      <th></th>\n",
              "    </tr>\n",
              "  </thead>\n",
              "  <tbody>\n",
              "    <tr>\n",
              "      <th>Yes</th>\n",
              "      <td>472</td>\n",
              "    </tr>\n",
              "    <tr>\n",
              "      <th>Don't know</th>\n",
              "      <td>407</td>\n",
              "    </tr>\n",
              "    <tr>\n",
              "      <th>No</th>\n",
              "      <td>371</td>\n",
              "    </tr>\n",
              "  </tbody>\n",
              "</table>\n",
              "</div><br><label><b>dtype:</b> int64</label>"
            ]
          },
          "metadata": {}
        },
        {
          "output_type": "display_data",
          "data": {
            "text/plain": [
              "care_options\n",
              "No          499\n",
              "Yes         439\n",
              "Not sure    312\n",
              "Name: count, dtype: int64"
            ],
            "text/html": [
              "<div>\n",
              "<style scoped>\n",
              "    .dataframe tbody tr th:only-of-type {\n",
              "        vertical-align: middle;\n",
              "    }\n",
              "\n",
              "    .dataframe tbody tr th {\n",
              "        vertical-align: top;\n",
              "    }\n",
              "\n",
              "    .dataframe thead th {\n",
              "        text-align: right;\n",
              "    }\n",
              "</style>\n",
              "<table border=\"1\" class=\"dataframe\">\n",
              "  <thead>\n",
              "    <tr style=\"text-align: right;\">\n",
              "      <th></th>\n",
              "      <th>count</th>\n",
              "    </tr>\n",
              "    <tr>\n",
              "      <th>care_options</th>\n",
              "      <th></th>\n",
              "    </tr>\n",
              "  </thead>\n",
              "  <tbody>\n",
              "    <tr>\n",
              "      <th>No</th>\n",
              "      <td>499</td>\n",
              "    </tr>\n",
              "    <tr>\n",
              "      <th>Yes</th>\n",
              "      <td>439</td>\n",
              "    </tr>\n",
              "    <tr>\n",
              "      <th>Not sure</th>\n",
              "      <td>312</td>\n",
              "    </tr>\n",
              "  </tbody>\n",
              "</table>\n",
              "</div><br><label><b>dtype:</b> int64</label>"
            ]
          },
          "metadata": {}
        },
        {
          "output_type": "display_data",
          "data": {
            "text/plain": [
              "wellness_program\n",
              "No            837\n",
              "Yes           227\n",
              "Don't know    186\n",
              "Name: count, dtype: int64"
            ],
            "text/html": [
              "<div>\n",
              "<style scoped>\n",
              "    .dataframe tbody tr th:only-of-type {\n",
              "        vertical-align: middle;\n",
              "    }\n",
              "\n",
              "    .dataframe tbody tr th {\n",
              "        vertical-align: top;\n",
              "    }\n",
              "\n",
              "    .dataframe thead th {\n",
              "        text-align: right;\n",
              "    }\n",
              "</style>\n",
              "<table border=\"1\" class=\"dataframe\">\n",
              "  <thead>\n",
              "    <tr style=\"text-align: right;\">\n",
              "      <th></th>\n",
              "      <th>count</th>\n",
              "    </tr>\n",
              "    <tr>\n",
              "      <th>wellness_program</th>\n",
              "      <th></th>\n",
              "    </tr>\n",
              "  </thead>\n",
              "  <tbody>\n",
              "    <tr>\n",
              "      <th>No</th>\n",
              "      <td>837</td>\n",
              "    </tr>\n",
              "    <tr>\n",
              "      <th>Yes</th>\n",
              "      <td>227</td>\n",
              "    </tr>\n",
              "    <tr>\n",
              "      <th>Don't know</th>\n",
              "      <td>186</td>\n",
              "    </tr>\n",
              "  </tbody>\n",
              "</table>\n",
              "</div><br><label><b>dtype:</b> int64</label>"
            ]
          },
          "metadata": {}
        },
        {
          "output_type": "display_data",
          "data": {
            "text/plain": [
              "seek_help\n",
              "No            641\n",
              "Don't know    363\n",
              "Yes           246\n",
              "Name: count, dtype: int64"
            ],
            "text/html": [
              "<div>\n",
              "<style scoped>\n",
              "    .dataframe tbody tr th:only-of-type {\n",
              "        vertical-align: middle;\n",
              "    }\n",
              "\n",
              "    .dataframe tbody tr th {\n",
              "        vertical-align: top;\n",
              "    }\n",
              "\n",
              "    .dataframe thead th {\n",
              "        text-align: right;\n",
              "    }\n",
              "</style>\n",
              "<table border=\"1\" class=\"dataframe\">\n",
              "  <thead>\n",
              "    <tr style=\"text-align: right;\">\n",
              "      <th></th>\n",
              "      <th>count</th>\n",
              "    </tr>\n",
              "    <tr>\n",
              "      <th>seek_help</th>\n",
              "      <th></th>\n",
              "    </tr>\n",
              "  </thead>\n",
              "  <tbody>\n",
              "    <tr>\n",
              "      <th>No</th>\n",
              "      <td>641</td>\n",
              "    </tr>\n",
              "    <tr>\n",
              "      <th>Don't know</th>\n",
              "      <td>363</td>\n",
              "    </tr>\n",
              "    <tr>\n",
              "      <th>Yes</th>\n",
              "      <td>246</td>\n",
              "    </tr>\n",
              "  </tbody>\n",
              "</table>\n",
              "</div><br><label><b>dtype:</b> int64</label>"
            ]
          },
          "metadata": {}
        },
        {
          "output_type": "display_data",
          "data": {
            "text/plain": [
              "anonymity\n",
              "Don't know    814\n",
              "Yes           372\n",
              "No             64\n",
              "Name: count, dtype: int64"
            ],
            "text/html": [
              "<div>\n",
              "<style scoped>\n",
              "    .dataframe tbody tr th:only-of-type {\n",
              "        vertical-align: middle;\n",
              "    }\n",
              "\n",
              "    .dataframe tbody tr th {\n",
              "        vertical-align: top;\n",
              "    }\n",
              "\n",
              "    .dataframe thead th {\n",
              "        text-align: right;\n",
              "    }\n",
              "</style>\n",
              "<table border=\"1\" class=\"dataframe\">\n",
              "  <thead>\n",
              "    <tr style=\"text-align: right;\">\n",
              "      <th></th>\n",
              "      <th>count</th>\n",
              "    </tr>\n",
              "    <tr>\n",
              "      <th>anonymity</th>\n",
              "      <th></th>\n",
              "    </tr>\n",
              "  </thead>\n",
              "  <tbody>\n",
              "    <tr>\n",
              "      <th>Don't know</th>\n",
              "      <td>814</td>\n",
              "    </tr>\n",
              "    <tr>\n",
              "      <th>Yes</th>\n",
              "      <td>372</td>\n",
              "    </tr>\n",
              "    <tr>\n",
              "      <th>No</th>\n",
              "      <td>64</td>\n",
              "    </tr>\n",
              "  </tbody>\n",
              "</table>\n",
              "</div><br><label><b>dtype:</b> int64</label>"
            ]
          },
          "metadata": {}
        },
        {
          "output_type": "display_data",
          "data": {
            "text/plain": [
              "mental_health_consequence\n",
              "No       487\n",
              "Maybe    475\n",
              "Yes      288\n",
              "Name: count, dtype: int64"
            ],
            "text/html": [
              "<div>\n",
              "<style scoped>\n",
              "    .dataframe tbody tr th:only-of-type {\n",
              "        vertical-align: middle;\n",
              "    }\n",
              "\n",
              "    .dataframe tbody tr th {\n",
              "        vertical-align: top;\n",
              "    }\n",
              "\n",
              "    .dataframe thead th {\n",
              "        text-align: right;\n",
              "    }\n",
              "</style>\n",
              "<table border=\"1\" class=\"dataframe\">\n",
              "  <thead>\n",
              "    <tr style=\"text-align: right;\">\n",
              "      <th></th>\n",
              "      <th>count</th>\n",
              "    </tr>\n",
              "    <tr>\n",
              "      <th>mental_health_consequence</th>\n",
              "      <th></th>\n",
              "    </tr>\n",
              "  </thead>\n",
              "  <tbody>\n",
              "    <tr>\n",
              "      <th>No</th>\n",
              "      <td>487</td>\n",
              "    </tr>\n",
              "    <tr>\n",
              "      <th>Maybe</th>\n",
              "      <td>475</td>\n",
              "    </tr>\n",
              "    <tr>\n",
              "      <th>Yes</th>\n",
              "      <td>288</td>\n",
              "    </tr>\n",
              "  </tbody>\n",
              "</table>\n",
              "</div><br><label><b>dtype:</b> int64</label>"
            ]
          },
          "metadata": {}
        },
        {
          "output_type": "display_data",
          "data": {
            "text/plain": [
              "phys_health_consequence\n",
              "No       920\n",
              "Maybe    272\n",
              "Yes       58\n",
              "Name: count, dtype: int64"
            ],
            "text/html": [
              "<div>\n",
              "<style scoped>\n",
              "    .dataframe tbody tr th:only-of-type {\n",
              "        vertical-align: middle;\n",
              "    }\n",
              "\n",
              "    .dataframe tbody tr th {\n",
              "        vertical-align: top;\n",
              "    }\n",
              "\n",
              "    .dataframe thead th {\n",
              "        text-align: right;\n",
              "    }\n",
              "</style>\n",
              "<table border=\"1\" class=\"dataframe\">\n",
              "  <thead>\n",
              "    <tr style=\"text-align: right;\">\n",
              "      <th></th>\n",
              "      <th>count</th>\n",
              "    </tr>\n",
              "    <tr>\n",
              "      <th>phys_health_consequence</th>\n",
              "      <th></th>\n",
              "    </tr>\n",
              "  </thead>\n",
              "  <tbody>\n",
              "    <tr>\n",
              "      <th>No</th>\n",
              "      <td>920</td>\n",
              "    </tr>\n",
              "    <tr>\n",
              "      <th>Maybe</th>\n",
              "      <td>272</td>\n",
              "    </tr>\n",
              "    <tr>\n",
              "      <th>Yes</th>\n",
              "      <td>58</td>\n",
              "    </tr>\n",
              "  </tbody>\n",
              "</table>\n",
              "</div><br><label><b>dtype:</b> int64</label>"
            ]
          },
          "metadata": {}
        },
        {
          "output_type": "display_data",
          "data": {
            "text/plain": [
              "supervisor\n",
              "Yes             511\n",
              "No              390\n",
              "Some of them    349\n",
              "Name: count, dtype: int64"
            ],
            "text/html": [
              "<div>\n",
              "<style scoped>\n",
              "    .dataframe tbody tr th:only-of-type {\n",
              "        vertical-align: middle;\n",
              "    }\n",
              "\n",
              "    .dataframe tbody tr th {\n",
              "        vertical-align: top;\n",
              "    }\n",
              "\n",
              "    .dataframe thead th {\n",
              "        text-align: right;\n",
              "    }\n",
              "</style>\n",
              "<table border=\"1\" class=\"dataframe\">\n",
              "  <thead>\n",
              "    <tr style=\"text-align: right;\">\n",
              "      <th></th>\n",
              "      <th>count</th>\n",
              "    </tr>\n",
              "    <tr>\n",
              "      <th>supervisor</th>\n",
              "      <th></th>\n",
              "    </tr>\n",
              "  </thead>\n",
              "  <tbody>\n",
              "    <tr>\n",
              "      <th>Yes</th>\n",
              "      <td>511</td>\n",
              "    </tr>\n",
              "    <tr>\n",
              "      <th>No</th>\n",
              "      <td>390</td>\n",
              "    </tr>\n",
              "    <tr>\n",
              "      <th>Some of them</th>\n",
              "      <td>349</td>\n",
              "    </tr>\n",
              "  </tbody>\n",
              "</table>\n",
              "</div><br><label><b>dtype:</b> int64</label>"
            ]
          },
          "metadata": {}
        },
        {
          "output_type": "display_data",
          "data": {
            "text/plain": [
              "mental_health_interview\n",
              "No       1002\n",
              "Maybe     207\n",
              "Yes        41\n",
              "Name: count, dtype: int64"
            ],
            "text/html": [
              "<div>\n",
              "<style scoped>\n",
              "    .dataframe tbody tr th:only-of-type {\n",
              "        vertical-align: middle;\n",
              "    }\n",
              "\n",
              "    .dataframe tbody tr th {\n",
              "        vertical-align: top;\n",
              "    }\n",
              "\n",
              "    .dataframe thead th {\n",
              "        text-align: right;\n",
              "    }\n",
              "</style>\n",
              "<table border=\"1\" class=\"dataframe\">\n",
              "  <thead>\n",
              "    <tr style=\"text-align: right;\">\n",
              "      <th></th>\n",
              "      <th>count</th>\n",
              "    </tr>\n",
              "    <tr>\n",
              "      <th>mental_health_interview</th>\n",
              "      <th></th>\n",
              "    </tr>\n",
              "  </thead>\n",
              "  <tbody>\n",
              "    <tr>\n",
              "      <th>No</th>\n",
              "      <td>1002</td>\n",
              "    </tr>\n",
              "    <tr>\n",
              "      <th>Maybe</th>\n",
              "      <td>207</td>\n",
              "    </tr>\n",
              "    <tr>\n",
              "      <th>Yes</th>\n",
              "      <td>41</td>\n",
              "    </tr>\n",
              "  </tbody>\n",
              "</table>\n",
              "</div><br><label><b>dtype:</b> int64</label>"
            ]
          },
          "metadata": {}
        },
        {
          "output_type": "display_data",
          "data": {
            "text/plain": [
              "phys_health_interview\n",
              "Maybe    555\n",
              "No       495\n",
              "Yes      200\n",
              "Name: count, dtype: int64"
            ],
            "text/html": [
              "<div>\n",
              "<style scoped>\n",
              "    .dataframe tbody tr th:only-of-type {\n",
              "        vertical-align: middle;\n",
              "    }\n",
              "\n",
              "    .dataframe tbody tr th {\n",
              "        vertical-align: top;\n",
              "    }\n",
              "\n",
              "    .dataframe thead th {\n",
              "        text-align: right;\n",
              "    }\n",
              "</style>\n",
              "<table border=\"1\" class=\"dataframe\">\n",
              "  <thead>\n",
              "    <tr style=\"text-align: right;\">\n",
              "      <th></th>\n",
              "      <th>count</th>\n",
              "    </tr>\n",
              "    <tr>\n",
              "      <th>phys_health_interview</th>\n",
              "      <th></th>\n",
              "    </tr>\n",
              "  </thead>\n",
              "  <tbody>\n",
              "    <tr>\n",
              "      <th>Maybe</th>\n",
              "      <td>555</td>\n",
              "    </tr>\n",
              "    <tr>\n",
              "      <th>No</th>\n",
              "      <td>495</td>\n",
              "    </tr>\n",
              "    <tr>\n",
              "      <th>Yes</th>\n",
              "      <td>200</td>\n",
              "    </tr>\n",
              "  </tbody>\n",
              "</table>\n",
              "</div><br><label><b>dtype:</b> int64</label>"
            ]
          },
          "metadata": {}
        },
        {
          "output_type": "display_data",
          "data": {
            "text/plain": [
              "mental_vs_physical\n",
              "Don't know    573\n",
              "Yes           339\n",
              "No            338\n",
              "Name: count, dtype: int64"
            ],
            "text/html": [
              "<div>\n",
              "<style scoped>\n",
              "    .dataframe tbody tr th:only-of-type {\n",
              "        vertical-align: middle;\n",
              "    }\n",
              "\n",
              "    .dataframe tbody tr th {\n",
              "        vertical-align: top;\n",
              "    }\n",
              "\n",
              "    .dataframe thead th {\n",
              "        text-align: right;\n",
              "    }\n",
              "</style>\n",
              "<table border=\"1\" class=\"dataframe\">\n",
              "  <thead>\n",
              "    <tr style=\"text-align: right;\">\n",
              "      <th></th>\n",
              "      <th>count</th>\n",
              "    </tr>\n",
              "    <tr>\n",
              "      <th>mental_vs_physical</th>\n",
              "      <th></th>\n",
              "    </tr>\n",
              "  </thead>\n",
              "  <tbody>\n",
              "    <tr>\n",
              "      <th>Don't know</th>\n",
              "      <td>573</td>\n",
              "    </tr>\n",
              "    <tr>\n",
              "      <th>Yes</th>\n",
              "      <td>339</td>\n",
              "    </tr>\n",
              "    <tr>\n",
              "      <th>No</th>\n",
              "      <td>338</td>\n",
              "    </tr>\n",
              "  </tbody>\n",
              "</table>\n",
              "</div><br><label><b>dtype:</b> int64</label>"
            ]
          },
          "metadata": {}
        }
      ]
    },
    {
      "cell_type": "markdown",
      "metadata": {
        "id": "5ab89c20"
      },
      "source": [
        "##### **¿Se observa una diversidad de formatos en el conjunto de datos que pueda dificultar su consistencia o comprensión?**\n",
        "\n",
        "Sí, se observó una diversidad de formatos en el conjunto de datos \"Mental Health in Tech Survey\" que dificultó su consistencia y comprensión inicial, específicamente en la columna `Gender`. Esta columna contenía múltiples variaciones de las mismas categorías (como \"Male\", \"male\", \"M\", \"Man\", etc.), lo que requirió un proceso de estandarización para consolidar las respuestas en categorías uniformes (`Male`, `Female`, `Other`) y asegurar la coherencia para análisis posteriores. Si bien otras columnas categóricas tenían un conjunto de valores más definidos, la ambigüedad en `Gender` fue un ejemplo notable de diversidad de formatos que necesitó tratamiento."
      ]
    },
    {
      "cell_type": "markdown",
      "source": [
        "##### **¿Se identificaron y abordaron posibles problemas, como valores atípicos, duplicados o datos faltantes?**\n",
        "\n",
        "Se abordaron estos problemas mediante las siguientes estrategias:\n",
        "\n",
        "- Los valores nulos en 'state' se imputaron con la categoría \"Desconocido\".\n",
        "- La columna 'comments' se eliminó debido a la alta proporción de valores nulos.\n",
        "- Los valores nulos en 'self_employed' y 'work_interfere' se imputaron con la moda y una nueva categoría \"N/A\" respectivamente.\n",
        "- Los valores erróneos en 'Age' se filtraron para incluir solo un rango de edad aceptable (18-65 años).\n",
        "- Se realizó la estandarización de los valores en la columna 'Gender'."
      ],
      "metadata": {
        "id": "5VhQZbPTjlIh"
      }
    },
    {
      "cell_type": "markdown",
      "source": [
        "#### Dataset Extended Employee Performance and Productivity Data"
      ],
      "metadata": {
        "id": "5BVAoJ51TAJC"
      }
    },
    {
      "cell_type": "markdown",
      "source": [
        "##### **¿Se detecta la ausencia de datos, la presencia de datos erróneos o la existencia de datos de baja calidad en el conjunto?**\n",
        "\n",
        "En este conjunto de datos, un aspecto destacable es la ausencia de valores nulos, como se confirmó al ejecutar el código que calcula la suma de valores nulos por columna, resultando en un DataFrame vacío. Esto simplifica significativamente la fase de preparación de datos, ya que no se requieren técnicas de imputación o eliminación de filas por este motivo.\n",
        "\n",
        "En cuanto a la presencia de datos erróneos, al analizar la columna Age, se verificó que los valores se encuentran dentro de un rango realista para una población empleada (entre 22 y 60 años), lo cual es consistente con la descripción del dataset. La ausencia de valores extremos o inverosímiles en esta variable numérica clave sugiere una buena calidad en este aspecto.\n"
      ],
      "metadata": {
        "id": "nRc_YQSETE5G"
      }
    },
    {
      "cell_type": "markdown",
      "source": [
        "##### **¿Se identifican registros con datos ilegibles o con dificultades de codificación durante la revisión del conjunto de datos?**\n",
        "\n",
        "La revisión inicial de las columnas, incluyendo las de tipo 'object' como `Department`, `Job_Title`, `Education_Level` y `Gender`, no reveló la presencia de datos ilegibles o problemas evidentes de codificación que impidan su lectura o procesamiento. Las distribuciones de frecuencia para estas variables categóricas mostraron valores coherentes y esperados dentro del contexto de un conjunto de datos de recursos humanos.\n"
      ],
      "metadata": {
        "id": "l7o7JhfOTEv0"
      }
    },
    {
      "cell_type": "markdown",
      "source": [
        "##### **¿Se observa una diversidad de formatos en el conjunto de datos que pueda dificultar su consistencia o comprensión?**\n",
        "\n",
        "Las variables numéricas (`int64`, `float64`) y booleanas (`bool`) presentan formatos estándar y consistentes. Las columnas de tipo 'object' manejan cadenas de texto. En general, no se observa una diversidad de formatos que impida la comprensión o consistencia de los datos.\n",
        "\n"
      ],
      "metadata": {
        "id": "tOvQOXjZTEln"
      }
    },
    {
      "cell_type": "markdown",
      "source": [
        "##### **¿Se identificaron y abordaron posibles problemas, como valores atípicos, duplicados o datos faltantes?**\n",
        "\n",
        "Como se mencionó anteriormente, no se identificaron **datos faltantes** en este dataset. Respecto a los **valores atípicos**, el análisis descriptivo de las variables numéricas y el boxplot de la edad no mostraron valores extremos que se aparten significativamente de la distribución principal, lo que sugiere que no hay valores atípicos obvios que requieran un tratamiento específico en esta etapa.\n",
        "\n",
        "La detección y tratamiento de **registros duplicados** no fue un paso explícito realizado en las celdas de análisis , por lo que este aspecto no fue abordado en la exploración inicial."
      ],
      "metadata": {
        "id": "cFUDfM61TEbN"
      }
    },
    {
      "cell_type": "markdown",
      "metadata": {
        "id": "e90ec109"
      },
      "source": [
        "### **2.4. Tipos de variables**\n",
        "---\n",
        "\n",
        "- ¿El conjunto de datos tiene una variable objetivo a estimar?, de ser así, ¿es una variable continúa o categórica?\n",
        "- Analice la distribución de las etiquetas, identifique si hay desbalanceo de datos."
      ]
    },
    {
      "cell_type": "markdown",
      "source": [
        "#### Variable Objetivo\n",
        "\n",
        "Para este estudio, la variable objetivo a estimar es **`work_interfere`**, la cual mide cómo una condición de salud mental impacta en el desempeño laboral. Se trata de una variable **categórica**, ya que sus valores son etiquetas discretas ('Sometimes', 'Never', etc.) y no un rango continuo de números, lo que orienta el análisis hacia modelos de clasificación.\n",
        "\n"
      ],
      "metadata": {
        "id": "YWXieWzhi4MH"
      }
    },
    {
      "cell_type": "markdown",
      "source": [
        "\n",
        "#### Distribución y Desbalanceo de Datos\n",
        "\n",
        "El análisis de la distribución de las etiquetas en la variable `work_interfere` muestra la siguiente composición:\n",
        "| Categoría | Frecuencia |\n",
        "| :--- | :--- |\n",
        "| Sometimes | 464 |\n",
        "| N/A | 262 |\n",
        "| Never | 211 |\n",
        "| Rarely | 173 |\n",
        "| Often | 140 |\n",
        "\n",
        "Aunque la categoría `Sometimes` es la más frecuente, la distribución **no presenta un desbalanceo severo**. Las demás categorías cuentan con un número significativo de observaciones, lo que asegura que el modelo de clasificación tenga suficientes datos de cada clase para aprender y predecir de manera efectiva sin requerir técnicas de rebalanceo de datos."
      ],
      "metadata": {
        "id": "jGrPYiwGkYeo"
      }
    },
    {
      "cell_type": "code",
      "source": [
        "df_fil_data_mental_health['work_interfere'].value_counts()"
      ],
      "metadata": {
        "id": "W8wdQuGMX50Q",
        "colab": {
          "base_uri": "https://localhost:8080/",
          "height": 272
        },
        "outputId": "2245c004-afcc-4873-c8e8-190ed98985b6"
      },
      "execution_count": null,
      "outputs": [
        {
          "output_type": "execute_result",
          "data": {
            "text/plain": [
              "work_interfere\n",
              "Sometimes    464\n",
              "N/A          262\n",
              "Never        211\n",
              "Rarely       173\n",
              "Often        140\n",
              "Name: count, dtype: int64"
            ],
            "text/html": [
              "<div>\n",
              "<style scoped>\n",
              "    .dataframe tbody tr th:only-of-type {\n",
              "        vertical-align: middle;\n",
              "    }\n",
              "\n",
              "    .dataframe tbody tr th {\n",
              "        vertical-align: top;\n",
              "    }\n",
              "\n",
              "    .dataframe thead th {\n",
              "        text-align: right;\n",
              "    }\n",
              "</style>\n",
              "<table border=\"1\" class=\"dataframe\">\n",
              "  <thead>\n",
              "    <tr style=\"text-align: right;\">\n",
              "      <th></th>\n",
              "      <th>count</th>\n",
              "    </tr>\n",
              "    <tr>\n",
              "      <th>work_interfere</th>\n",
              "      <th></th>\n",
              "    </tr>\n",
              "  </thead>\n",
              "  <tbody>\n",
              "    <tr>\n",
              "      <th>Sometimes</th>\n",
              "      <td>464</td>\n",
              "    </tr>\n",
              "    <tr>\n",
              "      <th>N/A</th>\n",
              "      <td>262</td>\n",
              "    </tr>\n",
              "    <tr>\n",
              "      <th>Never</th>\n",
              "      <td>211</td>\n",
              "    </tr>\n",
              "    <tr>\n",
              "      <th>Rarely</th>\n",
              "      <td>173</td>\n",
              "    </tr>\n",
              "    <tr>\n",
              "      <th>Often</th>\n",
              "      <td>140</td>\n",
              "    </tr>\n",
              "  </tbody>\n",
              "</table>\n",
              "</div><br><label><b>dtype:</b> int64</label>"
            ]
          },
          "metadata": {},
          "execution_count": 33
        }
      ]
    },
    {
      "cell_type": "markdown",
      "source": [
        "<img src = \"https://drive.google.com/uc?export=view&id=1rSrsZ04aJ_D3BC67Cy2dBUZ6tmguydNf\" alt = \"Encabezado MLDS\" width = \"100%\">  </img>"
      ],
      "metadata": {
        "id": "IHUwIOG4ds_q"
      }
    },
    {
      "cell_type": "markdown",
      "source": [
        "# **Preparación de los datos**\n",
        "---\n",
        "\n",
        "Este notebook es una plantilla que le puede servir como guía para el tercer entregable del proyecto aplicado."
      ],
      "metadata": {
        "id": "6YAHrT-Udw7T"
      }
    },
    {
      "cell_type": "markdown",
      "source": [
        "## **1. Limpieza de los Datos**\n",
        "---\n",
        "\n",
        "La elección de las técnicas de preprocesamiento puede diferir en cada conjunto de datos. Recuerde que es posible aplicar, según sea necesario (no necesariamente todas), las técnicas generales que se han explorado en el curso. La elección dependerá del tipo de datos con el que esté trabajando.\n",
        "\n",
        "A lo largo de esta entrega, busque responder las siguientes preguntas:\n",
        "\n",
        "- ¿Cuáles fueron los criterios utilizados para identificar y tratar valores atípicos, datos faltantes o cualquier otra anomalía en el conjunto de datos durante el proceso de limpieza?\n",
        "- ¿Cómo se justificaría la necesidad de cada paso de preprocesamiento en términos de mejora de la calidad de los datos y preparación para el análisis subsiguiente?\n",
        "\n",
        "A continuación encontrará los puntos a tratar a medida que va realizando la preparación de los datos. En cada punto defina el estado en que se encontraba el dataset, ademas de explicar y justificar las acciones y decisiones que se tomaron."
      ],
      "metadata": {
        "id": "Z7zdqwNkdz8z"
      }
    },
    {
      "cell_type": "markdown",
      "source": [
        "### **1.1. Valores faltantes**\n",
        "---\n",
        "Al encontrarnos con valores faltantes en el conjunto de datos, es crucial preguntarse:\n",
        "* ¿Cómo afectan estos valores a la integridad y representatividad de la información?\n",
        "* ¿Cómo se identificaron los valores faltantes en el conjunto de datos?\n",
        "* ¿Cuáles fueron los criterios para decidir si rellenar con valores estimados o eliminar los valores faltantes? En caso que aplique, ¿qué método de relleno se utilizó y por qué se consideró apropiado?\n",
        "* ¿Se realizó un análisis de la distribución de los valores faltantes en relación con las variables clave? Por ejemplo, si hay valores faltantes en una variable crítica, ¿cómo podría afectar la interpretación de los resultados?"
      ],
      "metadata": {
        "id": "-2lXPY0td257"
      }
    },
    {
      "cell_type": "code",
      "source": [],
      "metadata": {
        "id": "SNzUXWbzd4FU"
      },
      "execution_count": null,
      "outputs": []
    },
    {
      "cell_type": "markdown",
      "source": [
        "### **1.3. Valores atípicos**\n",
        "---\n",
        "Al abordar valores atípicos, es relevante cuestionarse sobre la naturaleza de estos puntos extremos.\n",
        "* ¿Son errores de medición o representan información válida pero excepcional?\n",
        "* ¿Qué criterios o técnicas se utilizaron para identificar los valores atípicos?\n",
        "* ¿Se aplicaron métodos estadísticos o visuales para detectar los valores atípicos?\n",
        "* ¿Cuál fue la decisión final sobre cómo tratar los valores atípicos y por qué?\n",
        "\n",
        "La elección entre eliminar o transformar estos valores debe basarse en su influencia en la distribución y la interpretación de los resultados, asegurando que el análisis refleje de manera precisa la realidad del conjunto de datos."
      ],
      "metadata": {
        "id": "oY8WR5Vud5kG"
      }
    },
    {
      "cell_type": "code",
      "source": [],
      "metadata": {
        "id": "IAWKU0Jid6zq"
      },
      "execution_count": null,
      "outputs": []
    },
    {
      "cell_type": "markdown",
      "source": [
        "### **1.4. Datos Inconsistentes**\n",
        "---\n",
        "Frente a inconsistencias en los datos, es importante analizar cómo estas discrepancias podrían afectar la comparabilidad y comprensión de la información.\n",
        "\n",
        "* ¿Cómo se identificaron las inconsistencias en los datos?\n",
        "* ¿Las inconsistencias son lo suficientemente significativas como para justificar una estandarización?\n",
        "* ¿Cómo se pueden homogeneizar unidades y formatos para garantizar coherencia en el análisis?\n",
        "* ¿Qué estrategias se implementaron para abordar las inconsistencias y asegurar la coherencia?\n",
        "* ¿Se establecieron reglas de validación específicas para garantizar la consistencia?"
      ],
      "metadata": {
        "id": "qjqKK77Gd9Lq"
      }
    },
    {
      "cell_type": "code",
      "source": [],
      "metadata": {
        "id": "Id8fGSlSd-BS"
      },
      "execution_count": null,
      "outputs": []
    },
    {
      "cell_type": "markdown",
      "source": [
        "### **1.5. Datos corruptos**\n",
        "---\n",
        "En la detección de datos corruptos, pregunte si hay posibles errores de entrada o problemas de transferencia que podrían haber afectado la integridad de los datos.\n",
        "* ¿Cómo se determinó la presencia de datos corruptos en el conjunto de datos?\n",
        "* ¿Qué medidas se tomaron para corregir o eliminar los datos corruptos?\n",
        "* ¿Hubo casos en los que la corrupción de datos no pudo ser manejada y cómo se justificó esa decisión?"
      ],
      "metadata": {
        "id": "C9KUCCDneBTb"
      }
    },
    {
      "cell_type": "code",
      "source": [],
      "metadata": {
        "id": "FSkNnmJheCFD"
      },
      "execution_count": null,
      "outputs": []
    },
    {
      "cell_type": "markdown",
      "source": [
        "### **1.6. Selección de datos**\n",
        "---\n",
        "En la selección de datos, reflexione sobre las variables que son realmente relevantes para sus objetivos de análisis.\n",
        "* ¿Qué criterios se utilizaron para seleccionar los datos relevantes para el análisis?\n",
        "* ¿Se aplicaron técnicas de muestreo o filtrado para reducir el tamaño del conjunto de datos?\n",
        "* ¿Cómo se justificó la inclusión o exclusión de ciertas variables en la selección de datos?"
      ],
      "metadata": {
        "id": "KeY9_AbpeDlk"
      }
    },
    {
      "cell_type": "code",
      "source": [],
      "metadata": {
        "id": "DY1OBAO-eEZc"
      },
      "execution_count": null,
      "outputs": []
    },
    {
      "cell_type": "markdown",
      "source": [
        "## **Créditos**\n",
        "* **Profesor:** [Felipe Restrepo Calle](https://dis.unal.edu.co/~ferestrepoca/)\n",
        "* **Asistentes docentes:**\n",
        "    - [Juan Sebastián Lara Ramírez](https://www.linkedin.com/in/juan-sebastian-lara-ramirez-43570a214/).\n",
        "* **Diseño de imágenes:**\n",
        "    - [Rosa Alejandra Superlano Esquibel](mailto:rsuperlano@unal.edu.co).\n",
        "* **Coordinador de virtualización:**\n",
        "    - [Edder Hernández Forero](https://www.linkedin.com/in/edder-hernandez-forero-28aa8b207/).\n",
        "    \n",
        "**Universidad Nacional de Colombia** - *Facultad de Ingeniería*"
      ],
      "metadata": {
        "id": "ceibuW1dNH9a"
      }
    },
    {
      "cell_type": "code",
      "source": [
        "filename = 'Entrega Proyecto Aplicado.txt'\n",
        "contenido = \"\"\"\n",
        "John Jairo Riano Martinez <jorianom@unal.edu.co> (entrega)\n",
        "María José Jara Herrera <mjarah@unal.edu.co>\n",
        "Gian Karlo Lanziano Baracaldo <glanziano@unal.edu.co>\n",
        "\"\"\"\n",
        "\n",
        "with open(filename, 'w', encoding='utf-8') as f:\n",
        "    f.write(contenido.strip())\n",
        "\n",
        "files.download(filename)"
      ],
      "metadata": {
        "id": "T5jt_letSVXE",
        "colab": {
          "base_uri": "https://localhost:8080/",
          "height": 17
        },
        "outputId": "d9768f91-73ed-416b-86fb-868c26e4fd2b"
      },
      "execution_count": null,
      "outputs": [
        {
          "output_type": "display_data",
          "data": {
            "text/plain": [
              "<IPython.core.display.Javascript object>"
            ],
            "application/javascript": [
              "\n",
              "    async function download(id, filename, size) {\n",
              "      if (!google.colab.kernel.accessAllowed) {\n",
              "        return;\n",
              "      }\n",
              "      const div = document.createElement('div');\n",
              "      const label = document.createElement('label');\n",
              "      label.textContent = `Downloading \"${filename}\": `;\n",
              "      div.appendChild(label);\n",
              "      const progress = document.createElement('progress');\n",
              "      progress.max = size;\n",
              "      div.appendChild(progress);\n",
              "      document.body.appendChild(div);\n",
              "\n",
              "      const buffers = [];\n",
              "      let downloaded = 0;\n",
              "\n",
              "      const channel = await google.colab.kernel.comms.open(id);\n",
              "      // Send a message to notify the kernel that we're ready.\n",
              "      channel.send({})\n",
              "\n",
              "      for await (const message of channel.messages) {\n",
              "        // Send a message to notify the kernel that we're ready.\n",
              "        channel.send({})\n",
              "        if (message.buffers) {\n",
              "          for (const buffer of message.buffers) {\n",
              "            buffers.push(buffer);\n",
              "            downloaded += buffer.byteLength;\n",
              "            progress.value = downloaded;\n",
              "          }\n",
              "        }\n",
              "      }\n",
              "      const blob = new Blob(buffers, {type: 'application/binary'});\n",
              "      const a = document.createElement('a');\n",
              "      a.href = window.URL.createObjectURL(blob);\n",
              "      a.download = filename;\n",
              "      div.appendChild(a);\n",
              "      a.click();\n",
              "      div.remove();\n",
              "    }\n",
              "  "
            ]
          },
          "metadata": {}
        },
        {
          "output_type": "display_data",
          "data": {
            "text/plain": [
              "<IPython.core.display.Javascript object>"
            ],
            "application/javascript": [
              "download(\"download_91a88151-695f-4028-87ac-fd8c3de28bca\", \"Entrega Proyecto Aplicado.txt\", 159)"
            ]
          },
          "metadata": {}
        }
      ]
    }
  ]
}