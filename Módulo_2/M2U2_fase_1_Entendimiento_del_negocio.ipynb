{
  "cells": [
    {
      "cell_type": "markdown",
      "metadata": {
        "id": "view-in-github",
        "colab_type": "text"
      },
      "source": [
        "<a href=\"https://colab.research.google.com/github/StoryChara/Machine-Learning-and-Data-Science-Proyecto/blob/main/M%C3%B3dulo_2/M2U2_fase_1_Entendimiento_del_negocio.ipynb\" target=\"_parent\"><img src=\"https://colab.research.google.com/assets/colab-badge.svg\" alt=\"Open In Colab\"/></a>"
      ]
    },
    {
      "cell_type": "code",
      "source": [
        "from google.colab import files"
      ],
      "metadata": {
        "id": "4Tq3HP8gWaRk"
      },
      "id": "4Tq3HP8gWaRk",
      "execution_count": null,
      "outputs": []
    },
    {
      "cell_type": "markdown",
      "id": "585dcbfa",
      "metadata": {
        "id": "585dcbfa"
      },
      "source": [
        "<img src = \"https://drive.google.com/uc?export=view&id=1FpwoiW7eC_aEKJ53NReEyrW8qAR3RFs0\" alt = \"Encabezado MLDS\" width = \"100%\">  </img>"
      ]
    },
    {
      "cell_type": "markdown",
      "id": "82ea3b5e",
      "metadata": {
        "id": "82ea3b5e"
      },
      "source": [
        "# **Entendimiento del Negocio y Carga de Datos**\n",
        "---\n",
        "\n",
        "Este notebook es una plantilla que le puede servir como guía para el primer entregable del proyecto aplicado."
      ]
    },
    {
      "cell_type": "markdown",
      "metadata": {
        "id": "ZE34UT9NZrYv"
      },
      "source": [
        "## **0. Integrantes del equipo de trabajo**\n",
        "---\n",
        "\n",
        "Por favor incluya los nombres completos y número de identificación de los integrantes del equipo de trabajo:"
      ],
      "id": "ZE34UT9NZrYv"
    },
    {
      "cell_type": "markdown",
      "metadata": {
        "id": "ckNDI7ftUrpa"
      },
      "source": [
        "1. Maria Jose Jara Herrera       - mjarah@unal.edu.co     - C.C 1.030.522.845\n",
        "2. Gian Karlo Lanziano Baracaldo - glanziano@unal.edu.co  - C.C 1.001.316.483\n",
        "3. ---**INGRESE SU RESPUESTA**---"
      ],
      "id": "ckNDI7ftUrpa"
    },
    {
      "cell_type": "markdown",
      "id": "fdb4c33d",
      "metadata": {
        "id": "fdb4c33d"
      },
      "source": [
        "## **1. Marco de Proyecto**\n",
        "---\n",
        "\n",
        "Normalmente, se suele construir un marco de proyecto para mostrar los resultados del entendimiento del negocio. Para ello, se debe dar respuesta a los siguientes elementos:"
      ]
    },
    {
      "cell_type": "markdown",
      "id": "7a974ec1",
      "metadata": {
        "id": "7a974ec1"
      },
      "source": [
        "### **1.1. Trasfondo del Negocio**\n",
        "---\n",
        "\n",
        "- ¿Quién es el cliente o los beneficiarios del proyecto? ¿En qué dominio se encuentran (marketing, medicina, entre otros)?\n",
        "- ¿Qué problemas del negocio o del dominio estamos tratando de solucionar?"
      ]
    },
    {
      "cell_type": "markdown",
      "id": "18d9305a",
      "metadata": {
        "id": "18d9305a"
      },
      "source": [
        "---**INGRESE SU RESPUESTA**---"
      ]
    },
    {
      "cell_type": "markdown",
      "id": "d09c63e5",
      "metadata": {
        "id": "d09c63e5"
      },
      "source": [
        "### **1.2. Alcance**\n",
        "---\n",
        "\n",
        "- ¿Qué  solución se desea implementar?\n",
        "- ¿Cuáles son los límites y fronteras del proyecto de *machine learning*? ¿Qué aspectos específicos del negocio se incluirán y cuáles se excluyen en el alcance del proyecto?\n",
        "- ¿De qué forma el cliente o beneficiario utilizará el producto del proyecto?"
      ]
    },
    {
      "cell_type": "markdown",
      "id": "12e3be6b",
      "metadata": {
        "id": "12e3be6b"
      },
      "source": [
        "---**INGRESE SU RESPUESTA**---"
      ]
    },
    {
      "cell_type": "markdown",
      "id": "370e4a5d",
      "metadata": {
        "id": "370e4a5d"
      },
      "source": [
        "### **1.3. Plan**\n",
        "---\n",
        "\n",
        "Puede agregar una lista de actividades con tiempos estimados, un diagrama de Gantt o integrar alguna herramienta de gestión de proyectos para mostrar la planeación del proyecto como [*Jira*](https://www.atlassian.com/software/jira?&aceid=&adposition=&adgroup=144583570757&campaign=19313283508&creative=641924587890&device=c&keyword=jira%20software%20online&matchtype=p&network=g&placement=&ds_kids=p74602877891&ds_e=GOOGLE&ds_eid=700000001558501&ds_e1=GOOGLE&gad_source=1&gclid=CjwKCAiAqNSsBhAvEiwAn_tmxStBdySS6RxbLNGXE0tWTeJc32ffjQD_1EXZvH6hmQkYZm5bTa3sgBoCX3oQAvD_BwE&gclsrc=aw.ds) o [*Trello*](https://trello.com/?&aceid=&adposition=&adgroup=144675712219&campaign=19250238609&creative=641300630637&device=c&keyword=trello&matchtype=e&network=g&placement=&ds_kids=p74526213668&ds_e=GOOGLE&ds_eid=700000001557344&ds_e1=GOOGLE&gad_source=1&gclid=CjwKCAiAqNSsBhAvEiwAn_tmxWW7Gdzf0Szf-mA-piM2GPM7tk8R0HsgpBALLGHNFq1-2xXMQbxB1RoCs-sQAvD_BwE&gclsrc=aw.ds)."
      ]
    },
    {
      "cell_type": "markdown",
      "id": "3b465355",
      "metadata": {
        "id": "3b465355"
      },
      "source": [
        "---**INGRESE SU RESPUESTA**---"
      ]
    },
    {
      "cell_type": "markdown",
      "id": "4a4e145b",
      "metadata": {
        "id": "4a4e145b"
      },
      "source": [
        "## **2. Datos**\n",
        "---\n",
        "\n",
        "En esta sección debe adjuntar una descripción de los datos y agregar el código que permite su tratamiento."
      ]
    },
    {
      "cell_type": "markdown",
      "id": "2c5f8274",
      "metadata": {
        "id": "2c5f8274"
      },
      "source": [
        "### **2.1. Origen**\n",
        "---\n",
        "\n",
        "- ¿De dónde vienen los datos?\n",
        "- ¿Se usa alguna herramienta o proceso para la descarga de la información?\n",
        "- ¿Qué tipo de datos estamos manejando?"
      ]
    },
    {
      "cell_type": "markdown",
      "id": "7261ad96",
      "metadata": {
        "id": "7261ad96"
      },
      "source": [
        "---**INGRESE SU RESPUESTA**---"
      ]
    },
    {
      "cell_type": "markdown",
      "id": "4a9cc180",
      "metadata": {
        "id": "4a9cc180"
      },
      "source": [
        "### **2.2. Carga o Adquisición de Datos**\n",
        "---\n",
        "\n",
        "Agregue el código necesario en _Python_ para obtener o cargar los datos."
      ]
    },
    {
      "cell_type": "markdown",
      "source": [
        "[Dataset 1](https://www.kaggle.com/datasets/yasserhessein/multiclass-diabetes-dataset)\n",
        "[Dataset 2](https://www.kaggle.com/datasets/mohankrishnathalla/diabetes-health-indicators-dataset)"
      ],
      "metadata": {
        "id": "ANcLJ3KwXMBV"
      },
      "id": "ANcLJ3KwXMBV"
    },
    {
      "cell_type": "code",
      "execution_count": null,
      "id": "1b580368",
      "metadata": {
        "id": "1b580368"
      },
      "outputs": [],
      "source": [
        "# INGRESE SU CÓDIGO"
      ]
    },
    {
      "cell_type": "markdown",
      "id": "698f42d4",
      "metadata": {
        "id": "698f42d4"
      },
      "source": [
        "## **Créditos**\n",
        "---\n",
        "\n",
        "* **Profesor:** [Fabio Augusto Gonzalez](https://dis.unal.edu.co/~fgonza/)\n",
        "* **Asistente docente :**\n",
        "  * [Rosa Alejandra Superlano Esquibel](https://www.linkedin.com/in/alejandrasuperlano/).\n",
        "* **Diseño de imágenes:**\n",
        "    - [Rosa Alejandra Superlano Esquibel](https://www.linkedin.com/in/alejandrasuperlano/).\n",
        "* **Coordinador de virtualización:**\n",
        "    - [Edder Hernández Forero](https://www.linkedin.com/in/edder-hernandez-forero-28aa8b207/).\n",
        "\n",
        "**Universidad Nacional de Colombia** - *Facultad de Ingeniería*"
      ]
    },
    {
      "cell_type": "code",
      "source": [
        "filename = 'Entrega Proyecto Aplicado.txt'\n",
        "contenido = \"\"\"\n",
        "nombre <correo>\n",
        "María José Jara Herrera <mjarah@unal.edu.co>\n",
        "Gian Karlo Lanziano Baracaldo <glanziano@unal.edu.co>\n",
        "\"\"\"\n",
        "\n",
        "with open(filename, 'w', encoding='utf-8') as f:\n",
        "    f.write(contenido.strip())\n",
        "\n",
        "files.download(filename)"
      ],
      "metadata": {
        "id": "HVWKoPx9WXKf"
      },
      "id": "HVWKoPx9WXKf",
      "execution_count": null,
      "outputs": []
    }
  ],
  "metadata": {
    "jupytext": {
      "cell_metadata_filter": "-all"
    },
    "kernelspec": {
      "display_name": "Python 3 (ipykernel)",
      "language": "python",
      "name": "python3"
    },
    "colab": {
      "provenance": [],
      "include_colab_link": true
    }
  },
  "nbformat": 4,
  "nbformat_minor": 5
}